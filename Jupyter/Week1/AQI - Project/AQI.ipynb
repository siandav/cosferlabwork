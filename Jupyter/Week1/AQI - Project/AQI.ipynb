{
 "cells": [
  {
   "cell_type": "markdown",
   "metadata": {
    "toc": true
   },
   "source": [
    "<h1>Table of Contents<span class=\"tocSkip\"></span></h1>\n",
    "<div class=\"toc\"><ul class=\"toc-item\"><li><span><a href=\"#Import-files\" data-toc-modified-id=\"Import-files-1\"><span class=\"toc-item-num\">1&nbsp;&nbsp;</span>Import files</a></span></li><li><span><a href=\"#things-to-do\" data-toc-modified-id=\"things-to-do-2\"><span class=\"toc-item-num\">2&nbsp;&nbsp;</span>things to do</a></span></li></ul></div>"
   ]
  },
  {
   "cell_type": "markdown",
   "metadata": {},
   "source": [
    "# Import files"
   ]
  },
  {
   "cell_type": "code",
   "execution_count": 1,
   "metadata": {},
   "outputs": [],
   "source": [
    "import numpy as np\n",
    "import pandas as pd\n",
    "import matplotlib.pyplot as plt"
   ]
  },
  {
   "cell_type": "code",
   "execution_count": 2,
   "metadata": {},
   "outputs": [],
   "source": [
    "import time\n",
    "from datetime import date"
   ]
  },
  {
   "cell_type": "code",
   "execution_count": 3,
   "metadata": {},
   "outputs": [
    {
     "name": "stdout",
     "output_type": "stream",
     "text": [
      " Volume in drive C is Windows\n",
      " Volume Serial Number is 5E84-33D4\n",
      "\n",
      " Directory of C:\\Users\\Raphael Costa\\Desktop\\Thiago\\Data Mining\\IronHack\\GitHub\\cosferlabwork\\Jupyter\\Week1\\AQI - Project\n",
      "\n",
      "20-Jan-22  10:36 AM    <DIR>          .\n",
      "20-Jan-22  10:22 AM    <DIR>          ..\n",
      "20-Jan-22  10:20 AM    <DIR>          .ipynb_checkpoints\n",
      "20-Jan-22  10:36 AM             7,821 AQI.ipynb\n",
      "20-Jan-22  10:20 AM            15,219 Copenhagen.docx\n",
      "20-Jan-22  10:41 AM    <DIR>          Data\n",
      "20-Jan-22  09:49 AM            54,951 dataset mothly copenhagen.xlsx\n",
      "20-Jan-22  09:52 AM    <DIR>          Taxes\n",
      "               3 File(s)         77,991 bytes\n",
      "               5 Dir(s)  174,924,013,568 bytes free\n"
     ]
    }
   ],
   "source": [
    "ls"
   ]
  },
  {
   "cell_type": "code",
   "execution_count": 4,
   "metadata": {},
   "outputs": [
    {
     "name": "stdout",
     "output_type": "stream",
     "text": [
      "C:\\Users\\Raphael Costa\\Desktop\\Thiago\\Data Mining\\IronHack\\GitHub\\cosferlabwork\\Jupyter\\Week1\\AQI - Project\\Data\n"
     ]
    }
   ],
   "source": [
    "cd C:\\Users\\Raphael Costa\\Desktop\\Thiago\\Data Mining\\IronHack\\GitHub\\cosferlabwork\\Jupyter\\Week1\\AQI - Project\\Data"
   ]
  },
  {
   "cell_type": "code",
   "execution_count": 5,
   "metadata": {},
   "outputs": [
    {
     "name": "stdout",
     "output_type": "stream",
     "text": [
      " Volume in drive C is Windows\n",
      " Volume Serial Number is 5E84-33D4\n",
      "\n",
      " Directory of C:\\Users\\Raphael Costa\\Desktop\\Thiago\\Data Mining\\IronHack\\GitHub\\cosferlabwork\\Jupyter\\Week1\\AQI - Project\\Data\n",
      "\n",
      "20-Jan-22  10:41 AM    <DIR>          .\n",
      "20-Jan-22  10:36 AM    <DIR>          ..\n",
      "20-Jan-22  10:36 AM             2,613 CO.csv\n",
      "20-Jan-22  10:37 AM             3,253 NO.csv\n",
      "20-Jan-22  10:37 AM             3,261 NO2.csv\n",
      "20-Jan-22  10:37 AM             3,225 NOx.csv\n",
      "20-Jan-22  10:38 AM             3,054 O3.csv\n",
      "20-Jan-22  10:38 AM             1,881 PM10(Amb).csv\n",
      "20-Jan-22  10:38 AM             1,057 PM10(TEOM).csv\n",
      "20-Jan-22  10:38 AM             1,076 PM2.5(Amb).csv\n",
      "20-Jan-22  10:17 AM            10,643 PM2.5(TEOM).xlsx\n",
      "20-Jan-22  10:41 AM             1,485 SO2.csv\n",
      "              10 File(s)         31,548 bytes\n",
      "               2 Dir(s)  174,924,013,568 bytes free\n"
     ]
    }
   ],
   "source": [
    "ls"
   ]
  },
  {
   "cell_type": "code",
   "execution_count": 14,
   "metadata": {},
   "outputs": [],
   "source": [
    "data_co=pd.read_csv('CO.csv', encoding='unicode_escape')\n",
    "data_no=pd.read_csv('NO.csv', encoding='unicode_escape')\n",
    "data_no2=pd.read_csv('NO2.csv', encoding='unicode_escape')\n",
    "data_nox=pd.read_csv('NOx.csv', encoding='unicode_escape')\n",
    "data_o3=pd.read_csv('O3.csv', encoding='unicode_escape')\n",
    "data_pm10=pd.read_csv('PM10(TEOM).csv', encoding='unicode_escape')\n",
    "data_pm25=pd.read_excel('PM2.5(TEOM).xlsx', engine='openpyxl')"
   ]
  },
  {
   "cell_type": "markdown",
   "metadata": {},
   "source": [
    "# things to do\n",
    "- standardize header (it's on line 1)\n",
    "- check a way to put the metrics of each file inside the header as well\n",
    "- clean the databases, and see what i'm going to use it (average, or percentil, etc.)"
   ]
  },
  {
   "cell_type": "code",
   "execution_count": null,
   "metadata": {},
   "outputs": [],
   "source": []
  }
 ],
 "metadata": {
  "kernelspec": {
   "display_name": "Python 3",
   "language": "python",
   "name": "python3"
  },
  "language_info": {
   "codemirror_mode": {
    "name": "ipython",
    "version": 3
   },
   "file_extension": ".py",
   "mimetype": "text/x-python",
   "name": "python",
   "nbconvert_exporter": "python",
   "pygments_lexer": "ipython3",
   "version": "3.8.5"
  },
  "toc": {
   "base_numbering": 1,
   "nav_menu": {},
   "number_sections": true,
   "sideBar": true,
   "skip_h1_title": false,
   "title_cell": "Table of Contents",
   "title_sidebar": "Contents",
   "toc_cell": true,
   "toc_position": {},
   "toc_section_display": true,
   "toc_window_display": false
  }
 },
 "nbformat": 4,
 "nbformat_minor": 4
}
