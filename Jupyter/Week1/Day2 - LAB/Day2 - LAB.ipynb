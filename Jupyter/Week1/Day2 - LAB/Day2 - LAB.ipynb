{
 "cells": [
  {
   "cell_type": "markdown",
   "metadata": {
    "toc": true
   },
   "source": [
    "<h1>Table of Contents<span class=\"tocSkip\"></span></h1>\n",
    "<div class=\"toc\"><ul class=\"toc-item\"><li><span><a href=\"#Read-the-three-files-into-python-as-dataframes\" data-toc-modified-id=\"Read-the-three-files-into-python-as-dataframes-1\"><span class=\"toc-item-num\">1&nbsp;&nbsp;</span>Read the three files into python as dataframes</a></span></li><li><span><a href=\"#Standardize-header-names-and-rearrange-the-columns-in-the-dataframe-as-needed\" data-toc-modified-id=\"Standardize-header-names-and-rearrange-the-columns-in-the-dataframe-as-needed-2\"><span class=\"toc-item-num\">2&nbsp;&nbsp;</span>Standardize header names and rearrange the columns in the dataframe as needed</a></span></li><li><span><a href=\"#Show-the-DataFrame's-shape\" data-toc-modified-id=\"Show-the-DataFrame's-shape-3\"><span class=\"toc-item-num\">3&nbsp;&nbsp;</span>Show the DataFrame's shape</a></span></li><li><span><a href=\"#Concatenate-the-three-dataframes\" data-toc-modified-id=\"Concatenate-the-three-dataframes-4\"><span class=\"toc-item-num\">4&nbsp;&nbsp;</span>Concatenate the three dataframes</a></span></li><li><span><a href=\"#Which-columns-are-numerical?-Which-columns-are-categorical?\" data-toc-modified-id=\"Which-columns-are-numerical?-Which-columns-are-categorical?-5\"><span class=\"toc-item-num\">5&nbsp;&nbsp;</span>Which columns are numerical? Which columns are categorical?</a></span></li><li><span><a href=\"#Understand-the-meaning-of-all-columns\" data-toc-modified-id=\"Understand-the-meaning-of-all-columns-6\"><span class=\"toc-item-num\">6&nbsp;&nbsp;</span>Understand the meaning of all columns</a></span></li><li><span><a href=\"#Cleaning\" data-toc-modified-id=\"Cleaning-7\"><span class=\"toc-item-num\">7&nbsp;&nbsp;</span>Cleaning</a></span><ul class=\"toc-item\"><li><span><a href=\"#Delete-the-column-education-and-the-number-of-open-complaints-from-the-dataframe.\" data-toc-modified-id=\"Delete-the-column-education-and-the-number-of-open-complaints-from-the-dataframe.-7.1\"><span class=\"toc-item-num\">7.1&nbsp;&nbsp;</span>Delete the column education and the number of open complaints from the dataframe.</a></span></li><li><span><a href=\"#Correct-the-values-in-the-column-customer-lifetime-value.-They-are-given-as-a-percent,-so-multiply-them-by-100-and-change-dtype-to-numerical-type.\" data-toc-modified-id=\"Correct-the-values-in-the-column-customer-lifetime-value.-They-are-given-as-a-percent,-so-multiply-them-by-100-and-change-dtype-to-numerical-type.-7.2\"><span class=\"toc-item-num\">7.2&nbsp;&nbsp;</span>Correct the values in the column customer lifetime value. They are given as a percent, so multiply them by 100 and change dtype to numerical type.</a></span></li><li><span><a href=\"#Check-for-duplicate-rows-in-the-data-and-remove-if-any.\" data-toc-modified-id=\"Check-for-duplicate-rows-in-the-data-and-remove-if-any.-7.3\"><span class=\"toc-item-num\">7.3&nbsp;&nbsp;</span>Check for duplicate rows in the data and remove if any.</a></span></li><li><span><a href=\"#Filter-out-the-data-for-customers-who-have-an-income-of-0-or-less.\" data-toc-modified-id=\"Filter-out-the-data-for-customers-who-have-an-income-of-0-or-less.-7.4\"><span class=\"toc-item-num\">7.4&nbsp;&nbsp;</span>Filter out the data for customers who have an income of 0 or less.</a></span></li></ul></li></ul></div>"
   ]
  },
  {
   "cell_type": "markdown",
   "metadata": {},
   "source": [
    "# Read the three files into python as dataframes"
   ]
  },
  {
   "cell_type": "code",
   "execution_count": 1,
   "metadata": {},
   "outputs": [],
   "source": [
    "import numpy as np\n",
    "import pandas as pd"
   ]
  },
  {
   "cell_type": "code",
   "execution_count": 2,
   "metadata": {},
   "outputs": [
    {
     "name": "stdout",
     "output_type": "stream",
     "text": [
      "C:\\Users\\Raphael Costa\\Desktop\\Thiago\\Data Mining\\IronHack\\GitHub\\cosferlabwork\\Jupyter\\Week1\\Day2 - LAB\n"
     ]
    }
   ],
   "source": [
    "cd C:\\Users\\Raphael Costa\\Desktop\\Thiago\\Data Mining\\IronHack\\GitHub\\cosferlabwork\\Jupyter\\Week1\\Day2 - LAB"
   ]
  },
  {
   "cell_type": "code",
   "execution_count": 3,
   "metadata": {},
   "outputs": [],
   "source": [
    "file1 = pd.read_excel(\"file1.xlsx\", engine='openpyxl')\n",
    "file2 = pd.read_excel(\"file2.xlsx\", engine='openpyxl')\n",
    "file3 = pd.read_excel(\"file3.xlsx\", engine='openpyxl')"
   ]
  },
  {
   "cell_type": "markdown",
   "metadata": {},
   "source": [
    "# Standardize header names and rearrange the columns in the dataframe as needed"
   ]
  },
  {
   "cell_type": "code",
   "execution_count": 4,
   "metadata": {},
   "outputs": [],
   "source": [
    "# rename head to be easier to concat file1, file2, filexl1, filexl2\n",
    "new_header = {'ST':'State', 'GENDER':'Gender'}\n",
    "file1.rename(columns=new_header,inplace=True)\n",
    "file2.rename(columns=new_header,inplace=True)"
   ]
  },
  {
   "cell_type": "markdown",
   "metadata": {},
   "source": [
    "# Show the DataFrame's shape"
   ]
  },
  {
   "cell_type": "code",
   "execution_count": 5,
   "metadata": {},
   "outputs": [
    {
     "name": "stdout",
     "output_type": "stream",
     "text": [
      "(1071, 11)\n",
      "(996, 11)\n",
      "(7070, 11)\n"
     ]
    }
   ],
   "source": [
    "print(file1.shape)\n",
    "print(file2.shape)\n",
    "print(file3.shape)"
   ]
  },
  {
   "cell_type": "markdown",
   "metadata": {},
   "source": [
    "# Concatenate the three dataframes"
   ]
  },
  {
   "cell_type": "code",
   "execution_count": 6,
   "metadata": {},
   "outputs": [
    {
     "data": {
      "text/html": [
       "<div>\n",
       "<style scoped>\n",
       "    .dataframe tbody tr th:only-of-type {\n",
       "        vertical-align: middle;\n",
       "    }\n",
       "\n",
       "    .dataframe tbody tr th {\n",
       "        vertical-align: top;\n",
       "    }\n",
       "\n",
       "    .dataframe thead th {\n",
       "        text-align: right;\n",
       "    }\n",
       "</style>\n",
       "<table border=\"1\" class=\"dataframe\">\n",
       "  <thead>\n",
       "    <tr style=\"text-align: right;\">\n",
       "      <th></th>\n",
       "      <th>Customer</th>\n",
       "      <th>State</th>\n",
       "      <th>Gender</th>\n",
       "      <th>Education</th>\n",
       "      <th>Customer Lifetime Value</th>\n",
       "      <th>Income</th>\n",
       "      <th>Monthly Premium Auto</th>\n",
       "      <th>Number of Open Complaints</th>\n",
       "      <th>Policy Type</th>\n",
       "      <th>Vehicle Class</th>\n",
       "      <th>Total Claim Amount</th>\n",
       "    </tr>\n",
       "  </thead>\n",
       "  <tbody>\n",
       "    <tr>\n",
       "      <th>0</th>\n",
       "      <td>RB50392</td>\n",
       "      <td>Washington</td>\n",
       "      <td>NaN</td>\n",
       "      <td>Master</td>\n",
       "      <td>NaN</td>\n",
       "      <td>0</td>\n",
       "      <td>1000</td>\n",
       "      <td>1/0/00</td>\n",
       "      <td>Personal Auto</td>\n",
       "      <td>Four-Door Car</td>\n",
       "      <td>2.704934</td>\n",
       "    </tr>\n",
       "  </tbody>\n",
       "</table>\n",
       "</div>"
      ],
      "text/plain": [
       "  Customer       State Gender Education Customer Lifetime Value  Income  \\\n",
       "0  RB50392  Washington    NaN    Master                     NaN       0   \n",
       "\n",
       "   Monthly Premium Auto Number of Open Complaints    Policy Type  \\\n",
       "0                  1000                    1/0/00  Personal Auto   \n",
       "\n",
       "   Vehicle Class  Total Claim Amount  \n",
       "0  Four-Door Car            2.704934  "
      ]
     },
     "execution_count": 6,
     "metadata": {},
     "output_type": "execute_result"
    }
   ],
   "source": [
    "data=pd.concat([file1,file2,file3], ignore_index=True)\n",
    "\n",
    "data.head(1)"
   ]
  },
  {
   "cell_type": "markdown",
   "metadata": {},
   "source": [
    "# Which columns are numerical? Which columns are categorical?"
   ]
  },
  {
   "cell_type": "code",
   "execution_count": 7,
   "metadata": {},
   "outputs": [
    {
     "name": "stdout",
     "output_type": "stream",
     "text": [
      "<class 'pandas.core.frame.DataFrame'>\n",
      "RangeIndex: 9137 entries, 0 to 9136\n",
      "Data columns (total 11 columns):\n",
      " #   Column                     Non-Null Count  Dtype  \n",
      "---  ------                     --------------  -----  \n",
      " 0   Customer                   9137 non-null   object \n",
      " 1   State                      9137 non-null   object \n",
      " 2   Gender                     9015 non-null   object \n",
      " 3   Education                  9137 non-null   object \n",
      " 4   Customer Lifetime Value    9130 non-null   object \n",
      " 5   Income                     9137 non-null   int64  \n",
      " 6   Monthly Premium Auto       9137 non-null   int64  \n",
      " 7   Number of Open Complaints  9137 non-null   object \n",
      " 8   Policy Type                9137 non-null   object \n",
      " 9   Vehicle Class              9137 non-null   object \n",
      " 10  Total Claim Amount         9137 non-null   float64\n",
      "dtypes: float64(1), int64(2), object(8)\n",
      "memory usage: 785.3+ KB\n"
     ]
    }
   ],
   "source": [
    "data.info()"
   ]
  },
  {
   "cell_type": "markdown",
   "metadata": {},
   "source": [
    "# Understand the meaning of all columns\n",
    "- Customer - ok\n",
    "- State - ok\n",
    "- Gender - ok\n",
    "- Education - will be deleted\n",
    "- Customer Lifetime Value - need to change to float. For that we will multiply for 100 and then change to numeric.\n",
    "- Income - ok\n",
    "- Monthly Premium Auto - ok\n",
    "- Number of Open Complaints - will be deleted\n",
    "- Policy Type - ok\n",
    "- Vehicle Class - ok\n",
    "- Total Claim Amount - ok"
   ]
  },
  {
   "cell_type": "markdown",
   "metadata": {},
   "source": [
    "# Cleaning\n",
    "## Delete the column education and the number of open complaints from the dataframe."
   ]
  },
  {
   "cell_type": "code",
   "execution_count": 8,
   "metadata": {
    "scrolled": true
   },
   "outputs": [],
   "source": [
    "datanew=data.drop(['Education','Number of Open Complaints'], axis = 1)"
   ]
  },
  {
   "cell_type": "code",
   "execution_count": 9,
   "metadata": {},
   "outputs": [
    {
     "name": "stdout",
     "output_type": "stream",
     "text": [
      "<class 'pandas.core.frame.DataFrame'>\n",
      "RangeIndex: 9137 entries, 0 to 9136\n",
      "Data columns (total 9 columns):\n",
      " #   Column                   Non-Null Count  Dtype  \n",
      "---  ------                   --------------  -----  \n",
      " 0   Customer                 9137 non-null   object \n",
      " 1   State                    9137 non-null   object \n",
      " 2   Gender                   9015 non-null   object \n",
      " 3   Customer Lifetime Value  9130 non-null   object \n",
      " 4   Income                   9137 non-null   int64  \n",
      " 5   Monthly Premium Auto     9137 non-null   int64  \n",
      " 6   Policy Type              9137 non-null   object \n",
      " 7   Vehicle Class            9137 non-null   object \n",
      " 8   Total Claim Amount       9137 non-null   float64\n",
      "dtypes: float64(1), int64(2), object(6)\n",
      "memory usage: 642.6+ KB\n"
     ]
    }
   ],
   "source": [
    "datanew.info()"
   ]
  },
  {
   "cell_type": "code",
   "execution_count": 10,
   "metadata": {},
   "outputs": [],
   "source": [
    "data=datanew"
   ]
  },
  {
   "cell_type": "markdown",
   "metadata": {},
   "source": [
    "## Correct the values in the column customer lifetime value. They are given as a percent, so multiply them by 100 and change dtype to numerical type."
   ]
  },
  {
   "cell_type": "code",
   "execution_count": 11,
   "metadata": {},
   "outputs": [],
   "source": [
    "data_clt=data"
   ]
  },
  {
   "cell_type": "code",
   "execution_count": 12,
   "metadata": {},
   "outputs": [],
   "source": [
    "#data_clt['Customer Lifetime Value'].astype('float',errors='ignore')"
   ]
  },
  {
   "cell_type": "code",
   "execution_count": 13,
   "metadata": {},
   "outputs": [],
   "source": [
    "\n",
    "data_clt['Customer Lifetime Value']*=100"
   ]
  },
  {
   "cell_type": "code",
   "execution_count": 14,
   "metadata": {},
   "outputs": [
    {
     "data": {
      "text/plain": [
       "0                                                     NaN\n",
       "1       697953.59%697953.59%697953.59%697953.59%697953...\n",
       "2       1288743.17%1288743.17%1288743.17%1288743.17%12...\n",
       "3       764586.18%764586.18%764586.18%764586.18%764586...\n",
       "4       536307.65%536307.65%536307.65%536307.65%536307...\n",
       "                              ...                        \n",
       "9132                                           2.3406e+06\n",
       "9133                                               309651\n",
       "9134                                               816389\n",
       "9135                                               752444\n",
       "9136                                               261184\n",
       "Name: Customer Lifetime Value, Length: 9137, dtype: object"
      ]
     },
     "execution_count": 14,
     "metadata": {},
     "output_type": "execute_result"
    }
   ],
   "source": [
    "data_clt['Customer Lifetime Value']"
   ]
  },
  {
   "cell_type": "code",
   "execution_count": 15,
   "metadata": {},
   "outputs": [],
   "source": [
    "data_clt['Customer Lifetime Value']=pd.to_numeric(data_clt['Customer Lifetime Value'],errors='coerce')"
   ]
  },
  {
   "cell_type": "code",
   "execution_count": 16,
   "metadata": {},
   "outputs": [
    {
     "name": "stdout",
     "output_type": "stream",
     "text": [
      "<class 'pandas.core.frame.DataFrame'>\n",
      "RangeIndex: 9137 entries, 0 to 9136\n",
      "Data columns (total 9 columns):\n",
      " #   Column                   Non-Null Count  Dtype  \n",
      "---  ------                   --------------  -----  \n",
      " 0   Customer                 9137 non-null   object \n",
      " 1   State                    9137 non-null   object \n",
      " 2   Gender                   9015 non-null   object \n",
      " 3   Customer Lifetime Value  7070 non-null   float64\n",
      " 4   Income                   9137 non-null   int64  \n",
      " 5   Monthly Premium Auto     9137 non-null   int64  \n",
      " 6   Policy Type              9137 non-null   object \n",
      " 7   Vehicle Class            9137 non-null   object \n",
      " 8   Total Claim Amount       9137 non-null   float64\n",
      "dtypes: float64(2), int64(2), object(5)\n",
      "memory usage: 642.6+ KB\n"
     ]
    }
   ],
   "source": [
    "data_clt.info()"
   ]
  },
  {
   "cell_type": "code",
   "execution_count": 17,
   "metadata": {},
   "outputs": [],
   "source": [
    "data=data_clt"
   ]
  },
  {
   "cell_type": "markdown",
   "metadata": {},
   "source": [
    "## Check for duplicate rows in the data and remove if any."
   ]
  },
  {
   "cell_type": "code",
   "execution_count": 18,
   "metadata": {},
   "outputs": [],
   "source": [
    "data_drop=data\n",
    "data_drop=data.drop_duplicates()"
   ]
  },
  {
   "cell_type": "code",
   "execution_count": 19,
   "metadata": {},
   "outputs": [
    {
     "name": "stdout",
     "output_type": "stream",
     "text": [
      "<class 'pandas.core.frame.DataFrame'>\n",
      "RangeIndex: 9137 entries, 0 to 9136\n",
      "Data columns (total 9 columns):\n",
      " #   Column                   Non-Null Count  Dtype  \n",
      "---  ------                   --------------  -----  \n",
      " 0   Customer                 9137 non-null   object \n",
      " 1   State                    9137 non-null   object \n",
      " 2   Gender                   9015 non-null   object \n",
      " 3   Customer Lifetime Value  7070 non-null   float64\n",
      " 4   Income                   9137 non-null   int64  \n",
      " 5   Monthly Premium Auto     9137 non-null   int64  \n",
      " 6   Policy Type              9137 non-null   object \n",
      " 7   Vehicle Class            9137 non-null   object \n",
      " 8   Total Claim Amount       9137 non-null   float64\n",
      "dtypes: float64(2), int64(2), object(5)\n",
      "memory usage: 642.6+ KB\n"
     ]
    }
   ],
   "source": [
    "data.info()"
   ]
  },
  {
   "cell_type": "code",
   "execution_count": 20,
   "metadata": {
    "scrolled": false
   },
   "outputs": [
    {
     "name": "stdout",
     "output_type": "stream",
     "text": [
      "<class 'pandas.core.frame.DataFrame'>\n",
      "RangeIndex: 9134 entries, 0 to 9133\n",
      "Data columns (total 9 columns):\n",
      " #   Column                   Non-Null Count  Dtype  \n",
      "---  ------                   --------------  -----  \n",
      " 0   Customer                 9134 non-null   object \n",
      " 1   State                    9134 non-null   object \n",
      " 2   Gender                   9012 non-null   object \n",
      " 3   Customer Lifetime Value  7070 non-null   float64\n",
      " 4   Income                   9134 non-null   int64  \n",
      " 5   Monthly Premium Auto     9134 non-null   int64  \n",
      " 6   Policy Type              9134 non-null   object \n",
      " 7   Vehicle Class            9134 non-null   object \n",
      " 8   Total Claim Amount       9134 non-null   float64\n",
      "dtypes: float64(2), int64(2), object(5)\n",
      "memory usage: 642.4+ KB\n"
     ]
    }
   ],
   "source": [
    "data_drop.reset_index(drop=True, inplace=True)\n",
    "data_drop.info()"
   ]
  },
  {
   "cell_type": "code",
   "execution_count": 21,
   "metadata": {},
   "outputs": [],
   "source": [
    "data=data_drop"
   ]
  },
  {
   "cell_type": "markdown",
   "metadata": {},
   "source": [
    "## Filter out the data for customers who have an income of 0 or less."
   ]
  },
  {
   "cell_type": "code",
   "execution_count": 22,
   "metadata": {},
   "outputs": [
    {
     "name": "stderr",
     "output_type": "stream",
     "text": [
      "<ipython-input-22-a826caaa286a>:2: SettingWithCopyWarning: \n",
      "A value is trying to be set on a copy of a slice from a DataFrame.\n",
      "Try using .loc[row_indexer,col_indexer] = value instead\n",
      "\n",
      "See the caveats in the documentation: https://pandas.pydata.org/pandas-docs/stable/user_guide/indexing.html#returning-a-view-versus-a-copy\n",
      "  data['Income']=data['Income'].astype('float', errors='ignore')\n"
     ]
    }
   ],
   "source": [
    "# It will be necessary to change the dtype of Income from int to float.\n",
    "data['Income']=data['Income'].astype('float', errors='ignore')"
   ]
  },
  {
   "cell_type": "code",
   "execution_count": 23,
   "metadata": {},
   "outputs": [
    {
     "data": {
      "text/plain": [
       "dtype('float64')"
      ]
     },
     "execution_count": 23,
     "metadata": {},
     "output_type": "execute_result"
    }
   ],
   "source": [
    "data.dtypes['Income']"
   ]
  },
  {
   "cell_type": "code",
   "execution_count": 24,
   "metadata": {
    "scrolled": true
   },
   "outputs": [
    {
     "name": "stdout",
     "output_type": "stream",
     "text": [
      "<class 'pandas.core.frame.DataFrame'>\n",
      "RangeIndex: 9134 entries, 0 to 9133\n",
      "Data columns (total 9 columns):\n",
      " #   Column                   Non-Null Count  Dtype  \n",
      "---  ------                   --------------  -----  \n",
      " 0   Customer                 9134 non-null   object \n",
      " 1   State                    9134 non-null   object \n",
      " 2   Gender                   9012 non-null   object \n",
      " 3   Customer Lifetime Value  7070 non-null   float64\n",
      " 4   Income                   9134 non-null   float64\n",
      " 5   Monthly Premium Auto     9134 non-null   int64  \n",
      " 6   Policy Type              9134 non-null   object \n",
      " 7   Vehicle Class            9134 non-null   object \n",
      " 8   Total Claim Amount       9134 non-null   float64\n",
      "dtypes: float64(3), int64(1), object(5)\n",
      "memory usage: 642.4+ KB\n"
     ]
    }
   ],
   "source": [
    "data.info()"
   ]
  },
  {
   "cell_type": "code",
   "execution_count": 25,
   "metadata": {
    "scrolled": true
   },
   "outputs": [
    {
     "data": {
      "text/html": [
       "<div>\n",
       "<style scoped>\n",
       "    .dataframe tbody tr th:only-of-type {\n",
       "        vertical-align: middle;\n",
       "    }\n",
       "\n",
       "    .dataframe tbody tr th {\n",
       "        vertical-align: top;\n",
       "    }\n",
       "\n",
       "    .dataframe thead th {\n",
       "        text-align: right;\n",
       "    }\n",
       "</style>\n",
       "<table border=\"1\" class=\"dataframe\">\n",
       "  <thead>\n",
       "    <tr style=\"text-align: right;\">\n",
       "      <th></th>\n",
       "      <th>Customer</th>\n",
       "      <th>State</th>\n",
       "      <th>Gender</th>\n",
       "      <th>Customer Lifetime Value</th>\n",
       "      <th>Income</th>\n",
       "      <th>Monthly Premium Auto</th>\n",
       "      <th>Policy Type</th>\n",
       "      <th>Vehicle Class</th>\n",
       "      <th>Total Claim Amount</th>\n",
       "    </tr>\n",
       "  </thead>\n",
       "  <tbody>\n",
       "    <tr>\n",
       "      <th>0</th>\n",
       "      <td>RB50392</td>\n",
       "      <td>Washington</td>\n",
       "      <td>NaN</td>\n",
       "      <td>NaN</td>\n",
       "      <td>0.0</td>\n",
       "      <td>1000</td>\n",
       "      <td>Personal Auto</td>\n",
       "      <td>Four-Door Car</td>\n",
       "      <td>2.704934</td>\n",
       "    </tr>\n",
       "    <tr>\n",
       "      <th>1</th>\n",
       "      <td>QZ44356</td>\n",
       "      <td>Arizona</td>\n",
       "      <td>F</td>\n",
       "      <td>NaN</td>\n",
       "      <td>0.0</td>\n",
       "      <td>94</td>\n",
       "      <td>Personal Auto</td>\n",
       "      <td>Four-Door Car</td>\n",
       "      <td>1131.464935</td>\n",
       "    </tr>\n",
       "    <tr>\n",
       "      <th>3</th>\n",
       "      <td>WW63253</td>\n",
       "      <td>California</td>\n",
       "      <td>M</td>\n",
       "      <td>NaN</td>\n",
       "      <td>0.0</td>\n",
       "      <td>106</td>\n",
       "      <td>Corporate Auto</td>\n",
       "      <td>SUV</td>\n",
       "      <td>529.881344</td>\n",
       "    </tr>\n",
       "    <tr>\n",
       "      <th>7</th>\n",
       "      <td>CF85061</td>\n",
       "      <td>Arizona</td>\n",
       "      <td>M</td>\n",
       "      <td>NaN</td>\n",
       "      <td>0.0</td>\n",
       "      <td>101</td>\n",
       "      <td>Corporate Auto</td>\n",
       "      <td>Four-Door Car</td>\n",
       "      <td>363.029680</td>\n",
       "    </tr>\n",
       "    <tr>\n",
       "      <th>10</th>\n",
       "      <td>SX51350</td>\n",
       "      <td>California</td>\n",
       "      <td>M</td>\n",
       "      <td>NaN</td>\n",
       "      <td>0.0</td>\n",
       "      <td>67</td>\n",
       "      <td>Personal Auto</td>\n",
       "      <td>Four-Door Car</td>\n",
       "      <td>482.400000</td>\n",
       "    </tr>\n",
       "    <tr>\n",
       "      <th>...</th>\n",
       "      <td>...</td>\n",
       "      <td>...</td>\n",
       "      <td>...</td>\n",
       "      <td>...</td>\n",
       "      <td>...</td>\n",
       "      <td>...</td>\n",
       "      <td>...</td>\n",
       "      <td>...</td>\n",
       "      <td>...</td>\n",
       "    </tr>\n",
       "    <tr>\n",
       "      <th>9123</th>\n",
       "      <td>WZ45103</td>\n",
       "      <td>California</td>\n",
       "      <td>F</td>\n",
       "      <td>5.678050e+05</td>\n",
       "      <td>0.0</td>\n",
       "      <td>76</td>\n",
       "      <td>Personal Auto</td>\n",
       "      <td>Four-Door Car</td>\n",
       "      <td>364.800000</td>\n",
       "    </tr>\n",
       "    <tr>\n",
       "      <th>9125</th>\n",
       "      <td>RX91025</td>\n",
       "      <td>California</td>\n",
       "      <td>M</td>\n",
       "      <td>1.987226e+06</td>\n",
       "      <td>0.0</td>\n",
       "      <td>185</td>\n",
       "      <td>Personal Auto</td>\n",
       "      <td>SUV</td>\n",
       "      <td>1950.725547</td>\n",
       "    </tr>\n",
       "    <tr>\n",
       "      <th>9126</th>\n",
       "      <td>AC13887</td>\n",
       "      <td>California</td>\n",
       "      <td>M</td>\n",
       "      <td>4.628995e+05</td>\n",
       "      <td>0.0</td>\n",
       "      <td>67</td>\n",
       "      <td>Corporate Auto</td>\n",
       "      <td>Two-Door Car</td>\n",
       "      <td>482.400000</td>\n",
       "    </tr>\n",
       "    <tr>\n",
       "      <th>9131</th>\n",
       "      <td>TD14365</td>\n",
       "      <td>California</td>\n",
       "      <td>M</td>\n",
       "      <td>8.163890e+05</td>\n",
       "      <td>0.0</td>\n",
       "      <td>85</td>\n",
       "      <td>Corporate Auto</td>\n",
       "      <td>Four-Door Car</td>\n",
       "      <td>790.784983</td>\n",
       "    </tr>\n",
       "    <tr>\n",
       "      <th>9133</th>\n",
       "      <td>Y167826</td>\n",
       "      <td>California</td>\n",
       "      <td>M</td>\n",
       "      <td>2.611837e+05</td>\n",
       "      <td>0.0</td>\n",
       "      <td>77</td>\n",
       "      <td>Corporate Auto</td>\n",
       "      <td>Two-Door Car</td>\n",
       "      <td>369.600000</td>\n",
       "    </tr>\n",
       "  </tbody>\n",
       "</table>\n",
       "<p>2294 rows × 9 columns</p>\n",
       "</div>"
      ],
      "text/plain": [
       "     Customer       State Gender  Customer Lifetime Value  Income  \\\n",
       "0     RB50392  Washington    NaN                      NaN     0.0   \n",
       "1     QZ44356     Arizona      F                      NaN     0.0   \n",
       "3     WW63253  California      M                      NaN     0.0   \n",
       "7     CF85061     Arizona      M                      NaN     0.0   \n",
       "10    SX51350  California      M                      NaN     0.0   \n",
       "...       ...         ...    ...                      ...     ...   \n",
       "9123  WZ45103  California      F             5.678050e+05     0.0   \n",
       "9125  RX91025  California      M             1.987226e+06     0.0   \n",
       "9126  AC13887  California      M             4.628995e+05     0.0   \n",
       "9131  TD14365  California      M             8.163890e+05     0.0   \n",
       "9133  Y167826  California      M             2.611837e+05     0.0   \n",
       "\n",
       "      Monthly Premium Auto     Policy Type  Vehicle Class  Total Claim Amount  \n",
       "0                     1000   Personal Auto  Four-Door Car            2.704934  \n",
       "1                       94   Personal Auto  Four-Door Car         1131.464935  \n",
       "3                      106  Corporate Auto            SUV          529.881344  \n",
       "7                      101  Corporate Auto  Four-Door Car          363.029680  \n",
       "10                      67   Personal Auto  Four-Door Car          482.400000  \n",
       "...                    ...             ...            ...                 ...  \n",
       "9123                    76   Personal Auto  Four-Door Car          364.800000  \n",
       "9125                   185   Personal Auto            SUV         1950.725547  \n",
       "9126                    67  Corporate Auto   Two-Door Car          482.400000  \n",
       "9131                    85  Corporate Auto  Four-Door Car          790.784983  \n",
       "9133                    77  Corporate Auto   Two-Door Car          369.600000  \n",
       "\n",
       "[2294 rows x 9 columns]"
      ]
     },
     "execution_count": 25,
     "metadata": {},
     "output_type": "execute_result"
    }
   ],
   "source": [
    "data[(data['Income']<=0)]"
   ]
  }
 ],
 "metadata": {
  "kernelspec": {
   "display_name": "Python 3",
   "language": "python",
   "name": "python3"
  },
  "language_info": {
   "codemirror_mode": {
    "name": "ipython",
    "version": 3
   },
   "file_extension": ".py",
   "mimetype": "text/x-python",
   "name": "python",
   "nbconvert_exporter": "python",
   "pygments_lexer": "ipython3",
   "version": "3.8.5"
  },
  "toc": {
   "base_numbering": 1,
   "nav_menu": {},
   "number_sections": true,
   "sideBar": true,
   "skip_h1_title": false,
   "title_cell": "Table of Contents",
   "title_sidebar": "Contents",
   "toc_cell": true,
   "toc_position": {},
   "toc_section_display": true,
   "toc_window_display": false
  }
 },
 "nbformat": 4,
 "nbformat_minor": 4
}
