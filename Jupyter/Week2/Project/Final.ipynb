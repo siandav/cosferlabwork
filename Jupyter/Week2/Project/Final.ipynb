{
 "cells": [
  {
   "cell_type": "markdown",
   "metadata": {
    "toc": true
   },
   "source": [
    "<h1>Table of Contents<span class=\"tocSkip\"></span></h1>\n",
    "<div class=\"toc\"><ul class=\"toc-item\"></ul></div>"
   ]
  },
  {
   "cell_type": "code",
   "execution_count": 1,
   "metadata": {},
   "outputs": [],
   "source": [
    "import pandas as pd\n",
    "import numpy as np\n",
    "import re\n",
    "from matplotlib import pyplot as plt\n",
    "import itertools\n",
    "plt.style.use('ggplot')"
   ]
  },
  {
   "cell_type": "code",
   "execution_count": 2,
   "metadata": {},
   "outputs": [
    {
     "data": {
      "text/plain": [
       "0"
      ]
     },
     "execution_count": 2,
     "metadata": {},
     "output_type": "execute_result"
    }
   ],
   "source": [
    "df = pd.read_csv(\"alldata3.csv\")\n",
    "df['reviews'] = df['reviews'].fillna(0) #replace null values with 0.\n",
    "df.head()\n",
    "df = df.dropna(axis=0, how = 'any') #remove rows with all null values\n",
    "sum(df.isnull().any(axis=1)) # check if the removal is successful"
   ]
  },
  {
   "cell_type": "code",
   "execution_count": 3,
   "metadata": {},
   "outputs": [
    {
     "data": {
      "text/plain": [
       "array(['Atlanta, GA', 'Austin, TX', 'Round Rock, TX', 'Cedar Park, TX',\n",
       "       'Boulder, CO', 'Boston, MA', 'Chicago, IL', 'Washington, DC',\n",
       "       'Los Angeles, CA', 'Cambridge, MA', 'Mountain View, CA',\n",
       "       'Manhattan, NY', 'New York, NY', 'Jersey City, NJ', 'Newark, NJ',\n",
       "       'Oakland, NJ', 'Bronx, NY', 'Hoboken, NJ', 'Brooklyn, NY',\n",
       "       'Rutherford, NJ', 'Union, NJ', 'Rahway, NJ', 'Murray Hill, NJ',\n",
       "       'South Plainfield, NJ', 'Queens, NY', 'Little Falls, NJ',\n",
       "       'Florham Park, NJ', 'Troy Hills, NJ', 'Bloomfield, NJ',\n",
       "       'Lynbrook, NY', 'Allendale, NJ', 'Parsippany, NJ',\n",
       "       'West Orange, NJ', 'Kenilworth, NJ', 'Ridgefield, NJ',\n",
       "       'Harrison, NY', 'Montclair, NJ', 'Fort Lee, NJ', 'Carlstadt, NJ',\n",
       "       'Orangeburg, NY', 'Fairfield, NJ', 'Palisades, NY',\n",
       "       'Hackensack, NJ', 'Roseland, NJ', 'East Hanover, NJ',\n",
       "       'Long Beach, NY', 'Whippany, NJ', 'Manhasset, NY', 'Yonkers, NY',\n",
       "       'New Hyde Park, NY', 'Secaucus, NJ', 'Port Washington, NY',\n",
       "       'Staten Island, NY', 'Short Hills, NJ', 'Manhattanville, NY',\n",
       "       'Woodcliff Lake, NJ', 'Redmond, WA', 'San Diego, CA',\n",
       "       'Bedminster, NJ', 'New Brunswick, NJ', 'Seattle, WA',\n",
       "       'San Francisco, CA', 'Redwood City, CA', 'San Mateo, CA',\n",
       "       'Berkeley, CA', 'San Francisco Bay Area, CA', 'Menlo Park, CA',\n",
       "       'Emeryville, CA', 'Oakland, CA', 'South San Francisco, CA',\n",
       "       'Foster City, CA', 'San Carlos, CA', 'Union City, CA',\n",
       "       'Burlingame, CA', 'Belmont, CA', 'Richmond, CA', 'Hayward, CA',\n",
       "       'Novato, CA', 'Alameda, CA', 'San Rafael, CA', 'Pleasant Hill, CA',\n",
       "       'San Bruno, CA', 'San Ramon, CA', 'Lafayette, CA',\n",
       "       'San Leandro, CA', 'Daly City, CA', 'Mill Valley, CA',\n",
       "       'Fremont, CA', 'Martinez, CA', 'Walnut Creek, CA', 'Kentfield, CA',\n",
       "       'Sunnyvale, CA'], dtype=object)"
      ]
     },
     "execution_count": 3,
     "metadata": {},
     "output_type": "execute_result"
    }
   ],
   "source": [
    "newlocation = [str(row).rstrip() for row in df['location']]\n",
    "newlocation = [re.sub('[\\s*]+[\\d]+[\\d]+[\\d]+[\\d]+[\\d]','',row) for row in newlocation]\n",
    "df['newlocation'] = pd.Series(newlocation,index = df.index)\n",
    "df['newlocation'].unique() # Check\n"
   ]
  },
  {
   "cell_type": "code",
   "execution_count": 4,
   "metadata": {
    "scrolled": true
   },
   "outputs": [],
   "source": [
    "city = [re.split(',',row)[0] for row in df['newlocation']]\n",
    "state = [re.split(',',row)[1] for row in df['newlocation']]\n",
    "state = map(lambda x: x.strip(),state)\n",
    "df['city'] = pd.Series(city,index = df.index)\n",
    "df['state'] = pd.Series(state,index = df.index)"
   ]
  },
  {
   "cell_type": "code",
   "execution_count": 5,
   "metadata": {},
   "outputs": [],
   "source": [
    "df['description'] = df['description'].apply(lambda x: re.sub('[^\\w\\s]','', x))"
   ]
  },
  {
   "cell_type": "code",
   "execution_count": 7,
   "metadata": {},
   "outputs": [],
   "source": [
    "df.to_excel('cleandata.xlsx')"
   ]
  },
  {
   "cell_type": "code",
   "execution_count": 8,
   "metadata": {},
   "outputs": [],
   "source": [
    "# Put all string together\n",
    "all_job_description = \"\"\n",
    "for job in df['description']:\n",
    "    all_job_description += \" \" + job"
   ]
  },
  {
   "cell_type": "code",
   "execution_count": 9,
   "metadata": {},
   "outputs": [],
   "source": [
    "# Remove stop words\n",
    "from nltk.corpus import stopwords\n",
    "stop_words = set((stopwords.words('english')))"
   ]
  },
  {
   "cell_type": "code",
   "execution_count": 10,
   "metadata": {},
   "outputs": [
    {
     "data": {
      "text/plain": [
       "3594374"
      ]
     },
     "execution_count": 10,
     "metadata": {},
     "output_type": "execute_result"
    }
   ],
   "source": [
    "from nltk.tokenize import word_tokenize\n",
    "all_job_description_l = all_job_description.lower()\n",
    "tokens = word_tokenize(str(all_job_description_l))\n",
    "len(tokens)"
   ]
  },
  {
   "cell_type": "code",
   "execution_count": 11,
   "metadata": {},
   "outputs": [],
   "source": [
    "filtered_description = []\n",
    "for word in tokens:\n",
    "    if word not in list(stop_words):\n",
    "        filtered_description += [word]"
   ]
  },
  {
   "cell_type": "code",
   "execution_count": 26,
   "metadata": {},
   "outputs": [],
   "source": [
    "filtered_description_string = \"\"\n",
    "for token in filtered_description:\n",
    "    filtered_description_string += ' ' + token"
   ]
  },
  {
   "cell_type": "code",
   "execution_count": 14,
   "metadata": {},
   "outputs": [
    {
     "data": {
      "text/plain": [
       "[('data', 39434),\n",
       " ('experience', 31461),\n",
       " ('work', 18951),\n",
       " ('team', 15981),\n",
       " ('research', 14200),\n",
       " ('skills', 12593),\n",
       " ('development', 12423),\n",
       " ('business', 11787),\n",
       " ('ability', 10107),\n",
       " ('learning', 9630),\n",
       " ('science', 9126),\n",
       " ('years', 9053),\n",
       " ('new', 8943),\n",
       " ('analysis', 8917),\n",
       " ('including', 8344),\n",
       " ('management', 7956),\n",
       " ('working', 7891),\n",
       " ('design', 7882),\n",
       " ('technical', 7828),\n",
       " ('support', 7500),\n",
       " ('required', 7493),\n",
       " ('software', 7453),\n",
       " ('machine', 7378),\n",
       " ('strong', 7362),\n",
       " ('product', 7249),\n",
       " ('engineering', 6854),\n",
       " ('knowledge', 6797),\n",
       " ('systems', 6703),\n",
       " ('related', 6439),\n",
       " ('degree', 6417),\n",
       " ('environment', 6346),\n",
       " ('teams', 6319),\n",
       " ('develop', 6180),\n",
       " ('solutions', 6115),\n",
       " ('analytics', 5851),\n",
       " ('information', 5681),\n",
       " ('qualifications', 5663),\n",
       " ('requirements', 5593),\n",
       " ('opportunity', 5538),\n",
       " ('position', 5529),\n",
       " ('company', 5511),\n",
       " ('us', 5410),\n",
       " ('technology', 5347),\n",
       " ('products', 5285),\n",
       " ('projects', 5140),\n",
       " ('scientists', 5046),\n",
       " ('status', 4924),\n",
       " ('using', 4918),\n",
       " ('project', 4909),\n",
       " ('tools', 4864),\n",
       " ('communication', 4795),\n",
       " ('clinical', 4740),\n",
       " ('help', 4725),\n",
       " ('responsibilities', 4663),\n",
       " ('provide', 4633),\n",
       " ('computer', 4565),\n",
       " ('preferred', 4533),\n",
       " ('amp', 4495),\n",
       " ('job', 4485),\n",
       " ('across', 4457),\n",
       " ('field', 4455),\n",
       " ('andor', 4453),\n",
       " ('must', 4449),\n",
       " ('build', 4315),\n",
       " ('understanding', 4313),\n",
       " ('models', 4305),\n",
       " ('role', 4274),\n",
       " ('statistical', 4158),\n",
       " ('people', 4150),\n",
       " ('services', 4115),\n",
       " ('within', 4020),\n",
       " ('well', 4016),\n",
       " ('customers', 4015),\n",
       " ('customer', 3973),\n",
       " ('technologies', 3912),\n",
       " ('one', 3900),\n",
       " ('equal', 3840),\n",
       " ('problems', 3798),\n",
       " ('engineers', 3794),\n",
       " ('complex', 3784),\n",
       " ('process', 3775),\n",
       " ('use', 3769),\n",
       " ('scientist', 3737),\n",
       " ('may', 3690),\n",
       " ('health', 3674),\n",
       " ('industry', 3647),\n",
       " ('techniques', 3647),\n",
       " ('analytical', 3628),\n",
       " ('employment', 3604),\n",
       " ('building', 3560),\n",
       " ('quality', 3533),\n",
       " ('developing', 3487),\n",
       " ('advanced', 3453),\n",
       " ('excellent', 3405),\n",
       " ('python', 3402),\n",
       " ('make', 3395),\n",
       " ('scientific', 3389),\n",
       " ('clients', 3381),\n",
       " ('key', 3345),\n",
       " ('employer', 3285),\n",
       " ('lead', 3273),\n",
       " ('responsible', 3183),\n",
       " ('disability', 3164),\n",
       " ('results', 3156),\n",
       " ('time', 3155),\n",
       " ('etc', 3119),\n",
       " ('best', 3103),\n",
       " ('system', 3093),\n",
       " ('medical', 3089),\n",
       " ('performance', 3079),\n",
       " ('candidate', 3078),\n",
       " ('large', 3073),\n",
       " ('national', 3029),\n",
       " ('looking', 3020),\n",
       " ('expertise', 2995),\n",
       " ('high', 2979),\n",
       " ('drive', 2964),\n",
       " ('operations', 2964),\n",
       " ('program', 2951),\n",
       " ('applications', 2932),\n",
       " ('world', 2921),\n",
       " ('global', 2899),\n",
       " ('written', 2897),\n",
       " ('highly', 2876),\n",
       " ('insights', 2866),\n",
       " ('gender', 2865),\n",
       " ('also', 2861),\n",
       " ('programming', 2828),\n",
       " ('modeling', 2818),\n",
       " ('marketing', 2816),\n",
       " ('include', 2799),\n",
       " ('methods', 2793),\n",
       " ('youll', 2792),\n",
       " ('maintain', 2752),\n",
       " ('statistics', 2745),\n",
       " ('able', 2732),\n",
       " ('programs', 2728),\n",
       " ('relevant', 2725),\n",
       " ('education', 2715),\n",
       " ('plus', 2713),\n",
       " ('multiple', 2709),\n",
       " ('eg', 2702),\n",
       " ('internal', 2700),\n",
       " ('organization', 2691),\n",
       " ('algorithms', 2682),\n",
       " ('reports', 2680),\n",
       " ('phd', 2656),\n",
       " ('perform', 2647),\n",
       " ('needs', 2605),\n",
       " ('impact', 2604),\n",
       " ('quantitative', 2594),\n",
       " ('create', 2592),\n",
       " ('deep', 2591),\n",
       " ('apply', 2585),\n",
       " ('part', 2577),\n",
       " ('join', 2557),\n",
       " ('processes', 2556),\n",
       " ('leadership', 2552),\n",
       " ('ensure', 2539),\n",
       " ('opportunities', 2525),\n",
       " ('based', 2521),\n",
       " ('processing', 2518),\n",
       " ('innovative', 2477),\n",
       " ('identify', 2473),\n",
       " ('orientation', 2471),\n",
       " ('senior', 2467),\n",
       " ('platform', 2453),\n",
       " ('group', 2450),\n",
       " ('leading', 2436),\n",
       " ('manage', 2434),\n",
       " ('big', 2430),\n",
       " ('applicants', 2429),\n",
       " ('security', 2422),\n",
       " ('application', 2415),\n",
       " ('level', 2415),\n",
       " ('please', 2397),\n",
       " ('minimum', 2381),\n",
       " ('employees', 2377),\n",
       " ('testing', 2370),\n",
       " ('demonstrated', 2367),\n",
       " ('veteran', 2343),\n",
       " ('language', 2338),\n",
       " ('client', 2336),\n",
       " ('sexual', 2336),\n",
       " ('benefits', 2307),\n",
       " ('service', 2305),\n",
       " ('test', 2296),\n",
       " ('diverse', 2295),\n",
       " ('improve', 2245),\n",
       " ('color', 2238),\n",
       " ('mission', 2233),\n",
       " ('office', 2232),\n",
       " ('staff', 2230),\n",
       " ('training', 2215),\n",
       " ('external', 2213),\n",
       " ('need', 2204),\n",
       " ('successful', 2201),\n",
       " ('race', 2191),\n",
       " ('biology', 2185),\n",
       " ('identity', 2173),\n",
       " ('professional', 2161),\n",
       " ('strategic', 2137),\n",
       " ('deliver', 2131),\n",
       " ('origin', 2125),\n",
       " ('understand', 2123),\n",
       " ('religion', 2107),\n",
       " ('protected', 2098),\n",
       " ('r', 2087),\n",
       " ('vision', 2073),\n",
       " ('activities', 2068),\n",
       " ('areas', 2065),\n",
       " ('sql', 2042),\n",
       " ('various', 2033),\n",
       " ('financial', 2024),\n",
       " ('laboratory', 2013),\n",
       " ('intelligence', 2004),\n",
       " ('collaborate', 1998),\n",
       " ('communicate', 1993),\n",
       " ('effectively', 1990),\n",
       " ('2', 1985),\n",
       " ('strategy', 1969),\n",
       " ('analyze', 1968),\n",
       " ('qualified', 1961),\n",
       " ('variety', 1950),\n",
       " ('bachelors', 1946),\n",
       " ('culture', 1936),\n",
       " ('learn', 1935),\n",
       " ('practices', 1930),\n",
       " ('closely', 1927),\n",
       " ('candidates', 1916),\n",
       " ('background', 1904),\n",
       " ('department', 1899),\n",
       " ('5', 1897),\n",
       " ('value', 1893),\n",
       " ('production', 1888),\n",
       " ('partners', 1873),\n",
       " ('duties', 1871),\n",
       " ('cloud', 1869),\n",
       " ('google', 1860),\n",
       " ('age', 1857),\n",
       " ('success', 1856),\n",
       " ('masters', 1853),\n",
       " ('drug', 1853),\n",
       " ('market', 1853),\n",
       " ('sales', 1847),\n",
       " ('life', 1847),\n",
       " ('without', 1834),\n",
       " ('decisions', 1811),\n",
       " ('members', 1804),\n",
       " ('scale', 1798),\n",
       " ('digital', 1785),\n",
       " ('implement', 1781),\n",
       " ('least', 1780),\n",
       " ('issues', 1778),\n",
       " ('growth', 1778),\n",
       " ('like', 1773),\n",
       " ('3', 1771),\n",
       " ('reporting', 1770),\n",
       " ('planning', 1749),\n",
       " ('appropriate', 1736),\n",
       " ('equivalent', 1724),\n",
       " ('record', 1716),\n",
       " ('cell', 1705),\n",
       " ('engineer', 1704),\n",
       " ('following', 1701),\n",
       " ('stakeholders', 1698),\n",
       " ('around', 1678),\n",
       " ('travel', 1677),\n",
       " ('seeking', 1667),\n",
       " ('innovation', 1662),\n",
       " ('care', 1662),\n",
       " ('studies', 1644),\n",
       " ('meet', 1642),\n",
       " ('focus', 1627),\n",
       " ('committed', 1625),\n",
       " ('review', 1622),\n",
       " ('action', 1619),\n",
       " ('basic', 1614),\n",
       " ('plans', 1602),\n",
       " ('individual', 1597),\n",
       " ('providing', 1597),\n",
       " ('public', 1597),\n",
       " ('sets', 1590),\n",
       " ('independently', 1586),\n",
       " ('sex', 1586),\n",
       " ('individuals', 1585),\n",
       " ('others', 1579),\n",
       " ('take', 1574),\n",
       " ('implementation', 1572),\n",
       " ('effective', 1570),\n",
       " ('every', 1569),\n",
       " ('user', 1565),\n",
       " ('problem', 1564),\n",
       " ('challenges', 1561),\n",
       " ('solve', 1557),\n",
       " ('model', 1553),\n",
       " ('verbal', 1553),\n",
       " ('solving', 1545),\n",
       " ('description', 1540),\n",
       " ('risk', 1536),\n",
       " ('writing', 1524),\n",
       " ('human', 1524),\n",
       " ('discovery', 1519),\n",
       " ('good', 1517),\n",
       " ('study', 1512),\n",
       " ('code', 1506),\n",
       " ('assist', 1501),\n",
       " ('critical', 1501),\n",
       " ('delivery', 1498),\n",
       " ('better', 1495),\n",
       " ('future', 1493),\n",
       " ('center', 1493),\n",
       " ('employee', 1492),\n",
       " ('proven', 1490),\n",
       " ('optimization', 1489),\n",
       " ('managers', 1484),\n",
       " ('access', 1478),\n",
       " ('regulatory', 1471),\n",
       " ('track', 1470),\n",
       " ('collaborative', 1470),\n",
       " ('amazon', 1467),\n",
       " ('analyses', 1466),\n",
       " ('procedures', 1459),\n",
       " ('plan', 1453),\n",
       " ('microsoft', 1447),\n",
       " ('cancer', 1445),\n",
       " ('goals', 1444),\n",
       " ('strategies', 1438),\n",
       " ('provides', 1434),\n",
       " ('way', 1434),\n",
       " ('contribute', 1430),\n",
       " ('ms', 1429),\n",
       " ('relationships', 1426),\n",
       " ('infrastructure', 1422),\n",
       " ('managing', 1419),\n",
       " ('partner', 1410),\n",
       " ('state', 1404),\n",
       " ('web', 1401),\n",
       " ('community', 1400),\n",
       " ('applied', 1397),\n",
       " ('competitive', 1395),\n",
       " ('area', 1394),\n",
       " ('control', 1394),\n",
       " ('1', 1392),\n",
       " ('federal', 1392),\n",
       " ('core', 1392),\n",
       " ('languages', 1383),\n",
       " ('documentation', 1378),\n",
       " ('manager', 1376),\n",
       " ('regard', 1369),\n",
       " ('java', 1368),\n",
       " ('functional', 1366),\n",
       " ('ideas', 1364),\n",
       " ('sources', 1349),\n",
       " ('current', 1349),\n",
       " ('growing', 1348),\n",
       " ('platforms', 1348),\n",
       " ('media', 1347),\n",
       " ('bring', 1344),\n",
       " ('making', 1343),\n",
       " ('familiarity', 1342),\n",
       " ('collaboration', 1340),\n",
       " ('social', 1338),\n",
       " ('mathematics', 1334),\n",
       " ('day', 1331),\n",
       " ('database', 1325),\n",
       " ('creative', 1322),\n",
       " ('passion', 1322),\n",
       " ('creating', 1319),\n",
       " ('safety', 1319),\n",
       " ('c', 1314),\n",
       " ('requires', 1313),\n",
       " ('predictive', 1310),\n",
       " ('proficiency', 1309),\n",
       " ('physical', 1309),\n",
       " ('functions', 1307),\n",
       " ('resources', 1307),\n",
       " ('policy', 1297),\n",
       " ('experiments', 1295),\n",
       " ('needed', 1291),\n",
       " ('local', 1291),\n",
       " ('conduct', 1284),\n",
       " ('companies', 1282),\n",
       " ('great', 1279),\n",
       " ('analyst', 1278),\n",
       " ('healthcare', 1276),\n",
       " ('ai', 1272),\n",
       " ('manufacturing', 1268),\n",
       " ('users', 1262),\n",
       " ('tasks', 1261),\n",
       " ('documents', 1261),\n",
       " ('equipment', 1259),\n",
       " ('existing', 1258),\n",
       " ('standards', 1257),\n",
       " ('content', 1254),\n",
       " ('participate', 1254),\n",
       " ('efforts', 1253),\n",
       " ('university', 1252),\n",
       " ('career', 1249),\n",
       " ('fastpaced', 1248),\n",
       " ('execution', 1246),\n",
       " ('capabilities', 1245),\n",
       " ('novel', 1243),\n",
       " ('applicable', 1235),\n",
       " ('expert', 1232),\n",
       " ('small', 1232),\n",
       " ('specific', 1231),\n",
       " ('primary', 1224),\n",
       " ('approaches', 1224),\n",
       " ('network', 1222),\n",
       " ('architecture', 1217),\n",
       " ('natural', 1216),\n",
       " ('san', 1211),\n",
       " ('essential', 1200),\n",
       " ('leader', 1200),\n",
       " ('genetic', 1199),\n",
       " ('concepts', 1195),\n",
       " ('range', 1194),\n",
       " ('marital', 1190),\n",
       " ('molecular', 1183),\n",
       " ('focused', 1180),\n",
       " ('together', 1178),\n",
       " ('lab', 1177),\n",
       " ('sciences', 1167),\n",
       " ('used', 1167),\n",
       " ('databases', 1165),\n",
       " ('worlds', 1163),\n",
       " ('recommendations', 1163),\n",
       " ('designing', 1163),\n",
       " ('execute', 1160),\n",
       " ('present', 1159),\n",
       " ('organizational', 1151),\n",
       " ('achieve', 1151),\n",
       " ('offer', 1142),\n",
       " ('passionate', 1137),\n",
       " ('available', 1133),\n",
       " ('unique', 1131),\n",
       " ('delivering', 1131),\n",
       " ('additional', 1128),\n",
       " ('visualization', 1128),\n",
       " ('computational', 1125),\n",
       " ('change', 1116),\n",
       " ('necessary', 1112),\n",
       " ('meetings', 1109),\n",
       " ('datasets', 1108),\n",
       " ('helping', 1108),\n",
       " ('experiences', 1108),\n",
       " ('distributed', 1105),\n",
       " ('handson', 1104),\n",
       " ('commercial', 1102),\n",
       " ('decision', 1102),\n",
       " ('dynamic', 1100),\n",
       " ('operational', 1098),\n",
       " ('next', 1097),\n",
       " ('crossfunctional', 1097),\n",
       " ('online', 1094),\n",
       " ('year', 1093),\n",
       " ('mining', 1093),\n",
       " ('member', 1091),\n",
       " ('excel', 1090),\n",
       " ('order', 1088),\n",
       " ('general', 1087),\n",
       " ('enable', 1087),\n",
       " ('questions', 1085),\n",
       " ('spark', 1084),\n",
       " ('presentations', 1079),\n",
       " ('initiatives', 1078),\n",
       " ('detail', 1070),\n",
       " ('supporting', 1069),\n",
       " ('basis', 1064),\n",
       " ('potential', 1060),\n",
       " ('consulting', 1059),\n",
       " ('interpersonal', 1058),\n",
       " ('investment', 1057),\n",
       " ('insurance', 1055),\n",
       " ('discipline', 1053),\n",
       " ('different', 1051),\n",
       " ('law', 1051),\n",
       " ('generation', 1049),\n",
       " ('want', 1048),\n",
       " ('location', 1046),\n",
       " ('get', 1043),\n",
       " ('define', 1041),\n",
       " ('compliance', 1040),\n",
       " ('open', 1039),\n",
       " ('space', 1037),\n",
       " ('applying', 1028),\n",
       " ('grow', 1027),\n",
       " ('agency', 1025),\n",
       " ('expression', 1024),\n",
       " ('patients', 1021),\n",
       " ('organizations', 1020),\n",
       " ('analyzing', 1018),\n",
       " ('assigned', 1009),\n",
       " ('real', 1008),\n",
       " ('limited', 1008),\n",
       " ('presentation', 1007),\n",
       " ('diversity', 1005),\n",
       " ('oral', 1004),\n",
       " ('computing', 1004),\n",
       " ('analysts', 1002),\n",
       " ('enterprise', 1001),\n",
       " ('includes', 994),\n",
       " ('desired', 993),\n",
       " ('aws', 991),\n",
       " ('government', 989),\n",
       " ('broad', 987),\n",
       " ('full', 987),\n",
       " ('clearance', 985),\n",
       " ('power', 984),\n",
       " ('set', 984),\n",
       " ('methodologies', 980),\n",
       " ('driven', 978),\n",
       " ('hadoop', 976),\n",
       " ('serve', 974),\n",
       " ('attention', 974),\n",
       " ('finance', 972),\n",
       " ('director', 971),\n",
       " ('academic', 967),\n",
       " ('integration', 965),\n",
       " ('evaluate', 963),\n",
       " ('similar', 959),\n",
       " ('metrics', 959),\n",
       " ('directly', 957),\n",
       " ('ml', 957),\n",
       " ('consumer', 955),\n",
       " ('two', 954),\n",
       " ('medicine', 953),\n",
       " ('citizenship', 947),\n",
       " ('top', 946),\n",
       " ('ideal', 946),\n",
       " ('consideration', 944),\n",
       " ('thinking', 943),\n",
       " ('environmental', 942),\n",
       " ('10', 941),\n",
       " ('approach', 941),\n",
       " ('direct', 940),\n",
       " ('aerospace', 938),\n",
       " ('conditions', 937),\n",
       " ('experienced', 933),\n",
       " ('groups', 932),\n",
       " ('levels', 932),\n",
       " ('states', 931),\n",
       " ('analytic', 929),\n",
       " ('sas', 925),\n",
       " ('works', 922),\n",
       " ('wide', 921),\n",
       " ('features', 918),\n",
       " ('experimental', 918),\n",
       " ('trends', 916),\n",
       " ('receive', 916),\n",
       " ('assays', 914),\n",
       " ('right', 914),\n",
       " ('portfolio', 907),\n",
       " ('leaders', 907),\n",
       " ('york', 905),\n",
       " ('driving', 904),\n",
       " ('report', 903),\n",
       " ('experts', 900),\n",
       " ('search', 900),\n",
       " ('disease', 897),\n",
       " ('findings', 895),\n",
       " ('collection', 892),\n",
       " ('scalable', 890),\n",
       " ('comfortable', 888),\n",
       " ('summary', 888),\n",
       " ('chemistry', 885),\n",
       " ('fast', 883),\n",
       " ('protocols', 881),\n",
       " ('addition', 881),\n",
       " ('find', 880),\n",
       " ('source', 880),\n",
       " ('professionals', 877),\n",
       " ('materials', 876),\n",
       " ('agencies', 876),\n",
       " ('fulltime', 873),\n",
       " ('exciting', 873),\n",
       " ('quickly', 872),\n",
       " ('motivated', 872),\n",
       " ('interest', 869),\n",
       " ('objectives', 868),\n",
       " ('ways', 866),\n",
       " ('talented', 866),\n",
       " ('know', 865),\n",
       " ('subject', 863),\n",
       " ('leverage', 855),\n",
       " ('personal', 855),\n",
       " ('love', 851),\n",
       " ('communications', 849),\n",
       " ('agile', 849),\n",
       " ('accommodation', 847),\n",
       " ('4', 843),\n",
       " ('bs', 841),\n",
       " ('validation', 840),\n",
       " ('standard', 837),\n",
       " ('evaluation', 836),\n",
       " ('implementing', 835),\n",
       " ('performing', 835),\n",
       " ('considered', 835),\n",
       " ('international', 830),\n",
       " ('firm', 830),\n",
       " ('first', 829),\n",
       " ('datadriven', 829),\n",
       " ('hardware', 829),\n",
       " ('interact', 826),\n",
       " ('biological', 821),\n",
       " ('advertising', 816),\n",
       " ('major', 809),\n",
       " ('maintaining', 809),\n",
       " ('clear', 809),\n",
       " ('excellence', 807),\n",
       " ('schedule', 806),\n",
       " ('solid', 804),\n",
       " ('type', 804),\n",
       " ('monitoring', 803),\n",
       " ('mobile', 803),\n",
       " ('manner', 802),\n",
       " ('millions', 802),\n",
       " ('comprehensive', 800),\n",
       " ('hiring', 793),\n",
       " ('prior', 793),\n",
       " ('united', 788),\n",
       " ('assistance', 788),\n",
       " ('offers', 786),\n",
       " ('improvement', 784),\n",
       " ('researchers', 782),\n",
       " ('developers', 782),\n",
       " ('actionable', 780),\n",
       " ('locations', 777),\n",
       " ('regular', 776),\n",
       " ('maintenance', 773),\n",
       " ('workplace', 773),\n",
       " ('significant', 771),\n",
       " ('diseases', 770),\n",
       " ('end', 770),\n",
       " ('largest', 769),\n",
       " ('package', 769),\n",
       " ('patient', 769),\n",
       " ('startup', 768),\n",
       " ('francisco', 768),\n",
       " ('leads', 765),\n",
       " ('automation', 765),\n",
       " ('currently', 764),\n",
       " ('ancestry', 764),\n",
       " ('responsibility', 764),\n",
       " ('bioinformatics', 763),\n",
       " ('things', 763),\n",
       " ('recruiting', 761),\n",
       " ('family', 758),\n",
       " ('environments', 757),\n",
       " ('possible', 757),\n",
       " ('solution', 754),\n",
       " ('prepare', 754),\n",
       " ('place', 754),\n",
       " ('generate', 754),\n",
       " ('reasonable', 753),\n",
       " ('flexible', 753),\n",
       " ('expected', 752),\n",
       " ('policies', 752),\n",
       " ('come', 752),\n",
       " ('many', 751),\n",
       " ('guidance', 750),\n",
       " ('complete', 749),\n",
       " ('lives', 747),\n",
       " ('veterans', 742),\n",
       " ('edge', 740),\n",
       " ('college', 740),\n",
       " ('write', 739),\n",
       " ('paid', 736),\n",
       " ('economics', 733),\n",
       " ('extensive', 732),\n",
       " ('setting', 731),\n",
       " ('dedicated', 731),\n",
       " ('produce', 729),\n",
       " ('rapidly', 729),\n",
       " ('act', 729),\n",
       " ('corporate', 729),\n",
       " ('would', 726),\n",
       " ('optimize', 726),\n",
       " ('establish', 724),\n",
       " ('practice', 724),\n",
       " ('exceptional', 720),\n",
       " ('pipelines', 718),\n",
       " ('networks', 712),\n",
       " ('direction', 712),\n",
       " ('fields', 712),\n",
       " ('advance', 712),\n",
       " ('audiences', 709),\n",
       " ('document', 706),\n",
       " ('compensation', 703),\n",
       " ('visit', 702),\n",
       " ('positive', 702),\n",
       " ('frameworks', 701),\n",
       " ('markets', 699),\n",
       " ('abilities', 699),\n",
       " ('via', 698),\n",
       " ('hours', 698),\n",
       " ('site', 696),\n",
       " ('artificial', 695),\n",
       " ('pipeline', 695),\n",
       " ('address', 694),\n",
       " ('influence', 692),\n",
       " ('colleagues', 692),\n",
       " ('preparation', 690),\n",
       " ('supply', 688),\n",
       " ('proud', 688),\n",
       " ('salary', 687),\n",
       " ('person', 686),\n",
       " ('principles', 685),\n",
       " ('resumes', 685),\n",
       " ('consistent', 681),\n",
       " ('changing', 681),\n",
       " ('regulations', 680),\n",
       " ('school', 679),\n",
       " ('challenging', 679),\n",
       " ('events', 678),\n",
       " ('contact', 678),\n",
       " ('consider', 677),\n",
       " ('efficient', 677),\n",
       " ('talent', 677),\n",
       " ('independent', 676),\n",
       " ('electrical', 676),\n",
       " ('aspects', 675),\n",
       " ('outcomes', 674),\n",
       " ('inc', 674),\n",
       " ('ongoing', 674),\n",
       " ('priorities', 672),\n",
       " ('overall', 671),\n",
       " ('throughout', 670),\n",
       " ('physics', 668),\n",
       " ('tech', 668),\n",
       " ('timely', 667),\n",
       " ('desire', 666),\n",
       " ('thrive', 664),\n",
       " ('operating', 661),\n",
       " ('common', 661),\n",
       " ('regardless', 660),\n",
       " ('matter', 659),\n",
       " ('built', 659),\n",
       " ('demonstrate', 658),\n",
       " ('share', 658),\n",
       " ('commitment', 657),\n",
       " ('youre', 657),\n",
       " ('backgrounds', 655),\n",
       " ('designs', 654),\n",
       " ('interpret', 651),\n",
       " ('require', 649),\n",
       " ('home', 648),\n",
       " ('offices', 646),\n",
       " ('multidisciplinary', 643),\n",
       " ('reviews', 643),\n",
       " ('publications', 642),\n",
       " ('largescale', 638),\n",
       " ('important', 637),\n",
       " ('think', 636),\n",
       " ('spacecraft', 633),\n",
       " ('scripting', 632),\n",
       " ('dental', 632),\n",
       " ('boston', 632),\n",
       " ('ie', 631),\n",
       " ('prioritize', 630),\n",
       " ('leveraging', 629),\n",
       " ('develops', 629),\n",
       " ('continuous', 627),\n",
       " ('associate', 627),\n",
       " ('city', 626),\n",
       " ('believe', 626),\n",
       " ('accredited', 625),\n",
       " ('values', 623),\n",
       " ('coordinate', 623),\n",
       " ('imaging', 622),\n",
       " ('businesses', 622),\n",
       " ('ball', 621),\n",
       " ('identifying', 620),\n",
       " ('institute', 619),\n",
       " ('supervision', 619),\n",
       " ('coding', 616),\n",
       " ('three', 613),\n",
       " ('records', 613),\n",
       " ('successfully', 612),\n",
       " ('practical', 612),\n",
       " ('keep', 611),\n",
       " ('therapeutics', 611),\n",
       " ('overview', 604),\n",
       " ('401k', 604),\n",
       " ('laws', 603),\n",
       " ('function', 603),\n",
       " ('modern', 603),\n",
       " ('ca', 602),\n",
       " ('automated', 601),\n",
       " ('protein', 599),\n",
       " ('feedback', 598),\n",
       " ('recognized', 598),\n",
       " ('conducting', 597),\n",
       " ('outstanding', 596),\n",
       " ('criminal', 596),\n",
       " ('class', 596),\n",
       " ('request', 596),\n",
       " ('determine', 595),\n",
       " ('trials', 595),\n",
       " ('cutting', 594),\n",
       " ('outside', 593),\n",
       " ('special', 592),\n",
       " ('100', 591),\n",
       " ('email', 590),\n",
       " ('detailed', 589),\n",
       " ('applicant', 589),\n",
       " ('rampd', 588),\n",
       " ('daily', 588),\n",
       " ('meaningful', 585),\n",
       " ('deliverables', 584),\n",
       " ('transform', 584),\n",
       " ('monitor', 584),\n",
       " ('energy', 583),\n",
       " ('affirmative', 583),\n",
       " ('desirable', 582),\n",
       " ('forward', 582),\n",
       " ('chain', 581),\n",
       " ('pharmaceutical', 581),\n",
       " ('goal', 581),\n",
       " ('retail', 579),\n",
       " ('devices', 578),\n",
       " ('worldclass', 578),\n",
       " ('proficient', 576),\n",
       " ('early', 575),\n",
       " ('resume', 574),\n",
       " ('integrity', 573),\n",
       " ('ad', 573),\n",
       " ('therapeutic', 572),\n",
       " ('cost', 570),\n",
       " ('tests', 569),\n",
       " ('enhance', 569),\n",
       " ('engagement', 567),\n",
       " ('changes', 566),\n",
       " ('unit', 563),\n",
       " ('see', 562),\n",
       " ('legal', 560),\n",
       " ('possess', 559),\n",
       " ('matlab', 558),\n",
       " ('realtime', 558),\n",
       " ('ensuring', 557),\n",
       " ('integrate', 557),\n",
       " ('remote', 557),\n",
       " ('hire', 556),\n",
       " ('translate', 555),\n",
       " ('electronic', 554),\n",
       " ('junior', 553),\n",
       " ('kpmg', 553),\n",
       " ('administration', 551),\n",
       " ('eeo', 551),\n",
       " ('hands', 551),\n",
       " ('tableau', 550),\n",
       " ('conferences', 550),\n",
       " ('line', 550),\n",
       " ('disabilities', 549),\n",
       " ('uw', 549),\n",
       " ('supports', 548),\n",
       " ('brands', 548),\n",
       " ('guide', 548),\n",
       " ('6', 547),\n",
       " ('translational', 547),\n",
       " ('recognition', 545),\n",
       " ('benefit', 545),\n",
       " ('specifications', 544),\n",
       " ('behavior', 544),\n",
       " ('previous', 543),\n",
       " ('acquisition', 543),\n",
       " ('principal', 542),\n",
       " ('form', 541),\n",
       " ('flow', 541),\n",
       " ('characterization', 540),\n",
       " ('word', 539),\n",
       " ('sequencing', 538),\n",
       " ('mentor', 538),\n",
       " ('oncology', 538),\n",
       " ('enjoy', 537),\n",
       " ('discover', 536),\n",
       " ('revenue', 536),\n",
       " ('regression', 536),\n",
       " ('interested', 536),\n",
       " ('contributing', 536),\n",
       " ('companys', 535),\n",
       " ('preferably', 534),\n",
       " ('difference', 534),\n",
       " ('disciplines', 533),\n",
       " ('mental', 532),\n",
       " ('robust', 530),\n",
       " ('deadlines', 529),\n",
       " ('made', 529),\n",
       " ('units', 529),\n",
       " ('industrial', 528),\n",
       " ('communities', 527),\n",
       " ('requests', 527),\n",
       " ('domain', 527),\n",
       " ('scala', 526),\n",
       " ('immunology', 526),\n",
       " ('clearly', 523),\n",
       " ('video', 522),\n",
       " ('associated', 521),\n",
       " ('interface', 520),\n",
       " ('political', 520),\n",
       " ('whether', 520),\n",
       " ('capital', 520),\n",
       " ('personnel', 519),\n",
       " ('higher', 519),\n",
       " ('fun', 518),\n",
       " ('structures', 516),\n",
       " ('discriminate', 516),\n",
       " ('obtain', 515),\n",
       " ('relocation', 515),\n",
       " ('located', 514),\n",
       " ('statement', 512),\n",
       " ('usa', 512),\n",
       " ('genetics', 511),\n",
       " ('countries', 510),\n",
       " ('speech', 510),\n",
       " ('assessment', 509),\n",
       " ('deployment', 509),\n",
       " ('credit', 509),\n",
       " ('target', 509),\n",
       " ('students', 509),\n",
       " ('performs', 507),\n",
       " ('due', 507),\n",
       " ('cuttingedge', 507),\n",
       " ('progress', 506),\n",
       " ('cover', 506),\n",
       " ('demand', 506),\n",
       " ('active', 506),\n",
       " ('perspectives', 506),\n",
       " ('completion', 504),\n",
       " ('selection', 504),\n",
       " ('improvements', 503),\n",
       " ('explore', 503),\n",
       " ('ecommerce', 502),\n",
       " ('packages', 502),\n",
       " ('math', 501),\n",
       " ('live', 500),\n",
       " ('improving', 500),\n",
       " ('recruitment', 500),\n",
       " ('accurate', 499),\n",
       " ('engage', 498),\n",
       " ('mathematical', 498),\n",
       " ('established', 497),\n",
       " ('resource', 497),\n",
       " ('clean', 496),\n",
       " ('date', 496),\n",
       " ('powerpoint', 496),\n",
       " ('oriented', 496),\n",
       " ('number', 494),\n",
       " ('efficiency', 493),\n",
       " ('assay', 493),\n",
       " ('verification', 492),\n",
       " ('letter', 491),\n",
       " ('initiative', 491),\n",
       " ('centers', 490),\n",
       " ('maintains', 489),\n",
       " ('creation', 489),\n",
       " ('measurement', 489),\n",
       " ('contract', 489),\n",
       " ('eligibility', 488),\n",
       " ('transfer', 487),\n",
       " ('communicating', 486),\n",
       " ('accuracy', 486),\n",
       " ('integrated', 485),\n",
       " ('strongly', 485),\n",
       " ('forecasting', 484),\n",
       " ('eligible', 483),\n",
       " ('check', 483),\n",
       " ('account', 480),\n",
       " ('hive', 479),\n",
       " ('worldwide', 479),\n",
       " ('division', 479),\n",
       " ('seattle', 479),\n",
       " ('problemsolving', 478),\n",
       " ('along', 478),\n",
       " ('nlp', 477),\n",
       " ('thought', 477),\n",
       " ('collaboratively', 475),\n",
       " ('classification', 475),\n",
       " ('history', 475),\n",
       " ('upon', 475),\n",
       " ('opportunityaffirmative', 475),\n",
       " ('cross', 474),\n",
       " ('reach', 474),\n",
       " ('several', 473),\n",
       " ('executive', 472),\n",
       " ('faculty', 471),\n",
       " ('characteristic', 470),\n",
       " ('departments', 469),\n",
       " ('skill', 469),\n",
       " ('7', 468),\n",
       " ('military', 468),\n",
       " ('emerging', 468),\n",
       " ('8', 467),\n",
       " ('nontechnical', 467),\n",
       " ('image', 466),\n",
       " ('entrepreneurial', 466),\n",
       " ('combination', 464),\n",
       " ('vivo', 464),\n",
       " ('ownership', 463),\n",
       " ...]"
      ]
     },
     "execution_count": 14,
     "metadata": {},
     "output_type": "execute_result"
    }
   ],
   "source": [
    "from collections import Counter\n",
    "Counter(filtered_description).most_common()"
   ]
  },
  {
   "cell_type": "code",
   "execution_count": 113,
   "metadata": {},
   "outputs": [],
   "source": [
    "tool_list = ['python','sql','java','scala','excel',\n",
    "               'aws','hadoop','spark','linux','tableau','sas',\n",
    "               'linux','sas','hive','oracle','perl',\n",
    "               'mysql','matlab','html','tensorflow','spss','mongodb']\n",
    "skills_list = ['machine learning','data analysis','data visualization',\n",
    "            'modeling','statistical analysis','research','deep learning',\n",
    "            'optimization','decision tree','logistic','random forest',\n",
    "            'ab testing','web scraping','neural network','interpersonal skills',\n",
    "            'communication skills','artificial intelligence']\n",
    "degree_vector = []\n",
    "for string in df['description']:\n",
    "    string = str(string).lower()\n",
    "    if 'degree' in string:\n",
    "        index = string.index('degree')\n",
    "        if index < 100:\n",
    "            degree_vector.append(string[0:index+100])\n",
    "        else:\n",
    "            degree_vector.append(string[index-100:index+100])\n",
    "    else:\n",
    "        degree_vector.append('No degree requirement')\n",
    "\n",
    "degree_list = ['master',\"masters\",'phd','bachelor',\"bachelors\",\n",
    "             'high school','No degree requirement']\n",
    "\n",
    "major_list = ['computer science','data science','statistics','quantitative',\n",
    "            'mathematics','economics','liberal arts','science','buisness',\n",
    "            'engineer','engineering','psychology','biology','medicine',\n",
    "            'marketing','business analysis','chemical engineering','chemistry',\n",
    "            'public health','public relationship']"
   ]
  },
  {
   "cell_type": "code",
   "execution_count": 16,
   "metadata": {},
   "outputs": [],
   "source": [
    "def countkeywords(keyword,text):\n",
    "    num = [str(row).count(keyword) for row in text]\n",
    "    return keyword,sum(num)"
   ]
  },
  {
   "cell_type": "code",
   "execution_count": 114,
   "metadata": {},
   "outputs": [],
   "source": [
    "keywords = []\n",
    "tool_word_count = []\n",
    "for keyword in tool_list:\n",
    "    keywords.append(countkeywords(keyword,filtered_description)[0])\n",
    "    tool_word_count.append(countkeywords(keyword,filtered_description)[1])"
   ]
  },
  {
   "cell_type": "code",
   "execution_count": 115,
   "metadata": {},
   "outputs": [],
   "source": [
    "for keyword in ['r','bi','c','redshift','scikit']:\n",
    "    keywords.append(keyword)\n",
    "    tool_word_count.append(filtered_description.count(keyword))"
   ]
  },
  {
   "cell_type": "code",
   "execution_count": 118,
   "metadata": {},
   "outputs": [],
   "source": [
    "tool = pd.DataFrame()\n",
    "tool['keyword'] = keywords\n",
    "tool['word_count'] = tool_word_count"
   ]
  },
  {
   "cell_type": "code",
   "execution_count": 119,
   "metadata": {},
   "outputs": [],
   "source": [
    "#import sys \n",
    "#reload(sys)\n",
    "#sys.setdefaultencoding('utf8')\n",
    "tool.to_excel('tool.xlsx',sheet_name = 'sheet1')"
   ]
  },
  {
   "cell_type": "code",
   "execution_count": 70,
   "metadata": {},
   "outputs": [],
   "source": [
    "skill_word_count = []\n",
    "for skill_keyword in skills_list:\n",
    "    skill_word_count.append(filtered_description_string.count(skill_keyword))\n",
    "skill = pd.DataFrame()\n",
    "skill['keyword'] = skills_list\n",
    "skill['word_count'] = skill_word_count"
   ]
  },
  {
   "cell_type": "code",
   "execution_count": 71,
   "metadata": {},
   "outputs": [],
   "source": [
    "skill_word_count2 = []\n",
    "for skill_keyword in ['ai','nlp','ml','bi']:\n",
    "    skill_word_count2.append(filtered_description.count(skill_keyword))\n",
    "additional_skill_keyword = ['ai','nlp','ml','bi']\n",
    "additional = [[word,filtered_description.count(word)] for word in additional_skill_keyword]"
   ]
  },
  {
   "cell_type": "code",
   "execution_count": 256,
   "metadata": {},
   "outputs": [
    {
     "data": {
      "text/plain": [
       "1084"
      ]
     },
     "execution_count": 256,
     "metadata": {},
     "output_type": "execute_result"
    }
   ],
   "source": [
    "filtered_description.count('spark')"
   ]
  },
  {
   "cell_type": "code",
   "execution_count": 72,
   "metadata": {},
   "outputs": [],
   "source": [
    "skill2 = pd.DataFrame(additional,columns = ['keyword','word_count'])"
   ]
  },
  {
   "cell_type": "code",
   "execution_count": 73,
   "metadata": {},
   "outputs": [],
   "source": [
    "skill = skill.append(skill2)"
   ]
  },
  {
   "cell_type": "code",
   "execution_count": 74,
   "metadata": {},
   "outputs": [],
   "source": [
    "skill.to_excel('skill.xlsx',sheet_name = 'sheet1')"
   ]
  },
  {
   "cell_type": "code",
   "execution_count": 95,
   "metadata": {},
   "outputs": [],
   "source": [
    "degree_word_count = []\n",
    "for degree in degree_list:\n",
    "    degree_word_count.append(countkeywords(degree,degree_vector)[1])"
   ]
  },
  {
   "cell_type": "code",
   "execution_count": 96,
   "metadata": {},
   "outputs": [],
   "source": [
    "# Tokenize degree_vector to count abbrevations of degrees.\n",
    "from nltk.tokenize import word_tokenize\n",
    "tokenized_degree_vector = [word_tokenize(degree) for degree in degree_vector]\n",
    "for degree in ['ba','bs','ma','ms','undergraduate','graduate']:\n",
    "    degree_list.append(degree)\n",
    "    degree_word_count.append(countkeywords(degree,tokenized_degree_vector)[1])\n",
    "degree = pd.DataFrame()"
   ]
  },
  {
   "cell_type": "code",
   "execution_count": 99,
   "metadata": {},
   "outputs": [],
   "source": [
    "degree['keyword'] = degree_list\n",
    "degree['word_count'] = degree_word_count\n",
    "degree.to_excel('degree.xlsx',sheet_name = 'sheet1')"
   ]
  },
  {
   "cell_type": "code",
   "execution_count": 103,
   "metadata": {
    "scrolled": true
   },
   "outputs": [],
   "source": [
    "major_word_count = []\n",
    "for major in major_list:\n",
    "    major_word_count.append(countkeywords(major,degree_vector)[1])"
   ]
  },
  {
   "cell_type": "code",
   "execution_count": 102,
   "metadata": {},
   "outputs": [],
   "source": [
    "major = pd.DataFrame()\n",
    "major['keyword'] = major_list\n",
    "major['word_count'] = major_word_count\n",
    "major.to_excel('major.xlsx',sheet_name = 'sheet1')"
   ]
  },
  {
   "cell_type": "code",
   "execution_count": null,
   "metadata": {},
   "outputs": [],
   "source": [
    "# Compare by title"
   ]
  },
  {
   "cell_type": "code",
   "execution_count": 128,
   "metadata": {},
   "outputs": [],
   "source": [
    "lower_position = [position.lower() for position in df['position']]\n",
    "temp_counter = Counter(lower_position).most_common()"
   ]
  },
  {
   "cell_type": "code",
   "execution_count": 187,
   "metadata": {},
   "outputs": [],
   "source": [
    "category = []\n",
    "for position in lower_position:\n",
    "    if \"data scientist\" in position or 'data science' in position or \"machine learning\" in position:\n",
    "        category.append('data scientist')\n",
    "    elif \"analyst\" in position or \"analytics\" in position:\n",
    "        category.append('analyst')\n",
    "    elif \"engineer\" in position or \"artificial intelligence\" in position or \"ai\" in position:\n",
    "        category.append('engineer')\n",
    "    else:\n",
    "        category.append('other')"
   ]
  },
  {
   "cell_type": "code",
   "execution_count": 188,
   "metadata": {},
   "outputs": [],
   "source": [
    "df['title_category'] = category"
   ]
  },
  {
   "cell_type": "code",
   "execution_count": 189,
   "metadata": {},
   "outputs": [
    {
     "data": {
      "text/plain": [
       "[('other', 2883),\n",
       " ('data scientist', 1919),\n",
       " ('engineer', 1113),\n",
       " ('analyst', 961)]"
      ]
     },
     "execution_count": 189,
     "metadata": {},
     "output_type": "execute_result"
    }
   ],
   "source": [
    "Counter(category).most_common()"
   ]
  },
  {
   "cell_type": "code",
   "execution_count": null,
   "metadata": {},
   "outputs": [],
   "source": [
    "# Compare by company size"
   ]
  },
  {
   "cell_type": "code",
   "execution_count": 138,
   "metadata": {},
   "outputs": [],
   "source": [
    "size_category = []\n",
    "for review in df['reviews']:\n",
    "    if review <= 50:\n",
    "        size_category.append('small')\n",
    "    elif review <= 700:\n",
    "        size_category.append('medium')\n",
    "    else:\n",
    "        size_category.append('large')"
   ]
  },
  {
   "cell_type": "code",
   "execution_count": 173,
   "metadata": {},
   "outputs": [],
   "source": [
    "df['size'] = size_category"
   ]
  },
  {
   "cell_type": "code",
   "execution_count": 139,
   "metadata": {},
   "outputs": [
    {
     "data": {
      "text/plain": [
       "[('small', 3267), ('medium', 1919), ('large', 1690)]"
      ]
     },
     "execution_count": 139,
     "metadata": {},
     "output_type": "execute_result"
    }
   ],
   "source": [
    "Counter(size_category).most_common()"
   ]
  },
  {
   "cell_type": "code",
   "execution_count": 140,
   "metadata": {},
   "outputs": [],
   "source": [
    "# Generate a new dataframe to put all keywords and frequencies in it. "
   ]
  },
  {
   "cell_type": "code",
   "execution_count": 155,
   "metadata": {},
   "outputs": [],
   "source": [
    "all_keywords = tool_list + skills_list + degree_list + major_list"
   ]
  },
  {
   "cell_type": "code",
   "execution_count": 159,
   "metadata": {},
   "outputs": [
    {
     "data": {
      "text/plain": [
       "66"
      ]
     },
     "execution_count": 159,
     "metadata": {},
     "output_type": "execute_result"
    }
   ],
   "source": [
    "len(all_keywords)"
   ]
  },
  {
   "cell_type": "code",
   "execution_count": 170,
   "metadata": {},
   "outputs": [],
   "source": [
    "def word_frequency(keyword):\n",
    "    temp = []\n",
    "    for single in df['description']:\n",
    "        single = single.lower()\n",
    "        temp.append(single.count(keyword))\n",
    "    return temp"
   ]
  },
  {
   "cell_type": "code",
   "execution_count": 175,
   "metadata": {},
   "outputs": [],
   "source": [
    "def add_column(word):\n",
    "    df[word] = word_frequency(word)"
   ]
  },
  {
   "cell_type": "code",
   "execution_count": 180,
   "metadata": {},
   "outputs": [],
   "source": [
    "for word in all_keywords:\n",
    "    add_column(word)"
   ]
  },
  {
   "cell_type": "code",
   "execution_count": null,
   "metadata": {},
   "outputs": [],
   "source": []
  },
  {
   "cell_type": "code",
   "execution_count": 190,
   "metadata": {},
   "outputs": [],
   "source": [
    "df.to_csv(\"final.csv\")"
   ]
  },
  {
   "cell_type": "code",
   "execution_count": null,
   "metadata": {},
   "outputs": [],
   "source": []
  },
  {
   "cell_type": "code",
   "execution_count": 193,
   "metadata": {},
   "outputs": [
    {
     "data": {
      "text/plain": [
       "2"
      ]
     },
     "execution_count": 193,
     "metadata": {},
     "output_type": "execute_result"
    }
   ],
   "source": []
  },
  {
   "cell_type": "code",
   "execution_count": 202,
   "metadata": {},
   "outputs": [],
   "source": [
    "# Tokenize all string to count the abbreviation words."
   ]
  },
  {
   "cell_type": "code",
   "execution_count": 201,
   "metadata": {},
   "outputs": [
    {
     "data": {
      "text/plain": [
       "6876"
      ]
     },
     "execution_count": 201,
     "metadata": {},
     "output_type": "execute_result"
    }
   ],
   "source": [
    "tokenized_description= [word_tokenize(str(single).lower()) for single in df['description']] \n",
    "len(tokenized_description)"
   ]
  },
  {
   "cell_type": "code",
   "execution_count": 204,
   "metadata": {},
   "outputs": [],
   "source": [
    "addtional_keywords = ['ai','ml','bi','r','ba','bs','ma','ms']"
   ]
  },
  {
   "cell_type": "code",
   "execution_count": 220,
   "metadata": {},
   "outputs": [],
   "source": [
    "def addtional_word_frequency(keyword):\n",
    "    temp = []\n",
    "    for single in tokenized_description:\n",
    "        temp.append(single.count(keyword))\n",
    "    return temp"
   ]
  },
  {
   "cell_type": "code",
   "execution_count": 228,
   "metadata": {},
   "outputs": [],
   "source": [
    "def add_additional_column(word):\n",
    "    df[word] = addtional_word_frequency(word)"
   ]
  },
  {
   "cell_type": "code",
   "execution_count": 230,
   "metadata": {},
   "outputs": [],
   "source": [
    "for word in addtional_keywords:\n",
    "    add_additional_column(word)"
   ]
  },
  {
   "cell_type": "code",
   "execution_count": 232,
   "metadata": {},
   "outputs": [],
   "source": [
    "copy = df"
   ]
  },
  {
   "cell_type": "code",
   "execution_count": 239,
   "metadata": {},
   "outputs": [],
   "source": [
    "list(copy)\n",
    "copy['artificial intelligence'] += copy['ai']\n",
    "copy['sql'] += copy['mysql']\n",
    "copy['machine learning'] += copy['ml']\n",
    "copy['master'] += (copy['master'] + copy['ma'] + copy['ms'])"
   ]
  },
  {
   "cell_type": "code",
   "execution_count": 240,
   "metadata": {},
   "outputs": [],
   "source": [
    "copy['bachelor'] += (copy['bachelors'] + copy['ba'] + copy['bs'])\n",
    "copy['engineer'] += copy['engineering']"
   ]
  },
  {
   "cell_type": "code",
   "execution_count": 246,
   "metadata": {},
   "outputs": [],
   "source": [
    "copy = copy.drop(columns = ['ai','mysql','ml','master','ma','ms','bachelors','ba','bs','engineering','ba/bs'])"
   ]
  },
  {
   "cell_type": "code",
   "execution_count": 247,
   "metadata": {},
   "outputs": [],
   "source": [
    "copy.to_csv('finalclean.csv')"
   ]
  },
  {
   "cell_type": "code",
   "execution_count": 250,
   "metadata": {},
   "outputs": [],
   "source": [
    "copy2 = copy.drop(columns = ['bi','linux','tableau','hive','oracle','sas',\n",
    "                            'hive','oracle','perl','matlab','html','tensorflow','spss','mongodb',\n",
    "                            'research','ab testing','web scraping',\n",
    "                            'neural network','interpersonal skills','communication skills',\n",
    "                            'data science','liberal arts','buisness','psychology',\n",
    "                            'biology','medicine','marketing','business analysis',\n",
    "                            'chemical engineering','chemistry','public health','public relationship'])"
   ]
  },
  {
   "cell_type": "code",
   "execution_count": 269,
   "metadata": {},
   "outputs": [
    {
     "data": {
      "text/plain": [
       "['phd',\n",
       " 'bachelor',\n",
       " 'high school',\n",
       " 'No degree requirement',\n",
       " 'computer science',\n",
       " 'statistics',\n",
       " 'quantitative',\n",
       " 'mathematics',\n",
       " 'economics',\n",
       " 'science',\n",
       " 'engineer',\n",
       " 'r']"
      ]
     },
     "execution_count": 269,
     "metadata": {},
     "output_type": "execute_result"
    }
   ],
   "source": [
    "list(copy2)[25:60]"
   ]
  },
  {
   "cell_type": "code",
   "execution_count": 262,
   "metadata": {},
   "outputs": [],
   "source": [
    "copy2 = copy2.drop(columns = ['aws','hadoop',])"
   ]
  },
  {
   "cell_type": "code",
   "execution_count": 263,
   "metadata": {},
   "outputs": [],
   "source": [
    "copy2['machine learning'] += (copy2['deep learning'] + copy2['decision tree'] \n",
    "                              + copy2['logistic'] + copy2['random forest'])"
   ]
  },
  {
   "cell_type": "code",
   "execution_count": 264,
   "metadata": {},
   "outputs": [],
   "source": [
    "copy2['data analysis'] += copy2['statistical analysis']"
   ]
  },
  {
   "cell_type": "code",
   "execution_count": 266,
   "metadata": {},
   "outputs": [],
   "source": [
    "copy2 = copy2.drop(columns = ['deep learning','decision tree','logistic','random forest'])"
   ]
  },
  {
   "cell_type": "code",
   "execution_count": 270,
   "metadata": {},
   "outputs": [],
   "source": [
    "copy2['statistics'] += (copy2['quantitative'] + copy2['mathematics'] + copy2['economics'])"
   ]
  },
  {
   "cell_type": "code",
   "execution_count": 271,
   "metadata": {},
   "outputs": [],
   "source": [
    "copy2 = copy2.drop(columns = ['quantitative','mathematics','economics'])"
   ]
  },
  {
   "cell_type": "code",
   "execution_count": 273,
   "metadata": {},
   "outputs": [
    {
     "data": {
      "text/plain": [
       "34"
      ]
     },
     "execution_count": 273,
     "metadata": {},
     "output_type": "execute_result"
    }
   ],
   "source": [
    "len(list(copy2))"
   ]
  },
  {
   "cell_type": "code",
   "execution_count": 275,
   "metadata": {},
   "outputs": [],
   "source": [
    "copy2 = copy2.drop(columns = ['location','newlocation','city','state'])"
   ]
  },
  {
   "cell_type": "code",
   "execution_count": 276,
   "metadata": {},
   "outputs": [
    {
     "data": {
      "text/plain": [
       "30"
      ]
     },
     "execution_count": 276,
     "metadata": {},
     "output_type": "execute_result"
    }
   ],
   "source": [
    "len(list(copy2))"
   ]
  },
  {
   "cell_type": "code",
   "execution_count": 277,
   "metadata": {},
   "outputs": [
    {
     "data": {
      "text/plain": [
       "['Unnamed: 0',\n",
       " 'position',\n",
       " 'company',\n",
       " 'description',\n",
       " 'reviews',\n",
       " 'title_category',\n",
       " 'python',\n",
       " 'size',\n",
       " 'excel',\n",
       " 'sql',\n",
       " 'java',\n",
       " 'scala',\n",
       " 'spark',\n",
       " 'machine learning',\n",
       " 'data analysis',\n",
       " 'data visualization',\n",
       " 'modeling',\n",
       " 'statistical analysis',\n",
       " 'optimization',\n",
       " 'artificial intelligence',\n",
       " 'masters',\n",
       " 'phd',\n",
       " 'bachelor',\n",
       " 'high school',\n",
       " 'No degree requirement',\n",
       " 'computer science',\n",
       " 'statistics',\n",
       " 'science',\n",
       " 'engineer',\n",
       " 'r']"
      ]
     },
     "execution_count": 277,
     "metadata": {},
     "output_type": "execute_result"
    }
   ],
   "source": [
    "list(copy2)"
   ]
  },
  {
   "cell_type": "code",
   "execution_count": 278,
   "metadata": {},
   "outputs": [],
   "source": [
    "copy2.to_csv('finalfinalclean.csv')"
   ]
  },
  {
   "cell_type": "code",
   "execution_count": null,
   "metadata": {},
   "outputs": [],
   "source": []
  }
 ],
 "metadata": {
  "kernelspec": {
   "display_name": "Python 3",
   "language": "python",
   "name": "python3"
  },
  "language_info": {
   "codemirror_mode": {
    "name": "ipython",
    "version": 3
   },
   "file_extension": ".py",
   "mimetype": "text/x-python",
   "name": "python",
   "nbconvert_exporter": "python",
   "pygments_lexer": "ipython3",
   "version": "3.8.5"
  },
  "toc": {
   "base_numbering": 1,
   "nav_menu": {},
   "number_sections": true,
   "sideBar": true,
   "skip_h1_title": false,
   "title_cell": "Table of Contents",
   "title_sidebar": "Contents",
   "toc_cell": true,
   "toc_position": {},
   "toc_section_display": true,
   "toc_window_display": false
  }
 },
 "nbformat": 4,
 "nbformat_minor": 2
}
