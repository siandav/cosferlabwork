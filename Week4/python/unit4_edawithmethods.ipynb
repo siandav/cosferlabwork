{
 "cells": [
  {
   "cell_type": "markdown",
   "metadata": {},
   "source": [
    "# EDA with useful methods on unit 4 data "
   ]
  },
  {
   "cell_type": "code",
   "execution_count": 1,
   "metadata": {},
   "outputs": [],
   "source": [
    "import pandas as pd \n",
    "import numpy as np \n",
    "import matplotlib.pyplot as plt \n",
    "import seaborn as sns \n",
    "import s"
   ]
  },
  {
   "cell_type": "markdown",
   "metadata": {},
   "source": [
    "## get data "
   ]
  },
  {
   "cell_type": "code",
   "execution_count": 2,
   "metadata": {},
   "outputs": [],
   "source": [
    "df=pd.read_csv('unit4.csv')"
   ]
  },
  {
   "cell_type": "code",
   "execution_count": 3,
   "metadata": {},
   "outputs": [
    {
     "data": {
      "text/html": [
       "<div>\n",
       "<style scoped>\n",
       "    .dataframe tbody tr th:only-of-type {\n",
       "        vertical-align: middle;\n",
       "    }\n",
       "\n",
       "    .dataframe tbody tr th {\n",
       "        vertical-align: top;\n",
       "    }\n",
       "\n",
       "    .dataframe thead th {\n",
       "        text-align: right;\n",
       "    }\n",
       "</style>\n",
       "<table border=\"1\" class=\"dataframe\">\n",
       "  <thead>\n",
       "    <tr style=\"text-align: right;\">\n",
       "      <th></th>\n",
       "      <th>STATE</th>\n",
       "      <th>PVASTATE</th>\n",
       "      <th>DOB</th>\n",
       "      <th>MDMAUD</th>\n",
       "      <th>RECP3</th>\n",
       "      <th>GENDER</th>\n",
       "      <th>DOMAIN</th>\n",
       "      <th>INCOME</th>\n",
       "      <th>HOMEOWNR</th>\n",
       "      <th>HV1</th>\n",
       "      <th>...</th>\n",
       "      <th>VETERANS</th>\n",
       "      <th>NUMPROM</th>\n",
       "      <th>CARDPROM</th>\n",
       "      <th>CARDPM12</th>\n",
       "      <th>NUMPRM12</th>\n",
       "      <th>MAXADATE</th>\n",
       "      <th>RFA_2</th>\n",
       "      <th>NGIFTALL</th>\n",
       "      <th>TIMELAG</th>\n",
       "      <th>AVGGIFT</th>\n",
       "    </tr>\n",
       "  </thead>\n",
       "  <tbody>\n",
       "    <tr>\n",
       "      <th>0</th>\n",
       "      <td>IL</td>\n",
       "      <td></td>\n",
       "      <td>3712</td>\n",
       "      <td>XXXX</td>\n",
       "      <td></td>\n",
       "      <td>F</td>\n",
       "      <td>T2</td>\n",
       "      <td>NaN</td>\n",
       "      <td></td>\n",
       "      <td>479</td>\n",
       "      <td>...</td>\n",
       "      <td></td>\n",
       "      <td>74</td>\n",
       "      <td>27</td>\n",
       "      <td>6</td>\n",
       "      <td>14</td>\n",
       "      <td>9702</td>\n",
       "      <td>L4E</td>\n",
       "      <td>31</td>\n",
       "      <td>4.0</td>\n",
       "      <td>7.741935</td>\n",
       "    </tr>\n",
       "  </tbody>\n",
       "</table>\n",
       "<p>1 rows × 28 columns</p>\n",
       "</div>"
      ],
      "text/plain": [
       "  STATE PVASTATE   DOB MDMAUD RECP3 GENDER DOMAIN  INCOME HOMEOWNR  HV1  ...  \\\n",
       "0    IL           3712   XXXX            F     T2     NaN           479  ...   \n",
       "\n",
       "   VETERANS  NUMPROM  CARDPROM  CARDPM12  NUMPRM12  MAXADATE  RFA_2  NGIFTALL  \\\n",
       "0                 74        27         6        14      9702    L4E        31   \n",
       "\n",
       "  TIMELAG   AVGGIFT  \n",
       "0     4.0  7.741935  \n",
       "\n",
       "[1 rows x 28 columns]"
      ]
     },
     "execution_count": 3,
     "metadata": {},
     "output_type": "execute_result"
    }
   ],
   "source": [
    "df.head(1)"
   ]
  },
  {
   "cell_type": "code",
   "execution_count": 4,
   "metadata": {
    "collapsed": true
   },
   "outputs": [
    {
     "name": "stdout",
     "output_type": "stream",
     "text": [
      "<class 'pandas.core.frame.DataFrame'>\n",
      "RangeIndex: 90569 entries, 0 to 90568\n",
      "Data columns (total 28 columns):\n",
      " #   Column    Non-Null Count  Dtype  \n",
      "---  ------    --------------  -----  \n",
      " 0   STATE     90569 non-null  object \n",
      " 1   PVASTATE  90569 non-null  object \n",
      " 2   DOB       90569 non-null  int64  \n",
      " 3   MDMAUD    90569 non-null  object \n",
      " 4   RECP3     90569 non-null  object \n",
      " 5   GENDER    90569 non-null  object \n",
      " 6   DOMAIN    90569 non-null  object \n",
      " 7   INCOME    70386 non-null  float64\n",
      " 8   HOMEOWNR  90569 non-null  object \n",
      " 9   HV1       90569 non-null  int64  \n",
      " 10  HV2       90569 non-null  int64  \n",
      " 11  HV3       90569 non-null  int64  \n",
      " 12  HV4       90569 non-null  int64  \n",
      " 13  IC1       90569 non-null  int64  \n",
      " 14  IC2       90569 non-null  int64  \n",
      " 15  IC3       90569 non-null  int64  \n",
      " 16  IC4       90569 non-null  int64  \n",
      " 17  IC5       90569 non-null  int64  \n",
      " 18  VETERANS  90569 non-null  object \n",
      " 19  NUMPROM   90569 non-null  int64  \n",
      " 20  CARDPROM  90569 non-null  int64  \n",
      " 21  CARDPM12  90569 non-null  int64  \n",
      " 22  NUMPRM12  90569 non-null  int64  \n",
      " 23  MAXADATE  90569 non-null  int64  \n",
      " 24  RFA_2     90569 non-null  object \n",
      " 25  NGIFTALL  90569 non-null  int64  \n",
      " 26  TIMELAG   80916 non-null  float64\n",
      " 27  AVGGIFT   90569 non-null  float64\n",
      "dtypes: float64(3), int64(16), object(9)\n",
      "memory usage: 19.3+ MB\n"
     ]
    }
   ],
   "source": [
    "df.info()"
   ]
  },
  {
   "cell_type": "code",
   "execution_count": 5,
   "metadata": {},
   "outputs": [
    {
     "data": {
      "text/html": [
       "<div>\n",
       "<style scoped>\n",
       "    .dataframe tbody tr th:only-of-type {\n",
       "        vertical-align: middle;\n",
       "    }\n",
       "\n",
       "    .dataframe tbody tr th {\n",
       "        vertical-align: top;\n",
       "    }\n",
       "\n",
       "    .dataframe thead th {\n",
       "        text-align: right;\n",
       "    }\n",
       "</style>\n",
       "<table border=\"1\" class=\"dataframe\">\n",
       "  <thead>\n",
       "    <tr style=\"text-align: right;\">\n",
       "      <th></th>\n",
       "      <th>DOB</th>\n",
       "      <th>INCOME</th>\n",
       "      <th>HV1</th>\n",
       "      <th>HV2</th>\n",
       "      <th>HV3</th>\n",
       "      <th>HV4</th>\n",
       "      <th>IC1</th>\n",
       "      <th>IC2</th>\n",
       "      <th>IC3</th>\n",
       "      <th>IC4</th>\n",
       "      <th>IC5</th>\n",
       "      <th>NUMPROM</th>\n",
       "      <th>CARDPROM</th>\n",
       "      <th>CARDPM12</th>\n",
       "      <th>NUMPRM12</th>\n",
       "      <th>MAXADATE</th>\n",
       "      <th>NGIFTALL</th>\n",
       "      <th>TIMELAG</th>\n",
       "      <th>AVGGIFT</th>\n",
       "    </tr>\n",
       "  </thead>\n",
       "  <tbody>\n",
       "    <tr>\n",
       "      <th>count</th>\n",
       "      <td>90569.000000</td>\n",
       "      <td>70386.000000</td>\n",
       "      <td>90569.000000</td>\n",
       "      <td>90569.00000</td>\n",
       "      <td>90569.000000</td>\n",
       "      <td>90569.000000</td>\n",
       "      <td>90569.000000</td>\n",
       "      <td>90569.000000</td>\n",
       "      <td>90569.000000</td>\n",
       "      <td>90569.000000</td>\n",
       "      <td>90569.000000</td>\n",
       "      <td>90569.000000</td>\n",
       "      <td>90569.000000</td>\n",
       "      <td>90569.000000</td>\n",
       "      <td>90569.000000</td>\n",
       "      <td>90569.000000</td>\n",
       "      <td>90569.000000</td>\n",
       "      <td>80916.000000</td>\n",
       "      <td>90569.000000</td>\n",
       "    </tr>\n",
       "    <tr>\n",
       "      <th>mean</th>\n",
       "      <td>2724.442789</td>\n",
       "      <td>3.878257</td>\n",
       "      <td>1056.391304</td>\n",
       "      <td>1127.42116</td>\n",
       "      <td>4.213473</td>\n",
       "      <td>3.865462</td>\n",
       "      <td>339.373240</td>\n",
       "      <td>386.231083</td>\n",
       "      <td>386.694068</td>\n",
       "      <td>429.977917</td>\n",
       "      <td>15682.038600</td>\n",
       "      <td>46.797204</td>\n",
       "      <td>18.370701</td>\n",
       "      <td>5.343407</td>\n",
       "      <td>12.837351</td>\n",
       "      <td>9701.640606</td>\n",
       "      <td>9.501353</td>\n",
       "      <td>8.114378</td>\n",
       "      <td>13.428585</td>\n",
       "    </tr>\n",
       "    <tr>\n",
       "      <th>std</th>\n",
       "      <td>2136.453823</td>\n",
       "      <td>1.855265</td>\n",
       "      <td>936.383991</td>\n",
       "      <td>942.16266</td>\n",
       "      <td>2.302380</td>\n",
       "      <td>2.239738</td>\n",
       "      <td>162.390371</td>\n",
       "      <td>173.082626</td>\n",
       "      <td>160.945113</td>\n",
       "      <td>171.332133</td>\n",
       "      <td>8508.870754</td>\n",
       "      <td>22.944967</td>\n",
       "      <td>8.582096</td>\n",
       "      <td>1.207126</td>\n",
       "      <td>4.499933</td>\n",
       "      <td>5.679884</td>\n",
       "      <td>8.495065</td>\n",
       "      <td>8.310877</td>\n",
       "      <td>10.796349</td>\n",
       "    </tr>\n",
       "    <tr>\n",
       "      <th>min</th>\n",
       "      <td>0.000000</td>\n",
       "      <td>1.000000</td>\n",
       "      <td>0.000000</td>\n",
       "      <td>0.00000</td>\n",
       "      <td>0.000000</td>\n",
       "      <td>0.000000</td>\n",
       "      <td>0.000000</td>\n",
       "      <td>0.000000</td>\n",
       "      <td>0.000000</td>\n",
       "      <td>0.000000</td>\n",
       "      <td>0.000000</td>\n",
       "      <td>4.000000</td>\n",
       "      <td>1.000000</td>\n",
       "      <td>0.000000</td>\n",
       "      <td>1.000000</td>\n",
       "      <td>9611.000000</td>\n",
       "      <td>1.000000</td>\n",
       "      <td>0.000000</td>\n",
       "      <td>1.285714</td>\n",
       "    </tr>\n",
       "    <tr>\n",
       "      <th>25%</th>\n",
       "      <td>112.000000</td>\n",
       "      <td>2.000000</td>\n",
       "      <td>511.000000</td>\n",
       "      <td>553.00000</td>\n",
       "      <td>3.000000</td>\n",
       "      <td>2.000000</td>\n",
       "      <td>230.000000</td>\n",
       "      <td>273.000000</td>\n",
       "      <td>277.000000</td>\n",
       "      <td>314.000000</td>\n",
       "      <td>10770.000000</td>\n",
       "      <td>27.000000</td>\n",
       "      <td>11.000000</td>\n",
       "      <td>5.000000</td>\n",
       "      <td>11.000000</td>\n",
       "      <td>9702.000000</td>\n",
       "      <td>3.000000</td>\n",
       "      <td>4.000000</td>\n",
       "      <td>8.454545</td>\n",
       "    </tr>\n",
       "    <tr>\n",
       "      <th>50%</th>\n",
       "      <td>2610.000000</td>\n",
       "      <td>4.000000</td>\n",
       "      <td>735.000000</td>\n",
       "      <td>800.00000</td>\n",
       "      <td>4.000000</td>\n",
       "      <td>3.000000</td>\n",
       "      <td>309.000000</td>\n",
       "      <td>355.000000</td>\n",
       "      <td>353.000000</td>\n",
       "      <td>396.000000</td>\n",
       "      <td>13692.000000</td>\n",
       "      <td>46.000000</td>\n",
       "      <td>18.000000</td>\n",
       "      <td>6.000000</td>\n",
       "      <td>12.000000</td>\n",
       "      <td>9702.000000</td>\n",
       "      <td>7.000000</td>\n",
       "      <td>6.000000</td>\n",
       "      <td>11.666667</td>\n",
       "    </tr>\n",
       "    <tr>\n",
       "      <th>75%</th>\n",
       "      <td>4601.000000</td>\n",
       "      <td>5.000000</td>\n",
       "      <td>1206.000000</td>\n",
       "      <td>1320.00000</td>\n",
       "      <td>5.000000</td>\n",
       "      <td>5.000000</td>\n",
       "      <td>414.000000</td>\n",
       "      <td>464.000000</td>\n",
       "      <td>465.000000</td>\n",
       "      <td>513.000000</td>\n",
       "      <td>18128.000000</td>\n",
       "      <td>64.000000</td>\n",
       "      <td>25.000000</td>\n",
       "      <td>6.000000</td>\n",
       "      <td>13.000000</td>\n",
       "      <td>9702.000000</td>\n",
       "      <td>13.000000</td>\n",
       "      <td>11.000000</td>\n",
       "      <td>15.625000</td>\n",
       "    </tr>\n",
       "    <tr>\n",
       "      <th>max</th>\n",
       "      <td>9710.000000</td>\n",
       "      <td>7.000000</td>\n",
       "      <td>6000.000000</td>\n",
       "      <td>6000.00000</td>\n",
       "      <td>13.000000</td>\n",
       "      <td>13.000000</td>\n",
       "      <td>1500.000000</td>\n",
       "      <td>1500.000000</td>\n",
       "      <td>1500.000000</td>\n",
       "      <td>1500.000000</td>\n",
       "      <td>159306.000000</td>\n",
       "      <td>195.000000</td>\n",
       "      <td>61.000000</td>\n",
       "      <td>19.000000</td>\n",
       "      <td>78.000000</td>\n",
       "      <td>9702.000000</td>\n",
       "      <td>237.000000</td>\n",
       "      <td>1088.000000</td>\n",
       "      <td>1000.000000</td>\n",
       "    </tr>\n",
       "  </tbody>\n",
       "</table>\n",
       "</div>"
      ],
      "text/plain": [
       "                DOB        INCOME           HV1          HV2           HV3  \\\n",
       "count  90569.000000  70386.000000  90569.000000  90569.00000  90569.000000   \n",
       "mean    2724.442789      3.878257   1056.391304   1127.42116      4.213473   \n",
       "std     2136.453823      1.855265    936.383991    942.16266      2.302380   \n",
       "min        0.000000      1.000000      0.000000      0.00000      0.000000   \n",
       "25%      112.000000      2.000000    511.000000    553.00000      3.000000   \n",
       "50%     2610.000000      4.000000    735.000000    800.00000      4.000000   \n",
       "75%     4601.000000      5.000000   1206.000000   1320.00000      5.000000   \n",
       "max     9710.000000      7.000000   6000.000000   6000.00000     13.000000   \n",
       "\n",
       "                HV4           IC1           IC2           IC3           IC4  \\\n",
       "count  90569.000000  90569.000000  90569.000000  90569.000000  90569.000000   \n",
       "mean       3.865462    339.373240    386.231083    386.694068    429.977917   \n",
       "std        2.239738    162.390371    173.082626    160.945113    171.332133   \n",
       "min        0.000000      0.000000      0.000000      0.000000      0.000000   \n",
       "25%        2.000000    230.000000    273.000000    277.000000    314.000000   \n",
       "50%        3.000000    309.000000    355.000000    353.000000    396.000000   \n",
       "75%        5.000000    414.000000    464.000000    465.000000    513.000000   \n",
       "max       13.000000   1500.000000   1500.000000   1500.000000   1500.000000   \n",
       "\n",
       "                 IC5       NUMPROM      CARDPROM      CARDPM12      NUMPRM12  \\\n",
       "count   90569.000000  90569.000000  90569.000000  90569.000000  90569.000000   \n",
       "mean    15682.038600     46.797204     18.370701      5.343407     12.837351   \n",
       "std      8508.870754     22.944967      8.582096      1.207126      4.499933   \n",
       "min         0.000000      4.000000      1.000000      0.000000      1.000000   \n",
       "25%     10770.000000     27.000000     11.000000      5.000000     11.000000   \n",
       "50%     13692.000000     46.000000     18.000000      6.000000     12.000000   \n",
       "75%     18128.000000     64.000000     25.000000      6.000000     13.000000   \n",
       "max    159306.000000    195.000000     61.000000     19.000000     78.000000   \n",
       "\n",
       "           MAXADATE      NGIFTALL       TIMELAG       AVGGIFT  \n",
       "count  90569.000000  90569.000000  80916.000000  90569.000000  \n",
       "mean    9701.640606      9.501353      8.114378     13.428585  \n",
       "std        5.679884      8.495065      8.310877     10.796349  \n",
       "min     9611.000000      1.000000      0.000000      1.285714  \n",
       "25%     9702.000000      3.000000      4.000000      8.454545  \n",
       "50%     9702.000000      7.000000      6.000000     11.666667  \n",
       "75%     9702.000000     13.000000     11.000000     15.625000  \n",
       "max     9702.000000    237.000000   1088.000000   1000.000000  "
      ]
     },
     "execution_count": 5,
     "metadata": {},
     "output_type": "execute_result"
    }
   ],
   "source": [
    "df.describe()"
   ]
  },
  {
   "cell_type": "markdown",
   "metadata": {},
   "source": [
    "## nulls dataframe "
   ]
  },
  {
   "cell_type": "code",
   "execution_count": 7,
   "metadata": {},
   "outputs": [],
   "source": [
    "nullsdf=pd.DataFrame(df.isna().sum()/len(df))"
   ]
  },
  {
   "cell_type": "code",
   "execution_count": 24,
   "metadata": {},
   "outputs": [
    {
     "data": {
      "text/html": [
       "<div>\n",
       "<style scoped>\n",
       "    .dataframe tbody tr th:only-of-type {\n",
       "        vertical-align: middle;\n",
       "    }\n",
       "\n",
       "    .dataframe tbody tr th {\n",
       "        vertical-align: top;\n",
       "    }\n",
       "\n",
       "    .dataframe thead th {\n",
       "        text-align: right;\n",
       "    }\n",
       "</style>\n",
       "<table border=\"1\" class=\"dataframe\">\n",
       "  <thead>\n",
       "    <tr style=\"text-align: right;\">\n",
       "      <th></th>\n",
       "      <th>0</th>\n",
       "    </tr>\n",
       "  </thead>\n",
       "  <tbody>\n",
       "    <tr>\n",
       "      <th>STATE</th>\n",
       "      <td>0.000000</td>\n",
       "    </tr>\n",
       "    <tr>\n",
       "      <th>PVASTATE</th>\n",
       "      <td>0.000000</td>\n",
       "    </tr>\n",
       "    <tr>\n",
       "      <th>DOB</th>\n",
       "      <td>0.000000</td>\n",
       "    </tr>\n",
       "    <tr>\n",
       "      <th>MDMAUD</th>\n",
       "      <td>0.000000</td>\n",
       "    </tr>\n",
       "    <tr>\n",
       "      <th>RECP3</th>\n",
       "      <td>0.000000</td>\n",
       "    </tr>\n",
       "    <tr>\n",
       "      <th>GENDER</th>\n",
       "      <td>0.000000</td>\n",
       "    </tr>\n",
       "    <tr>\n",
       "      <th>DOMAIN</th>\n",
       "      <td>0.000000</td>\n",
       "    </tr>\n",
       "    <tr>\n",
       "      <th>INCOME</th>\n",
       "      <td>0.222847</td>\n",
       "    </tr>\n",
       "    <tr>\n",
       "      <th>HOMEOWNR</th>\n",
       "      <td>0.000000</td>\n",
       "    </tr>\n",
       "    <tr>\n",
       "      <th>HV1</th>\n",
       "      <td>0.000000</td>\n",
       "    </tr>\n",
       "    <tr>\n",
       "      <th>HV2</th>\n",
       "      <td>0.000000</td>\n",
       "    </tr>\n",
       "    <tr>\n",
       "      <th>HV3</th>\n",
       "      <td>0.000000</td>\n",
       "    </tr>\n",
       "    <tr>\n",
       "      <th>HV4</th>\n",
       "      <td>0.000000</td>\n",
       "    </tr>\n",
       "    <tr>\n",
       "      <th>IC1</th>\n",
       "      <td>0.000000</td>\n",
       "    </tr>\n",
       "    <tr>\n",
       "      <th>IC2</th>\n",
       "      <td>0.000000</td>\n",
       "    </tr>\n",
       "    <tr>\n",
       "      <th>IC3</th>\n",
       "      <td>0.000000</td>\n",
       "    </tr>\n",
       "    <tr>\n",
       "      <th>IC4</th>\n",
       "      <td>0.000000</td>\n",
       "    </tr>\n",
       "    <tr>\n",
       "      <th>IC5</th>\n",
       "      <td>0.000000</td>\n",
       "    </tr>\n",
       "    <tr>\n",
       "      <th>VETERANS</th>\n",
       "      <td>0.000000</td>\n",
       "    </tr>\n",
       "    <tr>\n",
       "      <th>NUMPROM</th>\n",
       "      <td>0.000000</td>\n",
       "    </tr>\n",
       "    <tr>\n",
       "      <th>CARDPROM</th>\n",
       "      <td>0.000000</td>\n",
       "    </tr>\n",
       "    <tr>\n",
       "      <th>CARDPM12</th>\n",
       "      <td>0.000000</td>\n",
       "    </tr>\n",
       "    <tr>\n",
       "      <th>NUMPRM12</th>\n",
       "      <td>0.000000</td>\n",
       "    </tr>\n",
       "    <tr>\n",
       "      <th>MAXADATE</th>\n",
       "      <td>0.000000</td>\n",
       "    </tr>\n",
       "    <tr>\n",
       "      <th>RFA_2</th>\n",
       "      <td>0.000000</td>\n",
       "    </tr>\n",
       "    <tr>\n",
       "      <th>NGIFTALL</th>\n",
       "      <td>0.000000</td>\n",
       "    </tr>\n",
       "    <tr>\n",
       "      <th>TIMELAG</th>\n",
       "      <td>0.106582</td>\n",
       "    </tr>\n",
       "    <tr>\n",
       "      <th>AVGGIFT</th>\n",
       "      <td>0.000000</td>\n",
       "    </tr>\n",
       "  </tbody>\n",
       "</table>\n",
       "</div>"
      ],
      "text/plain": [
       "                 0\n",
       "STATE     0.000000\n",
       "PVASTATE  0.000000\n",
       "DOB       0.000000\n",
       "MDMAUD    0.000000\n",
       "RECP3     0.000000\n",
       "GENDER    0.000000\n",
       "DOMAIN    0.000000\n",
       "INCOME    0.222847\n",
       "HOMEOWNR  0.000000\n",
       "HV1       0.000000\n",
       "HV2       0.000000\n",
       "HV3       0.000000\n",
       "HV4       0.000000\n",
       "IC1       0.000000\n",
       "IC2       0.000000\n",
       "IC3       0.000000\n",
       "IC4       0.000000\n",
       "IC5       0.000000\n",
       "VETERANS  0.000000\n",
       "NUMPROM   0.000000\n",
       "CARDPROM  0.000000\n",
       "CARDPM12  0.000000\n",
       "NUMPRM12  0.000000\n",
       "MAXADATE  0.000000\n",
       "RFA_2     0.000000\n",
       "NGIFTALL  0.000000\n",
       "TIMELAG   0.106582\n",
       "AVGGIFT   0.000000"
      ]
     },
     "execution_count": 24,
     "metadata": {},
     "output_type": "execute_result"
    }
   ],
   "source": [
    "nullsdf"
   ]
  },
  {
   "cell_type": "markdown",
   "metadata": {},
   "source": [
    "## Nulls handling "
   ]
  },
  {
   "cell_type": "code",
   "execution_count": null,
   "metadata": {},
   "outputs": [],
   "source": [
    "# income and timelag features \n",
    "# EDA to understand those columns \n",
    "# relationship to label (avg_gift)\n",
    "# is the gap same in both cases "
   ]
  },
  {
   "cell_type": "code",
   "execution_count": 11,
   "metadata": {},
   "outputs": [
    {
     "data": {
      "text/html": [
       "<div>\n",
       "<style scoped>\n",
       "    .dataframe tbody tr th:only-of-type {\n",
       "        vertical-align: middle;\n",
       "    }\n",
       "\n",
       "    .dataframe tbody tr th {\n",
       "        vertical-align: top;\n",
       "    }\n",
       "\n",
       "    .dataframe thead th {\n",
       "        text-align: right;\n",
       "    }\n",
       "</style>\n",
       "<table border=\"1\" class=\"dataframe\">\n",
       "  <thead>\n",
       "    <tr style=\"text-align: right;\">\n",
       "      <th></th>\n",
       "      <th>STATE</th>\n",
       "      <th>PVASTATE</th>\n",
       "      <th>DOB</th>\n",
       "      <th>MDMAUD</th>\n",
       "      <th>RECP3</th>\n",
       "      <th>GENDER</th>\n",
       "      <th>DOMAIN</th>\n",
       "      <th>INCOME</th>\n",
       "      <th>HOMEOWNR</th>\n",
       "      <th>HV1</th>\n",
       "      <th>...</th>\n",
       "      <th>VETERANS</th>\n",
       "      <th>NUMPROM</th>\n",
       "      <th>CARDPROM</th>\n",
       "      <th>CARDPM12</th>\n",
       "      <th>NUMPRM12</th>\n",
       "      <th>MAXADATE</th>\n",
       "      <th>RFA_2</th>\n",
       "      <th>NGIFTALL</th>\n",
       "      <th>TIMELAG</th>\n",
       "      <th>AVGGIFT</th>\n",
       "    </tr>\n",
       "  </thead>\n",
       "  <tbody>\n",
       "    <tr>\n",
       "      <th>0</th>\n",
       "      <td>IL</td>\n",
       "      <td></td>\n",
       "      <td>3712</td>\n",
       "      <td>XXXX</td>\n",
       "      <td></td>\n",
       "      <td>F</td>\n",
       "      <td>T2</td>\n",
       "      <td>NaN</td>\n",
       "      <td></td>\n",
       "      <td>479</td>\n",
       "      <td>...</td>\n",
       "      <td></td>\n",
       "      <td>74</td>\n",
       "      <td>27</td>\n",
       "      <td>6</td>\n",
       "      <td>14</td>\n",
       "      <td>9702</td>\n",
       "      <td>L4E</td>\n",
       "      <td>31</td>\n",
       "      <td>4.0</td>\n",
       "      <td>7.741935</td>\n",
       "    </tr>\n",
       "    <tr>\n",
       "      <th>1</th>\n",
       "      <td>CA</td>\n",
       "      <td></td>\n",
       "      <td>5202</td>\n",
       "      <td>XXXX</td>\n",
       "      <td></td>\n",
       "      <td>M</td>\n",
       "      <td>S1</td>\n",
       "      <td>6.0</td>\n",
       "      <td>H</td>\n",
       "      <td>5468</td>\n",
       "      <td>...</td>\n",
       "      <td></td>\n",
       "      <td>32</td>\n",
       "      <td>12</td>\n",
       "      <td>6</td>\n",
       "      <td>13</td>\n",
       "      <td>9702</td>\n",
       "      <td>L2G</td>\n",
       "      <td>3</td>\n",
       "      <td>18.0</td>\n",
       "      <td>15.666667</td>\n",
       "    </tr>\n",
       "    <tr>\n",
       "      <th>2</th>\n",
       "      <td>NC</td>\n",
       "      <td></td>\n",
       "      <td>0</td>\n",
       "      <td>XXXX</td>\n",
       "      <td></td>\n",
       "      <td>M</td>\n",
       "      <td>R2</td>\n",
       "      <td>3.0</td>\n",
       "      <td>U</td>\n",
       "      <td>497</td>\n",
       "      <td>...</td>\n",
       "      <td></td>\n",
       "      <td>63</td>\n",
       "      <td>26</td>\n",
       "      <td>6</td>\n",
       "      <td>14</td>\n",
       "      <td>9702</td>\n",
       "      <td>L4E</td>\n",
       "      <td>27</td>\n",
       "      <td>12.0</td>\n",
       "      <td>7.481481</td>\n",
       "    </tr>\n",
       "    <tr>\n",
       "      <th>3</th>\n",
       "      <td>CA</td>\n",
       "      <td></td>\n",
       "      <td>2801</td>\n",
       "      <td>XXXX</td>\n",
       "      <td></td>\n",
       "      <td>F</td>\n",
       "      <td>R2</td>\n",
       "      <td>1.0</td>\n",
       "      <td>U</td>\n",
       "      <td>1000</td>\n",
       "      <td>...</td>\n",
       "      <td></td>\n",
       "      <td>66</td>\n",
       "      <td>27</td>\n",
       "      <td>6</td>\n",
       "      <td>14</td>\n",
       "      <td>9702</td>\n",
       "      <td>L4E</td>\n",
       "      <td>16</td>\n",
       "      <td>9.0</td>\n",
       "      <td>6.812500</td>\n",
       "    </tr>\n",
       "    <tr>\n",
       "      <th>4</th>\n",
       "      <td>FL</td>\n",
       "      <td></td>\n",
       "      <td>2001</td>\n",
       "      <td>XXXX</td>\n",
       "      <td>X</td>\n",
       "      <td>F</td>\n",
       "      <td>S2</td>\n",
       "      <td>3.0</td>\n",
       "      <td>H</td>\n",
       "      <td>576</td>\n",
       "      <td>...</td>\n",
       "      <td></td>\n",
       "      <td>113</td>\n",
       "      <td>43</td>\n",
       "      <td>10</td>\n",
       "      <td>25</td>\n",
       "      <td>9702</td>\n",
       "      <td>L2F</td>\n",
       "      <td>37</td>\n",
       "      <td>14.0</td>\n",
       "      <td>6.864865</td>\n",
       "    </tr>\n",
       "  </tbody>\n",
       "</table>\n",
       "<p>5 rows × 28 columns</p>\n",
       "</div>"
      ],
      "text/plain": [
       "  STATE PVASTATE   DOB MDMAUD RECP3 GENDER DOMAIN  INCOME HOMEOWNR   HV1  ...  \\\n",
       "0    IL           3712   XXXX            F     T2     NaN            479  ...   \n",
       "1    CA           5202   XXXX            M     S1     6.0        H  5468  ...   \n",
       "2    NC              0   XXXX            M     R2     3.0        U   497  ...   \n",
       "3    CA           2801   XXXX            F     R2     1.0        U  1000  ...   \n",
       "4    FL           2001   XXXX     X      F     S2     3.0        H   576  ...   \n",
       "\n",
       "   VETERANS  NUMPROM  CARDPROM  CARDPM12  NUMPRM12  MAXADATE  RFA_2  NGIFTALL  \\\n",
       "0                 74        27         6        14      9702    L4E        31   \n",
       "1                 32        12         6        13      9702    L2G         3   \n",
       "2                 63        26         6        14      9702    L4E        27   \n",
       "3                 66        27         6        14      9702    L4E        16   \n",
       "4                113        43        10        25      9702    L2F        37   \n",
       "\n",
       "  TIMELAG    AVGGIFT  \n",
       "0     4.0   7.741935  \n",
       "1    18.0  15.666667  \n",
       "2    12.0   7.481481  \n",
       "3     9.0   6.812500  \n",
       "4    14.0   6.864865  \n",
       "\n",
       "[5 rows x 28 columns]"
      ]
     },
     "execution_count": 11,
     "metadata": {},
     "output_type": "execute_result"
    }
   ],
   "source": [
    "df.head()"
   ]
  },
  {
   "cell_type": "markdown",
   "metadata": {},
   "source": [
    "- REMEMBER that isna.sum() only displays nulls for numeric values. \n",
    "- to find whitespaces in categories, you can set a function that replaces '' or ' ' with 'unknown'\n",
    "- explore the data in tableau or python, visually, (eg in python using value counts or count plot)"
   ]
  },
  {
   "cell_type": "code",
   "execution_count": 35,
   "metadata": {},
   "outputs": [
    {
     "data": {
      "text/plain": [
       "XXXX    90290\n",
       "C1CM       59\n",
       "L1CM       44\n",
       "I1CM       34\n",
       "D2CM       27\n",
       "C2CM       23\n",
       "D1CM       19\n",
       "L2CM       14\n",
       "C1LM        8\n",
       "L1LM        8\n",
       "I2CM        7\n",
       "D5CM        5\n",
       "D5MM        5\n",
       "D2MM        4\n",
       "I1LM        3\n",
       "D5TM        3\n",
       "C2MM        3\n",
       "C5CM        3\n",
       "C2LM        2\n",
       "C1MM        1\n",
       "I2MM        1\n",
       "I5CM        1\n",
       "I5MM        1\n",
       "C5MM        1\n",
       "L1MM        1\n",
       "C5TM        1\n",
       "L2TM        1\n",
       "Name: MDMAUD, dtype: int64"
      ]
     },
     "execution_count": 35,
     "metadata": {},
     "output_type": "execute_result"
    }
   ],
   "source": [
    "df['MDMAUD'].value_counts()"
   ]
  },
  {
   "cell_type": "code",
   "execution_count": 14,
   "metadata": {},
   "outputs": [
    {
     "data": {
      "text/plain": [
       "     80723\n",
       "Y     9846\n",
       "Name: VETERANS, dtype: int64"
      ]
     },
     "execution_count": 14,
     "metadata": {},
     "output_type": "execute_result"
    }
   ],
   "source": [
    "df['VETERANS'].value_counts()"
   ]
  },
  {
   "cell_type": "code",
   "execution_count": 16,
   "metadata": {},
   "outputs": [
    {
     "data": {
      "text/plain": [
       "<AxesSubplot:xlabel='VETERANS', ylabel='count'>"
      ]
     },
     "execution_count": 16,
     "metadata": {},
     "output_type": "execute_result"
    },
    {
     "data": {
      "image/png": "[encoded data removed]",
      "text/plain": [
       "<Figure size 432x288 with 1 Axes>"
      ]
     },
     "metadata": {
      "needs_background": "light"
     },
     "output_type": "display_data"
    }
   ],
   "source": [
    "sns.countplot(x='VETERANS',data=df)"
   ]
  },
  {
   "cell_type": "markdown",
   "metadata": {},
   "source": [
    "- REGEX /s - any white space \n",
    "- ^$ start and end of string \n",
    "- apply this to find any blanks and replace with NaN "
   ]
  },
  {
   "cell_type": "code",
   "execution_count": 22,
   "metadata": {},
   "outputs": [],
   "source": [
    "df1= df.replace(r'^\\s$',np.NaN,regex=True)"
   ]
  },
  {
   "cell_type": "code",
   "execution_count": 23,
   "metadata": {
    "collapsed": true
   },
   "outputs": [
    {
     "name": "stdout",
     "output_type": "stream",
     "text": [
      "<class 'pandas.core.frame.DataFrame'>\n",
      "RangeIndex: 90569 entries, 0 to 90568\n",
      "Data columns (total 28 columns):\n",
      " #   Column    Non-Null Count  Dtype  \n",
      "---  ------    --------------  -----  \n",
      " 0   STATE     90569 non-null  object \n",
      " 1   PVASTATE  1385 non-null   object \n",
      " 2   DOB       90569 non-null  int64  \n",
      " 3   MDMAUD    90569 non-null  object \n",
      " 4   RECP3     1833 non-null   object \n",
      " 5   GENDER    87774 non-null  object \n",
      " 6   DOMAIN    88393 non-null  object \n",
      " 7   INCOME    70386 non-null  float64\n",
      " 8   HOMEOWNR  69518 non-null  object \n",
      " 9   HV1       90569 non-null  int64  \n",
      " 10  HV2       90569 non-null  int64  \n",
      " 11  HV3       90569 non-null  int64  \n",
      " 12  HV4       90569 non-null  int64  \n",
      " 13  IC1       90569 non-null  int64  \n",
      " 14  IC2       90569 non-null  int64  \n",
      " 15  IC3       90569 non-null  int64  \n",
      " 16  IC4       90569 non-null  int64  \n",
      " 17  IC5       90569 non-null  int64  \n",
      " 18  VETERANS  9846 non-null   object \n",
      " 19  NUMPROM   90569 non-null  int64  \n",
      " 20  CARDPROM  90569 non-null  int64  \n",
      " 21  CARDPM12  90569 non-null  int64  \n",
      " 22  NUMPRM12  90569 non-null  int64  \n",
      " 23  MAXADATE  90569 non-null  int64  \n",
      " 24  RFA_2     90569 non-null  object \n",
      " 25  NGIFTALL  90569 non-null  int64  \n",
      " 26  TIMELAG   80916 non-null  float64\n",
      " 27  AVGGIFT   90569 non-null  float64\n",
      "dtypes: float64(3), int64(16), object(9)\n",
      "memory usage: 19.3+ MB\n"
     ]
    }
   ],
   "source": [
    "df1.info()"
   ]
  },
  {
   "cell_type": "code",
   "execution_count": 25,
   "metadata": {},
   "outputs": [
    {
     "data": {
      "text/plain": [
       "Index(['STATE', 'PVASTATE', 'DOB', 'MDMAUD', 'RECP3', 'GENDER', 'DOMAIN',\n",
       "       'INCOME', 'HOMEOWNR', 'HV1', 'HV2', 'HV3', 'HV4', 'IC1', 'IC2', 'IC3',\n",
       "       'IC4', 'IC5', 'VETERANS', 'NUMPROM', 'CARDPROM', 'CARDPM12', 'NUMPRM12',\n",
       "       'MAXADATE', 'RFA_2', 'NGIFTALL', 'TIMELAG', 'AVGGIFT'],\n",
       "      dtype='object')"
      ]
     },
     "execution_count": 25,
     "metadata": {},
     "output_type": "execute_result"
    }
   ],
   "source": [
    "df.columns"
   ]
  },
  {
   "cell_type": "markdown",
   "metadata": {},
   "source": [
    "## Imputing the income value (if its useful)"
   ]
  },
  {
   "cell_type": "code",
   "execution_count": 26,
   "metadata": {},
   "outputs": [
    {
     "data": {
      "text/plain": [
       "<seaborn.axisgrid.JointGrid at 0x7f995ff95340>"
      ]
     },
     "execution_count": 26,
     "metadata": {},
     "output_type": "execute_result"
    },
    {
     "data": {
      "image/png": "[encoded data removed]",
      "text/plain": [
       "<Figure size 432x432 with 3 Axes>"
      ]
     },
     "metadata": {
      "needs_background": "light"
     },
     "output_type": "display_data"
    }
   ],
   "source": [
    "sns.jointplot(x=df['INCOME'],y=df['AVGGIFT']);\n",
    "# as the chart shows, no clear evidence of a relationship between independent and dependent var"
   ]
  },
  {
   "cell_type": "code",
   "execution_count": 27,
   "metadata": {},
   "outputs": [
    {
     "data": {
      "text/plain": [
       "5.0    14639\n",
       "2.0    12482\n",
       "4.0    12092\n",
       "1.0     8646\n",
       "3.0     8135\n",
       "6.0     7347\n",
       "7.0     7045\n",
       "Name: INCOME, dtype: int64"
      ]
     },
     "execution_count": 27,
     "metadata": {},
     "output_type": "execute_result"
    }
   ],
   "source": [
    "df['INCOME'].value_counts()"
   ]
  },
  {
   "cell_type": "code",
   "execution_count": 29,
   "metadata": {},
   "outputs": [
    {
     "data": {
      "text/plain": [
       "3.8782570397522234"
      ]
     },
     "execution_count": 29,
     "metadata": {},
     "output_type": "execute_result"
    }
   ],
   "source": [
    "np.mean(df['INCOME'])"
   ]
  },
  {
   "cell_type": "markdown",
   "metadata": {},
   "source": [
    "- impute options : median / mean fill - bias, fill with most common value (MODE)\n",
    "- interpolate with pandas \n",
    "- predict the value using a model (each model is wrong but some are useful) - interpolation\n",
    "    "
   ]
  },
  {
   "cell_type": "code",
   "execution_count": null,
   "metadata": {},
   "outputs": [],
   "source": [
    "# visualise \n",
    "# try something \n",
    "# visualise \n",
    "# try something else\n",
    "# visualise \n",
    "# pick the best option / least worst option"
   ]
  },
  {
   "cell_type": "code",
   "execution_count": 30,
   "metadata": {},
   "outputs": [],
   "source": [
    "new_income_1=df['INCOME'][0:40].interpolate(method='linear')"
   ]
  },
  {
   "cell_type": "code",
   "execution_count": 31,
   "metadata": {
    "collapsed": true
   },
   "outputs": [
    {
     "data": {
      "text/plain": [
       "0          NaN\n",
       "1     6.000000\n",
       "2     3.000000\n",
       "3     1.000000\n",
       "4     3.000000\n",
       "5     3.500000\n",
       "6     4.000000\n",
       "7     2.000000\n",
       "8     3.000000\n",
       "9     2.500000\n",
       "10    2.000000\n",
       "11    1.000000\n",
       "12    4.000000\n",
       "13    4.000000\n",
       "14    4.000000\n",
       "15    1.000000\n",
       "16    1.000000\n",
       "17    7.000000\n",
       "18    4.000000\n",
       "19    3.000000\n",
       "20    2.000000\n",
       "21    3.666667\n",
       "22    5.333333\n",
       "23    7.000000\n",
       "24    7.000000\n",
       "25    7.000000\n",
       "26    7.000000\n",
       "27    7.000000\n",
       "28    4.000000\n",
       "29    1.000000\n",
       "30    4.000000\n",
       "31    4.000000\n",
       "32    4.000000\n",
       "33    4.000000\n",
       "34    4.000000\n",
       "35    5.000000\n",
       "36    6.000000\n",
       "37    3.000000\n",
       "38    3.000000\n",
       "39    3.000000\n",
       "Name: INCOME, dtype: float64"
      ]
     },
     "execution_count": 31,
     "metadata": {},
     "output_type": "execute_result"
    }
   ],
   "source": [
    "new_income_1"
   ]
  },
  {
   "cell_type": "code",
   "execution_count": 32,
   "metadata": {},
   "outputs": [],
   "source": [
    "points_2=df['INCOME'].fillna(np.mean(df['INCOME']))"
   ]
  },
  {
   "cell_type": "code",
   "execution_count": 34,
   "metadata": {},
   "outputs": [
    {
     "data": {
      "image/png": "[encoded data removed]",
      "text/plain": [
       "<Figure size 360x360 with 1 Axes>"
      ]
     },
     "metadata": {
      "needs_background": "light"
     },
     "output_type": "display_data"
    }
   ],
   "source": [
    "sns.displot(points_2);"
   ]
  },
  {
   "cell_type": "markdown",
   "metadata": {},
   "source": [
    "## Reduce the number of unique strings "
   ]
  },
  {
   "cell_type": "code",
   "execution_count": 36,
   "metadata": {
    "collapsed": true
   },
   "outputs": [
    {
     "data": {
      "text/plain": [
       "CA    16284\n",
       "FL     7959\n",
       "TX     7166\n",
       "IL     6124\n",
       "MI     5375\n",
       "NC     3956\n",
       "WA     3383\n",
       "GA     3261\n",
       "IN     2855\n",
       "WI     2656\n",
       "MO     2583\n",
       "TN     2396\n",
       "AZ     2278\n",
       "MN     2081\n",
       "OR     2045\n",
       "CO     1929\n",
       "SC     1660\n",
       "AL     1627\n",
       "OK     1553\n",
       "KY     1542\n",
       "LA     1533\n",
       "KS     1233\n",
       "IA     1214\n",
       "AR      969\n",
       "MS      948\n",
       "NV      923\n",
       "NM      824\n",
       "NE      715\n",
       "UT      546\n",
       "ID      504\n",
       "MT      498\n",
       "HI      423\n",
       "SD      278\n",
       "AK      275\n",
       "WY      267\n",
       "ND      241\n",
       "AP       78\n",
       "NY       70\n",
       "VA       54\n",
       "OH       52\n",
       "PA       36\n",
       "MD       30\n",
       "MA       25\n",
       "NJ       24\n",
       "CT       20\n",
       "AA       15\n",
       "AE       14\n",
       "ME       11\n",
       "NH        8\n",
       "RI        6\n",
       "VT        6\n",
       "VI        5\n",
       "WV        3\n",
       "GU        3\n",
       "DE        3\n",
       "AS        1\n",
       "DC        1\n",
       "Name: STATE, dtype: int64"
      ]
     },
     "execution_count": 36,
     "metadata": {},
     "output_type": "execute_result"
    }
   ],
   "source": [
    "df['STATE'].value_counts()"
   ]
  },
  {
   "cell_type": "code",
   "execution_count": 37,
   "metadata": {},
   "outputs": [],
   "source": [
    "values=pd.DataFrame(df['STATE'].value_counts())"
   ]
  },
  {
   "cell_type": "code",
   "execution_count": 48,
   "metadata": {},
   "outputs": [],
   "source": [
    "values=values.reset_index()"
   ]
  },
  {
   "cell_type": "code",
   "execution_count": 49,
   "metadata": {},
   "outputs": [],
   "source": [
    "values.columns=['nameofstate','count']"
   ]
  },
  {
   "cell_type": "code",
   "execution_count": 50,
   "metadata": {},
   "outputs": [],
   "source": [
    "group_states=values[values['count']<1000]"
   ]
  },
  {
   "cell_type": "code",
   "execution_count": 52,
   "metadata": {},
   "outputs": [
    {
     "data": {
      "text/html": [
       "<div>\n",
       "<style scoped>\n",
       "    .dataframe tbody tr th:only-of-type {\n",
       "        vertical-align: middle;\n",
       "    }\n",
       "\n",
       "    .dataframe tbody tr th {\n",
       "        vertical-align: top;\n",
       "    }\n",
       "\n",
       "    .dataframe thead th {\n",
       "        text-align: right;\n",
       "    }\n",
       "</style>\n",
       "<table border=\"1\" class=\"dataframe\">\n",
       "  <thead>\n",
       "    <tr style=\"text-align: right;\">\n",
       "      <th></th>\n",
       "      <th>nameofstate</th>\n",
       "      <th>count</th>\n",
       "    </tr>\n",
       "  </thead>\n",
       "  <tbody>\n",
       "    <tr>\n",
       "      <th>23</th>\n",
       "      <td>AR</td>\n",
       "      <td>969</td>\n",
       "    </tr>\n",
       "    <tr>\n",
       "      <th>24</th>\n",
       "      <td>MS</td>\n",
       "      <td>948</td>\n",
       "    </tr>\n",
       "    <tr>\n",
       "      <th>25</th>\n",
       "      <td>NV</td>\n",
       "      <td>923</td>\n",
       "    </tr>\n",
       "    <tr>\n",
       "      <th>26</th>\n",
       "      <td>NM</td>\n",
       "      <td>824</td>\n",
       "    </tr>\n",
       "    <tr>\n",
       "      <th>27</th>\n",
       "      <td>NE</td>\n",
       "      <td>715</td>\n",
       "    </tr>\n",
       "  </tbody>\n",
       "</table>\n",
       "</div>"
      ],
      "text/plain": [
       "   nameofstate  count\n",
       "23          AR    969\n",
       "24          MS    948\n",
       "25          NV    923\n",
       "26          NM    824\n",
       "27          NE    715"
      ]
     },
     "execution_count": 52,
     "metadata": {},
     "output_type": "execute_result"
    }
   ],
   "source": [
    "group_states.head()"
   ]
  },
  {
   "cell_type": "code",
   "execution_count": 62,
   "metadata": {},
   "outputs": [],
   "source": [
    "group_states_l=list(group_states['nameofstate'])"
   ]
  },
  {
   "cell_type": "code",
   "execution_count": 63,
   "metadata": {},
   "outputs": [],
   "source": [
    "def groupthestate(x):\n",
    "    if x in group_states_l:\n",
    "        return 'other'\n",
    "    else:\n",
    "        return x "
   ]
  },
  {
   "cell_type": "code",
   "execution_count": 64,
   "metadata": {},
   "outputs": [],
   "source": [
    "df['STATE']=list(map(groupthestate,df['STATE']))"
   ]
  },
  {
   "cell_type": "code",
   "execution_count": 65,
   "metadata": {},
   "outputs": [
    {
     "data": {
      "text/plain": [
       "CA       16284\n",
       "FL        7959\n",
       "other     7876\n",
       "TX        7166\n",
       "IL        6124\n",
       "MI        5375\n",
       "NC        3956\n",
       "WA        3383\n",
       "GA        3261\n",
       "IN        2855\n",
       "WI        2656\n",
       "MO        2583\n",
       "TN        2396\n",
       "AZ        2278\n",
       "MN        2081\n",
       "OR        2045\n",
       "CO        1929\n",
       "SC        1660\n",
       "AL        1627\n",
       "OK        1553\n",
       "KY        1542\n",
       "LA        1533\n",
       "KS        1233\n",
       "IA        1214\n",
       "Name: STATE, dtype: int64"
      ]
     },
     "execution_count": 65,
     "metadata": {},
     "output_type": "execute_result"
    }
   ],
   "source": [
    "df['STATE'].value_counts()"
   ]
  },
  {
   "cell_type": "markdown",
   "metadata": {},
   "source": [
    "## Reduce the number of unique values - continuous (numbers)"
   ]
  },
  {
   "cell_type": "code",
   "execution_count": 67,
   "metadata": {},
   "outputs": [],
   "source": [
    "# we can also bucket numerical values using pd.qcut (quantiles-equal size groups) or pd.cut (custom)\n",
    "#method : \n",
    "df['IC4_CUT']=pd.qcut(df['IC4'], 4, labels=[\"one\", \"two\", \"three\", \"four\"])"
   ]
  },
  {
   "cell_type": "code",
   "execution_count": 72,
   "metadata": {},
   "outputs": [
    {
     "data": {
      "image/png": "[encoded data removed]",
      "text/plain": [
       "<Figure size 360x360 with 1 Axes>"
      ]
     },
     "metadata": {
      "needs_background": "light"
     },
     "output_type": "display_data"
    }
   ],
   "source": [
    "sns.displot(df['IC4']);"
   ]
  },
  {
   "cell_type": "code",
   "execution_count": 73,
   "metadata": {},
   "outputs": [
    {
     "data": {
      "image/png": "[encoded data removed]",
      "text/plain": [
       "<Figure size 360x360 with 1 Axes>"
      ]
     },
     "metadata": {
      "needs_background": "light"
     },
     "output_type": "display_data"
    }
   ],
   "source": [
    "sns.displot(df['IC4_CUT']);"
   ]
  },
  {
   "cell_type": "code",
   "execution_count": 69,
   "metadata": {},
   "outputs": [
    {
     "data": {
      "text/html": [
       "<div>\n",
       "<style scoped>\n",
       "    .dataframe tbody tr th:only-of-type {\n",
       "        vertical-align: middle;\n",
       "    }\n",
       "\n",
       "    .dataframe tbody tr th {\n",
       "        vertical-align: top;\n",
       "    }\n",
       "\n",
       "    .dataframe thead th {\n",
       "        text-align: right;\n",
       "    }\n",
       "</style>\n",
       "<table border=\"1\" class=\"dataframe\">\n",
       "  <thead>\n",
       "    <tr style=\"text-align: right;\">\n",
       "      <th></th>\n",
       "      <th>IC4</th>\n",
       "      <th>IC4_CUT</th>\n",
       "    </tr>\n",
       "  </thead>\n",
       "  <tbody>\n",
       "    <tr>\n",
       "      <th>0</th>\n",
       "      <td>378</td>\n",
       "      <td>two</td>\n",
       "    </tr>\n",
       "    <tr>\n",
       "      <th>1</th>\n",
       "      <td>1037</td>\n",
       "      <td>four</td>\n",
       "    </tr>\n",
       "    <tr>\n",
       "      <th>2</th>\n",
       "      <td>340</td>\n",
       "      <td>two</td>\n",
       "    </tr>\n",
       "    <tr>\n",
       "      <th>3</th>\n",
       "      <td>423</td>\n",
       "      <td>three</td>\n",
       "    </tr>\n",
       "    <tr>\n",
       "      <th>4</th>\n",
       "      <td>321</td>\n",
       "      <td>two</td>\n",
       "    </tr>\n",
       "    <tr>\n",
       "      <th>...</th>\n",
       "      <td>...</td>\n",
       "      <td>...</td>\n",
       "    </tr>\n",
       "    <tr>\n",
       "      <th>90564</th>\n",
       "      <td>334</td>\n",
       "      <td>two</td>\n",
       "    </tr>\n",
       "    <tr>\n",
       "      <th>90565</th>\n",
       "      <td>535</td>\n",
       "      <td>four</td>\n",
       "    </tr>\n",
       "    <tr>\n",
       "      <th>90566</th>\n",
       "      <td>849</td>\n",
       "      <td>four</td>\n",
       "    </tr>\n",
       "    <tr>\n",
       "      <th>90567</th>\n",
       "      <td>345</td>\n",
       "      <td>two</td>\n",
       "    </tr>\n",
       "    <tr>\n",
       "      <th>90568</th>\n",
       "      <td>519</td>\n",
       "      <td>four</td>\n",
       "    </tr>\n",
       "  </tbody>\n",
       "</table>\n",
       "<p>90569 rows × 2 columns</p>\n",
       "</div>"
      ],
      "text/plain": [
       "        IC4 IC4_CUT\n",
       "0       378     two\n",
       "1      1037    four\n",
       "2       340     two\n",
       "3       423   three\n",
       "4       321     two\n",
       "...     ...     ...\n",
       "90564   334     two\n",
       "90565   535    four\n",
       "90566   849    four\n",
       "90567   345     two\n",
       "90568   519    four\n",
       "\n",
       "[90569 rows x 2 columns]"
      ]
     },
     "execution_count": 69,
     "metadata": {},
     "output_type": "execute_result"
    }
   ],
   "source": [
    "df[['IC4','IC4_CUT']]"
   ]
  },
  {
   "cell_type": "markdown",
   "metadata": {},
   "source": [
    "##### thats all for today - we didnt get to VIF variation inflation factor, which checks categories for multicollinearity - but look at the useful code channel on slack for an article on this - the normal threshold is >10 "
   ]
  }
 ],
 "metadata": {
  "kernelspec": {
   "display_name": "Python 3",
   "language": "python",
   "name": "python3"
  },
  "language_info": {
   "codemirror_mode": {
    "name": "ipython",
    "version": 3
   },
   "file_extension": ".py",
   "mimetype": "text/x-python",
   "name": "python",
   "nbconvert_exporter": "python",
   "pygments_lexer": "ipython3",
   "version": "3.8.5"
  },
  "toc": {
   "base_numbering": 1,
   "nav_menu": {},
   "number_sections": true,
   "sideBar": true,
   "skip_h1_title": false,
   "title_cell": "Table of Contents",
   "title_sidebar": "Contents",
   "toc_cell": false,
   "toc_position": {},
   "toc_section_display": true,
   "toc_window_display": false
  },
  "varInspector": {
   "cols": {
    "lenName": 16,
    "lenType": 16,
    "lenVar": 40
   },
   "kernels_config": {
    "python": {
     "delete_cmd_postfix": "",
     "delete_cmd_prefix": "del ",
     "library": "var_list.py",
     "varRefreshCmd": "print(var_dic_list())"
    },
    "r": {
     "delete_cmd_postfix": ") ",
     "delete_cmd_prefix": "rm(",
     "library": "var_list.r",
     "varRefreshCmd": "cat(var_dic_list()) "
    }
   },
   "position": {
    "height": "402.85px",
    "left": "487px",
    "right": "20px",
    "top": "89px",
    "width": "346px"
   },
   "types_to_exclude": [
    "module",
    "function",
    "builtin_function_or_method",
    "instance",
    "_Feature"
   ],
   "window_display": true
  }
 },
 "nbformat": 4,
 "nbformat_minor": 5
}
