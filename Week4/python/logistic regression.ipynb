{
 "cells": [
  {
   "cell_type": "markdown",
   "metadata": {
    "toc": true
   },
   "source": [
    "<h1>Table of Contents<span class=\"tocSkip\"></span></h1>\n",
    "<div class=\"toc\"><ul class=\"toc-item\"><li><span><a href=\"#Cleaning\" data-toc-modified-id=\"Cleaning-1\"><span class=\"toc-item-num\">1&nbsp;&nbsp;</span>Cleaning</a></span><ul class=\"toc-item\"><li><span><a href=\"#Dealing-with-nulls\" data-toc-modified-id=\"Dealing-with-nulls-1.1\"><span class=\"toc-item-num\">1.1&nbsp;&nbsp;</span>Dealing with nulls</a></span></li><li><span><a href=\"#Drop-duplicates\" data-toc-modified-id=\"Drop-duplicates-1.2\"><span class=\"toc-item-num\">1.2&nbsp;&nbsp;</span>Drop duplicates</a></span></li><li><span><a href=\"#EDA\" data-toc-modified-id=\"EDA-1.3\"><span class=\"toc-item-num\">1.3&nbsp;&nbsp;</span>EDA</a></span><ul class=\"toc-item\"><li><span><a href=\"#turning-status-in-a-number-so-we-can-correlate-with-other-numeric-feat\" data-toc-modified-id=\"turning-status-in-a-number-so-we-can-correlate-with-other-numeric-feat-1.3.1\"><span class=\"toc-item-num\">1.3.1&nbsp;&nbsp;</span>turning status in a number so we can correlate with other numeric feat</a></span></li><li><span><a href=\"#correlation-matrix\" data-toc-modified-id=\"correlation-matrix-1.3.2\"><span class=\"toc-item-num\">1.3.2&nbsp;&nbsp;</span>correlation matrix</a></span></li><li><span><a href=\"#Looking-at-the-categories---with-chi-squared,--plots-as-needed\" data-toc-modified-id=\"Looking-at-the-categories---with-chi-squared,--plots-as-needed-1.3.3\"><span class=\"toc-item-num\">1.3.3&nbsp;&nbsp;</span>Looking at the categories - with chi squared,  plots as needed</a></span></li><li><span><a href=\"#outliers-spotting---using-distribution-of-numerical-features\" data-toc-modified-id=\"outliers-spotting---using-distribution-of-numerical-features-1.3.4\"><span class=\"toc-item-num\">1.3.4&nbsp;&nbsp;</span>outliers spotting - using distribution of numerical features</a></span></li></ul></li><li><span><a href=\"#split-our-data-into-three-pieces-for-pre-processing\" data-toc-modified-id=\"split-our-data-into-three-pieces-for-pre-processing-1.4\"><span class=\"toc-item-num\">1.4&nbsp;&nbsp;</span>split our data into three pieces for pre processing</a></span><ul class=\"toc-item\"><li><span><a href=\"#Encode-categories---with-getdummies\" data-toc-modified-id=\"Encode-categories---with-getdummies-1.4.1\"><span class=\"toc-item-num\">1.4.1&nbsp;&nbsp;</span>Encode categories - with getdummies</a></span></li><li><span><a href=\"#Scale-numerical-columns-on-standard-scaler\" data-toc-modified-id=\"Scale-numerical-columns-on-standard-scaler-1.4.2\"><span class=\"toc-item-num\">1.4.2&nbsp;&nbsp;</span>Scale numerical columns on standard scaler</a></span></li><li><span><a href=\"#concat-numerical-and-categories;\" data-toc-modified-id=\"concat-numerical-and-categories;-1.4.3\"><span class=\"toc-item-num\">1.4.3&nbsp;&nbsp;</span>concat numerical and categories;</a></span></li></ul></li></ul></li><li><span><a href=\"#Candidate-1---Logistic-Regression\" data-toc-modified-id=\"Candidate-1---Logistic-Regression-2\"><span class=\"toc-item-num\">2&nbsp;&nbsp;</span>Candidate 1 - Logistic Regression</a></span></li><li><span><a href=\"#export-the-model-using-pickle\" data-toc-modified-id=\"export-the-model-using-pickle-3\"><span class=\"toc-item-num\">3&nbsp;&nbsp;</span>export the model using pickle</a></span></li><li><span><a href=\"#Confusion-Matrix\" data-toc-modified-id=\"Confusion-Matrix-4\"><span class=\"toc-item-num\">4&nbsp;&nbsp;</span>Confusion Matrix</a></span></li></ul></div>"
   ]
  },
  {
   "cell_type": "code",
   "execution_count": 1,
   "metadata": {},
   "outputs": [],
   "source": [
    "import pymysql\n",
    "import sqlalchemy\n",
    "from sqlalchemy import create_engine \n",
    "import pandas as pd\n",
    "import getpass"
   ]
  },
  {
   "cell_type": "code",
   "execution_count": 2,
   "metadata": {},
   "outputs": [
    {
     "name": "stdout",
     "output_type": "stream",
     "text": [
      "········\n"
     ]
    }
   ],
   "source": [
    "mysql_pw=getpass.getpass()"
   ]
  },
  {
   "cell_type": "code",
   "execution_count": 3,
   "metadata": {},
   "outputs": [],
   "source": [
    "connection_string='mysql+pymysql://root:'+ mysql_pw +'@localhost:3306/bank'\n",
    "engine=create_engine(connection_string)"
   ]
  },
  {
   "cell_type": "code",
   "execution_count": 4,
   "metadata": {},
   "outputs": [],
   "source": [
    "query = '''select t.type as trans_type,\n",
    "    t.operation, \n",
    "    t.amount as t_amount, \n",
    "    t.balance, \n",
    "    t.k_symbol, \n",
    "    l.amount as l_amount, \n",
    "    l.duration, \n",
    "    l.payments, \n",
    "    l.status, \n",
    "    l.date as loan_start,\n",
    "    c.type as credit_card,\n",
    "    cl.birth_number,\n",
    "    dt.A11 as avg_salary,\n",
    "    dt.A13 as unempl_rate \n",
    "\n",
    "FROM \n",
    "    trans t\n",
    "        LEFT JOIN            \n",
    "    loan l on t.account_id = l.account_id\n",
    "        LEFT JOIN\n",
    "    disp d\n",
    "    on t.account_id = d.account_id\n",
    "        LEFT JOIN\n",
    "    card c on d.disp_id = c.disp_id\n",
    "        LEFT JOIN\n",
    "    client cl\n",
    "    on d.client_id=cl.client_id\n",
    "        LEFT JOIN\n",
    "        district dt\n",
    "    on cl.district_id = dt.A1\n",
    "WHERE l.loan_id is not null and d.type ='OWNER' and status in ('A','B');\n",
    "'''"
   ]
  },
  {
   "cell_type": "code",
   "execution_count": 5,
   "metadata": {},
   "outputs": [
    {
     "data": {
      "text/html": [
       "<div>\n",
       "<style scoped>\n",
       "    .dataframe tbody tr th:only-of-type {\n",
       "        vertical-align: middle;\n",
       "    }\n",
       "\n",
       "    .dataframe tbody tr th {\n",
       "        vertical-align: top;\n",
       "    }\n",
       "\n",
       "    .dataframe thead th {\n",
       "        text-align: right;\n",
       "    }\n",
       "</style>\n",
       "<table border=\"1\" class=\"dataframe\">\n",
       "  <thead>\n",
       "    <tr style=\"text-align: right;\">\n",
       "      <th></th>\n",
       "      <th>trans_type</th>\n",
       "      <th>operation</th>\n",
       "      <th>t_amount</th>\n",
       "      <th>balance</th>\n",
       "      <th>k_symbol</th>\n",
       "      <th>l_amount</th>\n",
       "      <th>duration</th>\n",
       "      <th>payments</th>\n",
       "      <th>status</th>\n",
       "      <th>loan_start</th>\n",
       "      <th>credit_card</th>\n",
       "      <th>birth_number</th>\n",
       "      <th>avg_salary</th>\n",
       "      <th>unempl_rate</th>\n",
       "    </tr>\n",
       "  </thead>\n",
       "  <tbody>\n",
       "    <tr>\n",
       "      <th>0</th>\n",
       "      <td>PRIJEM</td>\n",
       "      <td>PREVOD Z UCTU</td>\n",
       "      <td>44749.0</td>\n",
       "      <td>45549.0</td>\n",
       "      <td></td>\n",
       "      <td>79608</td>\n",
       "      <td>24</td>\n",
       "      <td>3317.0</td>\n",
       "      <td>A</td>\n",
       "      <td>931122</td>\n",
       "      <td>None</td>\n",
       "      <td>700428</td>\n",
       "      <td>8254</td>\n",
       "      <td>3.76</td>\n",
       "    </tr>\n",
       "    <tr>\n",
       "      <th>1</th>\n",
       "      <td>PRIJEM</td>\n",
       "      <td>VKLAD</td>\n",
       "      <td>1000.0</td>\n",
       "      <td>1000.0</td>\n",
       "      <td></td>\n",
       "      <td>52788</td>\n",
       "      <td>12</td>\n",
       "      <td>4399.0</td>\n",
       "      <td>A</td>\n",
       "      <td>930915</td>\n",
       "      <td>None</td>\n",
       "      <td>730216</td>\n",
       "      <td>9045</td>\n",
       "      <td>3.60</td>\n",
       "    </tr>\n",
       "    <tr>\n",
       "      <th>2</th>\n",
       "      <td>PRIJEM</td>\n",
       "      <td>VKLAD</td>\n",
       "      <td>1100.0</td>\n",
       "      <td>1100.0</td>\n",
       "      <td></td>\n",
       "      <td>21924</td>\n",
       "      <td>36</td>\n",
       "      <td>609.0</td>\n",
       "      <td>A</td>\n",
       "      <td>931110</td>\n",
       "      <td>None</td>\n",
       "      <td>600820</td>\n",
       "      <td>8743</td>\n",
       "      <td>2.43</td>\n",
       "    </tr>\n",
       "    <tr>\n",
       "      <th>3</th>\n",
       "      <td>PRIJEM</td>\n",
       "      <td>VKLAD</td>\n",
       "      <td>700.0</td>\n",
       "      <td>700.0</td>\n",
       "      <td></td>\n",
       "      <td>23052</td>\n",
       "      <td>12</td>\n",
       "      <td>1921.0</td>\n",
       "      <td>A</td>\n",
       "      <td>940928</td>\n",
       "      <td>None</td>\n",
       "      <td>406101</td>\n",
       "      <td>9897</td>\n",
       "      <td>1.96</td>\n",
       "    </tr>\n",
       "    <tr>\n",
       "      <th>4</th>\n",
       "      <td>PRIJEM</td>\n",
       "      <td>VKLAD</td>\n",
       "      <td>900.0</td>\n",
       "      <td>900.0</td>\n",
       "      <td></td>\n",
       "      <td>41904</td>\n",
       "      <td>12</td>\n",
       "      <td>3492.0</td>\n",
       "      <td>A</td>\n",
       "      <td>940919</td>\n",
       "      <td>None</td>\n",
       "      <td>740708</td>\n",
       "      <td>10177</td>\n",
       "      <td>7.75</td>\n",
       "    </tr>\n",
       "  </tbody>\n",
       "</table>\n",
       "</div>"
      ],
      "text/plain": [
       "  trans_type      operation  t_amount  balance k_symbol  l_amount  duration  \\\n",
       "0     PRIJEM  PREVOD Z UCTU   44749.0  45549.0              79608        24   \n",
       "1     PRIJEM          VKLAD    1000.0   1000.0              52788        12   \n",
       "2     PRIJEM          VKLAD    1100.0   1100.0              21924        36   \n",
       "3     PRIJEM          VKLAD     700.0    700.0              23052        12   \n",
       "4     PRIJEM          VKLAD     900.0    900.0              41904        12   \n",
       "\n",
       "   payments status  loan_start credit_card  birth_number  avg_salary  \\\n",
       "0    3317.0      A      931122        None        700428        8254   \n",
       "1    4399.0      A      930915        None        730216        9045   \n",
       "2     609.0      A      931110        None        600820        8743   \n",
       "3    1921.0      A      940928        None        406101        9897   \n",
       "4    3492.0      A      940919        None        740708       10177   \n",
       "\n",
       "   unempl_rate  \n",
       "0         3.76  \n",
       "1         3.60  \n",
       "2         2.43  \n",
       "3         1.96  \n",
       "4         7.75  "
      ]
     },
     "execution_count": 5,
     "metadata": {},
     "output_type": "execute_result"
    }
   ],
   "source": [
    "data = pd.read_sql_query(query, engine)\n",
    "data.head()"
   ]
  },
  {
   "cell_type": "code",
   "execution_count": 6,
   "metadata": {},
   "outputs": [
    {
     "name": "stdout",
     "output_type": "stream",
     "text": [
      "<class 'pandas.core.frame.DataFrame'>\n",
      "RangeIndex: 74364 entries, 0 to 74363\n",
      "Data columns (total 14 columns):\n",
      " #   Column        Non-Null Count  Dtype  \n",
      "---  ------        --------------  -----  \n",
      " 0   trans_type    74364 non-null  object \n",
      " 1   operation     74364 non-null  object \n",
      " 2   t_amount      74364 non-null  float64\n",
      " 3   balance       74364 non-null  float64\n",
      " 4   k_symbol      74364 non-null  object \n",
      " 5   l_amount      74364 non-null  int64  \n",
      " 6   duration      74364 non-null  int64  \n",
      " 7   payments      74364 non-null  float64\n",
      " 8   status        74364 non-null  object \n",
      " 9   loan_start    74364 non-null  int64  \n",
      " 10  credit_card   19178 non-null  object \n",
      " 11  birth_number  74364 non-null  int64  \n",
      " 12  avg_salary    74364 non-null  int64  \n",
      " 13  unempl_rate   74364 non-null  float64\n",
      "dtypes: float64(4), int64(5), object(5)\n",
      "memory usage: 7.9+ MB\n"
     ]
    }
   ],
   "source": [
    "data.info()"
   ]
  },
  {
   "cell_type": "markdown",
   "metadata": {},
   "source": [
    "# Cleaning"
   ]
  },
  {
   "cell_type": "markdown",
   "metadata": {},
   "source": [
    "## Dealing with nulls"
   ]
  },
  {
   "cell_type": "code",
   "execution_count": 7,
   "metadata": {},
   "outputs": [
    {
     "data": {
      "text/plain": [
       "classic    14054\n",
       "junior      2773\n",
       "gold        2351\n",
       "Name: credit_card, dtype: int64"
      ]
     },
     "execution_count": 7,
     "metadata": {},
     "output_type": "execute_result"
    }
   ],
   "source": [
    "data['credit_card'].value_counts()"
   ]
  },
  {
   "cell_type": "code",
   "execution_count": 8,
   "metadata": {},
   "outputs": [],
   "source": [
    "# the nulls are in the column creditcard - lets replace\n",
    "data['credit_card']= data['credit_card'].fillna('none')"
   ]
  },
  {
   "cell_type": "markdown",
   "metadata": {},
   "source": [
    "## Drop duplicates"
   ]
  },
  {
   "cell_type": "code",
   "execution_count": 9,
   "metadata": {},
   "outputs": [],
   "source": [
    "data= data.drop_duplicates()"
   ]
  },
  {
   "cell_type": "code",
   "execution_count": 10,
   "metadata": {},
   "outputs": [],
   "source": [
    "data.reset_index(drop=True, inplace=True)"
   ]
  },
  {
   "cell_type": "code",
   "execution_count": 11,
   "metadata": {},
   "outputs": [
    {
     "name": "stdout",
     "output_type": "stream",
     "text": [
      "<class 'pandas.core.frame.DataFrame'>\n",
      "RangeIndex: 74326 entries, 0 to 74325\n",
      "Data columns (total 14 columns):\n",
      " #   Column        Non-Null Count  Dtype  \n",
      "---  ------        --------------  -----  \n",
      " 0   trans_type    74326 non-null  object \n",
      " 1   operation     74326 non-null  object \n",
      " 2   t_amount      74326 non-null  float64\n",
      " 3   balance       74326 non-null  float64\n",
      " 4   k_symbol      74326 non-null  object \n",
      " 5   l_amount      74326 non-null  int64  \n",
      " 6   duration      74326 non-null  int64  \n",
      " 7   payments      74326 non-null  float64\n",
      " 8   status        74326 non-null  object \n",
      " 9   loan_start    74326 non-null  int64  \n",
      " 10  credit_card   74326 non-null  object \n",
      " 11  birth_number  74326 non-null  int64  \n",
      " 12  avg_salary    74326 non-null  int64  \n",
      " 13  unempl_rate   74326 non-null  float64\n",
      "dtypes: float64(4), int64(5), object(5)\n",
      "memory usage: 7.9+ MB\n"
     ]
    }
   ],
   "source": [
    "data.info()"
   ]
  },
  {
   "cell_type": "markdown",
   "metadata": {},
   "source": [
    "## EDA\n",
    "- value counts on categoricals;\n",
    "- correlation;\n",
    "- distribution of numbers;\n",
    "- changin data types;\n",
    "- drop columns;"
   ]
  },
  {
   "cell_type": "code",
   "execution_count": 12,
   "metadata": {},
   "outputs": [
    {
     "data": {
      "text/plain": [
       "VYDAJ     44063\n",
       "PRIJEM    27634\n",
       "VYBER      2629\n",
       "Name: trans_type, dtype: int64"
      ]
     },
     "execution_count": 12,
     "metadata": {},
     "output_type": "execute_result"
    }
   ],
   "source": [
    "data['trans_type'].value_counts()"
   ]
  },
  {
   "cell_type": "code",
   "execution_count": 13,
   "metadata": {
    "scrolled": true
   },
   "outputs": [
    {
     "data": {
      "text/plain": [
       "VYBER             34656\n",
       "                  14632\n",
       "PREVOD NA UCET    11646\n",
       "VKLAD             10518\n",
       "PREVOD Z UCTU      2484\n",
       "VYBER KARTOU        390\n",
       "Name: operation, dtype: int64"
      ]
     },
     "execution_count": 13,
     "metadata": {},
     "output_type": "execute_result"
    }
   ],
   "source": [
    "data['operation'].value_counts()"
   ]
  },
  {
   "cell_type": "code",
   "execution_count": 14,
   "metadata": {},
   "outputs": [],
   "source": [
    "def clean_operation(x):\n",
    "    if 'VYBER' in x:\n",
    "        return 'VYBER'\n",
    "    elif 'PREVOD' in x:\n",
    "        return 'PREVOD'\n",
    "    elif 'VKLAD' in x:\n",
    "        return 'VKLAD'\n",
    "    else: return 'UNKNOW'"
   ]
  },
  {
   "cell_type": "code",
   "execution_count": 15,
   "metadata": {},
   "outputs": [],
   "source": [
    "data['operation']=data['operation'].apply(clean_operation)"
   ]
  },
  {
   "cell_type": "code",
   "execution_count": 16,
   "metadata": {},
   "outputs": [
    {
     "data": {
      "text/plain": [
       "VYBER     35046\n",
       "UNKNOW    14632\n",
       "PREVOD    14130\n",
       "VKLAD     10518\n",
       "Name: operation, dtype: int64"
      ]
     },
     "execution_count": 16,
     "metadata": {},
     "output_type": "execute_result"
    }
   ],
   "source": [
    "data['operation'].value_counts()"
   ]
  },
  {
   "cell_type": "code",
   "execution_count": 17,
   "metadata": {},
   "outputs": [
    {
     "data": {
      "text/plain": [
       "               35931\n",
       "UROK           14632\n",
       "SLUZBY         11305\n",
       "SIPO            5081\n",
       "                3017\n",
       "UVER            2893\n",
       "POJISTNE        1159\n",
       "SANKC. UROK      308\n",
       "Name: k_symbol, dtype: int64"
      ]
     },
     "execution_count": 17,
     "metadata": {},
     "output_type": "execute_result"
    }
   ],
   "source": [
    "data['k_symbol'].value_counts()"
   ]
  },
  {
   "cell_type": "code",
   "execution_count": 18,
   "metadata": {},
   "outputs": [],
   "source": [
    "def clean_ksymbol(x):\n",
    "    if x in ['',' ']:\n",
    "        return 'UNKNOW'\n",
    "    else: return x"
   ]
  },
  {
   "cell_type": "code",
   "execution_count": 19,
   "metadata": {},
   "outputs": [
    {
     "data": {
      "text/plain": [
       "UNKNOW         38948\n",
       "UROK           14632\n",
       "SLUZBY         11305\n",
       "SIPO            5081\n",
       "UVER            2893\n",
       "POJISTNE        1159\n",
       "SANKC. UROK      308\n",
       "Name: k_symbol, dtype: int64"
      ]
     },
     "execution_count": 19,
     "metadata": {},
     "output_type": "execute_result"
    }
   ],
   "source": [
    "data['k_symbol']=data['k_symbol'].apply(clean_ksymbol)\n",
    "data['k_symbol'].value_counts()"
   ]
  },
  {
   "cell_type": "code",
   "execution_count": 20,
   "metadata": {
    "scrolled": true
   },
   "outputs": [
    {
     "data": {
      "text/plain": [
       "array([24, 12, 36, 48, 60], dtype=int64)"
      ]
     },
     "execution_count": 20,
     "metadata": {},
     "output_type": "execute_result"
    }
   ],
   "source": [
    "data['duration'].unique()"
   ]
  },
  {
   "cell_type": "code",
   "execution_count": 21,
   "metadata": {},
   "outputs": [],
   "source": [
    "def clean_duration(x):\n",
    "    if x >36 and x <=60:\n",
    "        return 48\n",
    "    else: return x"
   ]
  },
  {
   "cell_type": "code",
   "execution_count": 22,
   "metadata": {
    "scrolled": true
   },
   "outputs": [
    {
     "data": {
      "text/plain": [
       "12    28733\n",
       "24    25145\n",
       "36    14110\n",
       "48     6338\n",
       "Name: duration, dtype: int64"
      ]
     },
     "execution_count": 22,
     "metadata": {},
     "output_type": "execute_result"
    }
   ],
   "source": [
    "data['duration']=data['duration'].apply(clean_duration)\n",
    "data['duration'].value_counts()"
   ]
  },
  {
   "cell_type": "code",
   "execution_count": 23,
   "metadata": {},
   "outputs": [
    {
     "name": "stdout",
     "output_type": "stream",
     "text": [
      "Overwriting functions.py\n"
     ]
    }
   ],
   "source": [
    "%%writefile functions.py\n",
    "def clean_operation(x):\n",
    "    if 'VYBER' in x:\n",
    "        return 'VYBER'\n",
    "    elif 'PREVOD' in x:\n",
    "        return 'PREVOD'\n",
    "    elif 'VKLAD' in x:\n",
    "        return 'VKLAD'\n",
    "    else: return 'UNKNOW'\n",
    "    \n",
    "def clean_ksymbol(x):\n",
    "    if x in ['',' ']:\n",
    "        return 'UNKNOW'\n",
    "    else: return x\n",
    "    \n",
    "def clean_duration(x):\n",
    "    if x >= 60:\n",
    "        return '48'\n",
    "    else: return x\n",
    "    \n",
    "def clean_steps(data):\n",
    "    data['operation']=data['operation'].apply(clean_operation)\n",
    "    data['k_symbol']=data['k_symbol'].apply(clean_ksymbol)\n",
    "    data['duration']=data['duration'].apply(clean_duration)"
   ]
  },
  {
   "cell_type": "code",
   "execution_count": 24,
   "metadata": {},
   "outputs": [],
   "source": [
    "from functions import clean_operation, clean_ksymbol, clean_duration, clean_steps"
   ]
  },
  {
   "cell_type": "code",
   "execution_count": 25,
   "metadata": {},
   "outputs": [],
   "source": [
    "# example - reusing the function.py file against a new data frame / sql query\n",
    "# clean_stes(newdata)"
   ]
  },
  {
   "cell_type": "markdown",
   "metadata": {},
   "source": [
    "### turning status in a number so we can correlate with other numeric feat"
   ]
  },
  {
   "cell_type": "code",
   "execution_count": 26,
   "metadata": {},
   "outputs": [],
   "source": [
    "def is_A_status(x):\n",
    "    if x=='A':\n",
    "        return 1\n",
    "    if x =='B':\n",
    "        return 0"
   ]
  },
  {
   "cell_type": "code",
   "execution_count": 27,
   "metadata": {},
   "outputs": [],
   "source": [
    "data['status']=list(map(is_A_status, data['status']))"
   ]
  },
  {
   "cell_type": "code",
   "execution_count": 28,
   "metadata": {},
   "outputs": [
    {
     "name": "stdout",
     "output_type": "stream",
     "text": [
      "<class 'pandas.core.frame.DataFrame'>\n",
      "RangeIndex: 74326 entries, 0 to 74325\n",
      "Data columns (total 14 columns):\n",
      " #   Column        Non-Null Count  Dtype  \n",
      "---  ------        --------------  -----  \n",
      " 0   trans_type    74326 non-null  object \n",
      " 1   operation     74326 non-null  object \n",
      " 2   t_amount      74326 non-null  float64\n",
      " 3   balance       74326 non-null  float64\n",
      " 4   k_symbol      74326 non-null  object \n",
      " 5   l_amount      74326 non-null  int64  \n",
      " 6   duration      74326 non-null  int64  \n",
      " 7   payments      74326 non-null  float64\n",
      " 8   status        74326 non-null  int64  \n",
      " 9   loan_start    74326 non-null  int64  \n",
      " 10  credit_card   74326 non-null  object \n",
      " 11  birth_number  74326 non-null  int64  \n",
      " 12  avg_salary    74326 non-null  int64  \n",
      " 13  unempl_rate   74326 non-null  float64\n",
      "dtypes: float64(4), int64(6), object(4)\n",
      "memory usage: 7.9+ MB\n"
     ]
    }
   ],
   "source": [
    "data.info()"
   ]
  },
  {
   "cell_type": "markdown",
   "metadata": {},
   "source": [
    "### correlation matrix"
   ]
  },
  {
   "cell_type": "code",
   "execution_count": 29,
   "metadata": {},
   "outputs": [],
   "source": [
    "import matplotlib.pyplot as plt\n",
    "import seaborn as sns"
   ]
  },
  {
   "cell_type": "code",
   "execution_count": 30,
   "metadata": {},
   "outputs": [],
   "source": [
    "corr_matrix = data.corr(method='pearson')"
   ]
  },
  {
   "cell_type": "code",
   "execution_count": 31,
   "metadata": {},
   "outputs": [
    {
     "data": {
      "image/png": "[encoded data removed]",
      "text/plain": [
       "<Figure size 720x720 with 2 Axes>"
      ]
     },
     "metadata": {
      "needs_background": "light"
     },
     "output_type": "display_data"
    }
   ],
   "source": [
    "fix, ax=plt.subplots(figsize=(10,10))\n",
    "ax=sns.heatmap(corr_matrix, cmap='seismic',center=0,annot=True);"
   ]
  },
  {
   "cell_type": "markdown",
   "metadata": {},
   "source": [
    "### Looking at the categories - with chi squared,  plots as needed"
   ]
  },
  {
   "cell_type": "markdown",
   "metadata": {},
   "source": [
    "### outliers spotting - using distribution of numerical features"
   ]
  },
  {
   "cell_type": "code",
   "execution_count": 32,
   "metadata": {},
   "outputs": [
    {
     "data": {
      "image/png": "[encoded data removed]",
      "text/plain": [
       "<Figure size 360x360 with 1 Axes>"
      ]
     },
     "metadata": {
      "needs_background": "light"
     },
     "output_type": "display_data"
    }
   ],
   "source": [
    "sns.displot(data['l_amount']);"
   ]
  },
  {
   "cell_type": "code",
   "execution_count": 33,
   "metadata": {},
   "outputs": [
    {
     "data": {
      "text/plain": [
       "count     74326.000000\n",
       "mean     102761.080214\n",
       "std       74763.602542\n",
       "min        4980.000000\n",
       "25%       46320.000000\n",
       "50%       86184.000000\n",
       "75%      140400.000000\n",
       "max      464520.000000\n",
       "Name: l_amount, dtype: float64"
      ]
     },
     "execution_count": 33,
     "metadata": {},
     "output_type": "execute_result"
    }
   ],
   "source": [
    "data['l_amount'].describe()"
   ]
  },
  {
   "cell_type": "code",
   "execution_count": 34,
   "metadata": {},
   "outputs": [
    {
     "data": {
      "image/png": "[encoded data removed]",
      "text/plain": [
       "<Figure size 360x360 with 1 Axes>"
      ]
     },
     "metadata": {
      "needs_background": "light"
     },
     "output_type": "display_data"
    }
   ],
   "source": [
    "sns.displot(data['t_amount']);"
   ]
  },
  {
   "cell_type": "code",
   "execution_count": 35,
   "metadata": {},
   "outputs": [
    {
     "data": {
      "text/plain": [
       "14.6       9205\n",
       "30.0       1569\n",
       "100.0       604\n",
       "2400.0      364\n",
       "3000.0      354\n",
       "           ... \n",
       "6524.0        1\n",
       "8547.0        1\n",
       "18735.0       1\n",
       "9892.0        1\n",
       "22511.0       1\n",
       "Name: t_amount, Length: 12318, dtype: int64"
      ]
     },
     "execution_count": 35,
     "metadata": {},
     "output_type": "execute_result"
    }
   ],
   "source": [
    "data['t_amount'].value_counts()"
   ]
  },
  {
   "cell_type": "markdown",
   "metadata": {},
   "source": [
    "## split our data into three pieces for pre processing\n",
    "- y target label\n",
    "- numeric features\n",
    "- categorical features"
   ]
  },
  {
   "cell_type": "code",
   "execution_count": 36,
   "metadata": {},
   "outputs": [],
   "source": [
    "y=data['status']\n",
    "X=data.drop(['status'], axis=1)"
   ]
  },
  {
   "cell_type": "code",
   "execution_count": 37,
   "metadata": {},
   "outputs": [],
   "source": [
    "import numpy as np"
   ]
  },
  {
   "cell_type": "code",
   "execution_count": 38,
   "metadata": {},
   "outputs": [],
   "source": [
    "X_num=X.select_dtypes(include=np.number)"
   ]
  },
  {
   "cell_type": "code",
   "execution_count": 39,
   "metadata": {},
   "outputs": [],
   "source": [
    "X_cat=X.select_dtypes(include=object)"
   ]
  },
  {
   "cell_type": "code",
   "execution_count": 40,
   "metadata": {},
   "outputs": [
    {
     "data": {
      "text/plain": [
       "(74326, 9)"
      ]
     },
     "execution_count": 40,
     "metadata": {},
     "output_type": "execute_result"
    }
   ],
   "source": [
    "X_num.shape"
   ]
  },
  {
   "cell_type": "code",
   "execution_count": 41,
   "metadata": {},
   "outputs": [
    {
     "data": {
      "text/plain": [
       "(74326, 4)"
      ]
     },
     "execution_count": 41,
     "metadata": {},
     "output_type": "execute_result"
    }
   ],
   "source": [
    "X_cat.shape"
   ]
  },
  {
   "cell_type": "code",
   "execution_count": 42,
   "metadata": {},
   "outputs": [
    {
     "data": {
      "text/plain": [
       "(74326,)"
      ]
     },
     "execution_count": 42,
     "metadata": {},
     "output_type": "execute_result"
    }
   ],
   "source": [
    "y.shape"
   ]
  },
  {
   "cell_type": "markdown",
   "metadata": {},
   "source": [
    "### Encode categories - with getdummies"
   ]
  },
  {
   "cell_type": "code",
   "execution_count": 43,
   "metadata": {},
   "outputs": [
    {
     "data": {
      "text/html": [
       "<div>\n",
       "<style scoped>\n",
       "    .dataframe tbody tr th:only-of-type {\n",
       "        vertical-align: middle;\n",
       "    }\n",
       "\n",
       "    .dataframe tbody tr th {\n",
       "        vertical-align: top;\n",
       "    }\n",
       "\n",
       "    .dataframe thead th {\n",
       "        text-align: right;\n",
       "    }\n",
       "</style>\n",
       "<table border=\"1\" class=\"dataframe\">\n",
       "  <thead>\n",
       "    <tr style=\"text-align: right;\">\n",
       "      <th></th>\n",
       "      <th>trans_type</th>\n",
       "      <th>operation</th>\n",
       "      <th>k_symbol</th>\n",
       "      <th>credit_card</th>\n",
       "    </tr>\n",
       "  </thead>\n",
       "  <tbody>\n",
       "  </tbody>\n",
       "</table>\n",
       "</div>"
      ],
      "text/plain": [
       "Empty DataFrame\n",
       "Columns: [trans_type, operation, k_symbol, credit_card]\n",
       "Index: []"
      ]
     },
     "execution_count": 43,
     "metadata": {},
     "output_type": "execute_result"
    }
   ],
   "source": [
    "X_cat.head(0)"
   ]
  },
  {
   "cell_type": "code",
   "execution_count": 44,
   "metadata": {},
   "outputs": [],
   "source": [
    "X_cat_dummies=pd.get_dummies(X_cat, drop_first=True, columns=['trans_type', 'operation','k_symbol', 'credit_card'])"
   ]
  },
  {
   "cell_type": "code",
   "execution_count": 45,
   "metadata": {},
   "outputs": [
    {
     "data": {
      "text/html": [
       "<div>\n",
       "<style scoped>\n",
       "    .dataframe tbody tr th:only-of-type {\n",
       "        vertical-align: middle;\n",
       "    }\n",
       "\n",
       "    .dataframe tbody tr th {\n",
       "        vertical-align: top;\n",
       "    }\n",
       "\n",
       "    .dataframe thead th {\n",
       "        text-align: right;\n",
       "    }\n",
       "</style>\n",
       "<table border=\"1\" class=\"dataframe\">\n",
       "  <thead>\n",
       "    <tr style=\"text-align: right;\">\n",
       "      <th></th>\n",
       "      <th>trans_type_VYBER</th>\n",
       "      <th>trans_type_VYDAJ</th>\n",
       "      <th>operation_UNKNOW</th>\n",
       "      <th>operation_VKLAD</th>\n",
       "      <th>operation_VYBER</th>\n",
       "      <th>k_symbol_SANKC. UROK</th>\n",
       "      <th>k_symbol_SIPO</th>\n",
       "      <th>k_symbol_SLUZBY</th>\n",
       "      <th>k_symbol_UNKNOW</th>\n",
       "      <th>k_symbol_UROK</th>\n",
       "      <th>k_symbol_UVER</th>\n",
       "      <th>credit_card_gold</th>\n",
       "      <th>credit_card_junior</th>\n",
       "      <th>credit_card_none</th>\n",
       "    </tr>\n",
       "  </thead>\n",
       "  <tbody>\n",
       "    <tr>\n",
       "      <th>0</th>\n",
       "      <td>0</td>\n",
       "      <td>0</td>\n",
       "      <td>0</td>\n",
       "      <td>0</td>\n",
       "      <td>0</td>\n",
       "      <td>0</td>\n",
       "      <td>0</td>\n",
       "      <td>0</td>\n",
       "      <td>1</td>\n",
       "      <td>0</td>\n",
       "      <td>0</td>\n",
       "      <td>0</td>\n",
       "      <td>0</td>\n",
       "      <td>1</td>\n",
       "    </tr>\n",
       "    <tr>\n",
       "      <th>1</th>\n",
       "      <td>0</td>\n",
       "      <td>0</td>\n",
       "      <td>0</td>\n",
       "      <td>1</td>\n",
       "      <td>0</td>\n",
       "      <td>0</td>\n",
       "      <td>0</td>\n",
       "      <td>0</td>\n",
       "      <td>1</td>\n",
       "      <td>0</td>\n",
       "      <td>0</td>\n",
       "      <td>0</td>\n",
       "      <td>0</td>\n",
       "      <td>1</td>\n",
       "    </tr>\n",
       "    <tr>\n",
       "      <th>2</th>\n",
       "      <td>0</td>\n",
       "      <td>0</td>\n",
       "      <td>0</td>\n",
       "      <td>1</td>\n",
       "      <td>0</td>\n",
       "      <td>0</td>\n",
       "      <td>0</td>\n",
       "      <td>0</td>\n",
       "      <td>1</td>\n",
       "      <td>0</td>\n",
       "      <td>0</td>\n",
       "      <td>0</td>\n",
       "      <td>0</td>\n",
       "      <td>1</td>\n",
       "    </tr>\n",
       "    <tr>\n",
       "      <th>3</th>\n",
       "      <td>0</td>\n",
       "      <td>0</td>\n",
       "      <td>0</td>\n",
       "      <td>1</td>\n",
       "      <td>0</td>\n",
       "      <td>0</td>\n",
       "      <td>0</td>\n",
       "      <td>0</td>\n",
       "      <td>1</td>\n",
       "      <td>0</td>\n",
       "      <td>0</td>\n",
       "      <td>0</td>\n",
       "      <td>0</td>\n",
       "      <td>1</td>\n",
       "    </tr>\n",
       "    <tr>\n",
       "      <th>4</th>\n",
       "      <td>0</td>\n",
       "      <td>0</td>\n",
       "      <td>0</td>\n",
       "      <td>1</td>\n",
       "      <td>0</td>\n",
       "      <td>0</td>\n",
       "      <td>0</td>\n",
       "      <td>0</td>\n",
       "      <td>1</td>\n",
       "      <td>0</td>\n",
       "      <td>0</td>\n",
       "      <td>0</td>\n",
       "      <td>0</td>\n",
       "      <td>1</td>\n",
       "    </tr>\n",
       "    <tr>\n",
       "      <th>...</th>\n",
       "      <td>...</td>\n",
       "      <td>...</td>\n",
       "      <td>...</td>\n",
       "      <td>...</td>\n",
       "      <td>...</td>\n",
       "      <td>...</td>\n",
       "      <td>...</td>\n",
       "      <td>...</td>\n",
       "      <td>...</td>\n",
       "      <td>...</td>\n",
       "      <td>...</td>\n",
       "      <td>...</td>\n",
       "      <td>...</td>\n",
       "      <td>...</td>\n",
       "    </tr>\n",
       "    <tr>\n",
       "      <th>74321</th>\n",
       "      <td>0</td>\n",
       "      <td>0</td>\n",
       "      <td>1</td>\n",
       "      <td>0</td>\n",
       "      <td>0</td>\n",
       "      <td>0</td>\n",
       "      <td>0</td>\n",
       "      <td>0</td>\n",
       "      <td>0</td>\n",
       "      <td>1</td>\n",
       "      <td>0</td>\n",
       "      <td>0</td>\n",
       "      <td>0</td>\n",
       "      <td>1</td>\n",
       "    </tr>\n",
       "    <tr>\n",
       "      <th>74322</th>\n",
       "      <td>0</td>\n",
       "      <td>0</td>\n",
       "      <td>1</td>\n",
       "      <td>0</td>\n",
       "      <td>0</td>\n",
       "      <td>0</td>\n",
       "      <td>0</td>\n",
       "      <td>0</td>\n",
       "      <td>0</td>\n",
       "      <td>1</td>\n",
       "      <td>0</td>\n",
       "      <td>0</td>\n",
       "      <td>0</td>\n",
       "      <td>1</td>\n",
       "    </tr>\n",
       "    <tr>\n",
       "      <th>74323</th>\n",
       "      <td>0</td>\n",
       "      <td>0</td>\n",
       "      <td>1</td>\n",
       "      <td>0</td>\n",
       "      <td>0</td>\n",
       "      <td>0</td>\n",
       "      <td>0</td>\n",
       "      <td>0</td>\n",
       "      <td>0</td>\n",
       "      <td>1</td>\n",
       "      <td>0</td>\n",
       "      <td>0</td>\n",
       "      <td>0</td>\n",
       "      <td>1</td>\n",
       "    </tr>\n",
       "    <tr>\n",
       "      <th>74324</th>\n",
       "      <td>0</td>\n",
       "      <td>0</td>\n",
       "      <td>1</td>\n",
       "      <td>0</td>\n",
       "      <td>0</td>\n",
       "      <td>0</td>\n",
       "      <td>0</td>\n",
       "      <td>0</td>\n",
       "      <td>0</td>\n",
       "      <td>1</td>\n",
       "      <td>0</td>\n",
       "      <td>0</td>\n",
       "      <td>1</td>\n",
       "      <td>0</td>\n",
       "    </tr>\n",
       "    <tr>\n",
       "      <th>74325</th>\n",
       "      <td>0</td>\n",
       "      <td>0</td>\n",
       "      <td>1</td>\n",
       "      <td>0</td>\n",
       "      <td>0</td>\n",
       "      <td>0</td>\n",
       "      <td>0</td>\n",
       "      <td>0</td>\n",
       "      <td>0</td>\n",
       "      <td>1</td>\n",
       "      <td>0</td>\n",
       "      <td>1</td>\n",
       "      <td>0</td>\n",
       "      <td>0</td>\n",
       "    </tr>\n",
       "  </tbody>\n",
       "</table>\n",
       "<p>74326 rows × 14 columns</p>\n",
       "</div>"
      ],
      "text/plain": [
       "       trans_type_VYBER  trans_type_VYDAJ  operation_UNKNOW  operation_VKLAD  \\\n",
       "0                     0                 0                 0                0   \n",
       "1                     0                 0                 0                1   \n",
       "2                     0                 0                 0                1   \n",
       "3                     0                 0                 0                1   \n",
       "4                     0                 0                 0                1   \n",
       "...                 ...               ...               ...              ...   \n",
       "74321                 0                 0                 1                0   \n",
       "74322                 0                 0                 1                0   \n",
       "74323                 0                 0                 1                0   \n",
       "74324                 0                 0                 1                0   \n",
       "74325                 0                 0                 1                0   \n",
       "\n",
       "       operation_VYBER  k_symbol_SANKC. UROK  k_symbol_SIPO  k_symbol_SLUZBY  \\\n",
       "0                    0                     0              0                0   \n",
       "1                    0                     0              0                0   \n",
       "2                    0                     0              0                0   \n",
       "3                    0                     0              0                0   \n",
       "4                    0                     0              0                0   \n",
       "...                ...                   ...            ...              ...   \n",
       "74321                0                     0              0                0   \n",
       "74322                0                     0              0                0   \n",
       "74323                0                     0              0                0   \n",
       "74324                0                     0              0                0   \n",
       "74325                0                     0              0                0   \n",
       "\n",
       "       k_symbol_UNKNOW  k_symbol_UROK  k_symbol_UVER  credit_card_gold  \\\n",
       "0                    1              0              0                 0   \n",
       "1                    1              0              0                 0   \n",
       "2                    1              0              0                 0   \n",
       "3                    1              0              0                 0   \n",
       "4                    1              0              0                 0   \n",
       "...                ...            ...            ...               ...   \n",
       "74321                0              1              0                 0   \n",
       "74322                0              1              0                 0   \n",
       "74323                0              1              0                 0   \n",
       "74324                0              1              0                 0   \n",
       "74325                0              1              0                 1   \n",
       "\n",
       "       credit_card_junior  credit_card_none  \n",
       "0                       0                 1  \n",
       "1                       0                 1  \n",
       "2                       0                 1  \n",
       "3                       0                 1  \n",
       "4                       0                 1  \n",
       "...                   ...               ...  \n",
       "74321                   0                 1  \n",
       "74322                   0                 1  \n",
       "74323                   0                 1  \n",
       "74324                   1                 0  \n",
       "74325                   0                 0  \n",
       "\n",
       "[74326 rows x 14 columns]"
      ]
     },
     "execution_count": 45,
     "metadata": {},
     "output_type": "execute_result"
    }
   ],
   "source": [
    "X_cat_dummies"
   ]
  },
  {
   "cell_type": "markdown",
   "metadata": {},
   "source": [
    "### Scale numerical columns on standard scaler"
   ]
  },
  {
   "cell_type": "code",
   "execution_count": 46,
   "metadata": {},
   "outputs": [],
   "source": [
    "from sklearn.preprocessing import StandardScaler"
   ]
  },
  {
   "cell_type": "code",
   "execution_count": 47,
   "metadata": {},
   "outputs": [],
   "source": [
    "scaler = StandardScaler()\n",
    "scaler.fit(X_num)\n",
    "X_num_scaled=scaler.transform(X_num)"
   ]
  },
  {
   "cell_type": "code",
   "execution_count": 48,
   "metadata": {},
   "outputs": [],
   "source": [
    "# transforming in a dataframe\n",
    "X_num_scaled_df=pd.DataFrame(X_num_scaled, columns=X_num.columns)"
   ]
  },
  {
   "cell_type": "code",
   "execution_count": 49,
   "metadata": {
    "scrolled": false
   },
   "outputs": [
    {
     "data": {
      "text/html": [
       "<div>\n",
       "<style scoped>\n",
       "    .dataframe tbody tr th:only-of-type {\n",
       "        vertical-align: middle;\n",
       "    }\n",
       "\n",
       "    .dataframe tbody tr th {\n",
       "        vertical-align: top;\n",
       "    }\n",
       "\n",
       "    .dataframe thead th {\n",
       "        text-align: right;\n",
       "    }\n",
       "</style>\n",
       "<table border=\"1\" class=\"dataframe\">\n",
       "  <thead>\n",
       "    <tr style=\"text-align: right;\">\n",
       "      <th></th>\n",
       "      <th>t_amount</th>\n",
       "      <th>balance</th>\n",
       "      <th>l_amount</th>\n",
       "      <th>duration</th>\n",
       "      <th>payments</th>\n",
       "      <th>loan_start</th>\n",
       "      <th>birth_number</th>\n",
       "      <th>avg_salary</th>\n",
       "      <th>unempl_rate</th>\n",
       "    </tr>\n",
       "  </thead>\n",
       "  <tbody>\n",
       "    <tr>\n",
       "      <th>0</th>\n",
       "      <td>3.148862</td>\n",
       "      <td>-0.018483</td>\n",
       "      <td>-0.309686</td>\n",
       "      <td>0.027358</td>\n",
       "      <td>-0.471108</td>\n",
       "      <td>-1.426145</td>\n",
       "      <td>0.918984</td>\n",
       "      <td>-0.973407</td>\n",
       "      <td>0.117494</td>\n",
       "    </tr>\n",
       "  </tbody>\n",
       "</table>\n",
       "</div>"
      ],
      "text/plain": [
       "   t_amount   balance  l_amount  duration  payments  loan_start  birth_number  \\\n",
       "0  3.148862 -0.018483 -0.309686  0.027358 -0.471108   -1.426145      0.918984   \n",
       "\n",
       "   avg_salary  unempl_rate  \n",
       "0   -0.973407     0.117494  "
      ]
     },
     "execution_count": 49,
     "metadata": {},
     "output_type": "execute_result"
    }
   ],
   "source": [
    "X_num_scaled_df.head(1)"
   ]
  },
  {
   "cell_type": "markdown",
   "metadata": {},
   "source": [
    "### concat numerical and categories;"
   ]
  },
  {
   "cell_type": "code",
   "execution_count": 50,
   "metadata": {},
   "outputs": [
    {
     "data": {
      "text/html": [
       "<div>\n",
       "<style scoped>\n",
       "    .dataframe tbody tr th:only-of-type {\n",
       "        vertical-align: middle;\n",
       "    }\n",
       "\n",
       "    .dataframe tbody tr th {\n",
       "        vertical-align: top;\n",
       "    }\n",
       "\n",
       "    .dataframe thead th {\n",
       "        text-align: right;\n",
       "    }\n",
       "</style>\n",
       "<table border=\"1\" class=\"dataframe\">\n",
       "  <thead>\n",
       "    <tr style=\"text-align: right;\">\n",
       "      <th></th>\n",
       "      <th>trans_type_VYBER</th>\n",
       "      <th>trans_type_VYDAJ</th>\n",
       "      <th>operation_UNKNOW</th>\n",
       "      <th>operation_VKLAD</th>\n",
       "      <th>operation_VYBER</th>\n",
       "      <th>k_symbol_SANKC. UROK</th>\n",
       "      <th>k_symbol_SIPO</th>\n",
       "      <th>k_symbol_SLUZBY</th>\n",
       "      <th>k_symbol_UNKNOW</th>\n",
       "      <th>k_symbol_UROK</th>\n",
       "      <th>...</th>\n",
       "      <th>credit_card_none</th>\n",
       "      <th>t_amount</th>\n",
       "      <th>balance</th>\n",
       "      <th>l_amount</th>\n",
       "      <th>duration</th>\n",
       "      <th>payments</th>\n",
       "      <th>loan_start</th>\n",
       "      <th>birth_number</th>\n",
       "      <th>avg_salary</th>\n",
       "      <th>unempl_rate</th>\n",
       "    </tr>\n",
       "  </thead>\n",
       "  <tbody>\n",
       "    <tr>\n",
       "      <th>0</th>\n",
       "      <td>0</td>\n",
       "      <td>0</td>\n",
       "      <td>0</td>\n",
       "      <td>0</td>\n",
       "      <td>0</td>\n",
       "      <td>0</td>\n",
       "      <td>0</td>\n",
       "      <td>0</td>\n",
       "      <td>1</td>\n",
       "      <td>0</td>\n",
       "      <td>...</td>\n",
       "      <td>1</td>\n",
       "      <td>3.148862</td>\n",
       "      <td>-0.018483</td>\n",
       "      <td>-0.309686</td>\n",
       "      <td>0.027358</td>\n",
       "      <td>-0.471108</td>\n",
       "      <td>-1.426145</td>\n",
       "      <td>0.918984</td>\n",
       "      <td>-0.973407</td>\n",
       "      <td>0.117494</td>\n",
       "    </tr>\n",
       "    <tr>\n",
       "      <th>1</th>\n",
       "      <td>0</td>\n",
       "      <td>0</td>\n",
       "      <td>0</td>\n",
       "      <td>1</td>\n",
       "      <td>0</td>\n",
       "      <td>0</td>\n",
       "      <td>0</td>\n",
       "      <td>0</td>\n",
       "      <td>1</td>\n",
       "      <td>0</td>\n",
       "      <td>...</td>\n",
       "      <td>1</td>\n",
       "      <td>-0.582496</td>\n",
       "      <td>-1.769813</td>\n",
       "      <td>-0.668419</td>\n",
       "      <td>-1.017017</td>\n",
       "      <td>0.019396</td>\n",
       "      <td>-1.444384</td>\n",
       "      <td>1.151571</td>\n",
       "      <td>-0.385304</td>\n",
       "      <td>0.045836</td>\n",
       "    </tr>\n",
       "    <tr>\n",
       "      <th>2</th>\n",
       "      <td>0</td>\n",
       "      <td>0</td>\n",
       "      <td>0</td>\n",
       "      <td>1</td>\n",
       "      <td>0</td>\n",
       "      <td>0</td>\n",
       "      <td>0</td>\n",
       "      <td>0</td>\n",
       "      <td>1</td>\n",
       "      <td>0</td>\n",
       "      <td>...</td>\n",
       "      <td>1</td>\n",
       "      <td>-0.573967</td>\n",
       "      <td>-1.765882</td>\n",
       "      <td>-1.081243</td>\n",
       "      <td>1.071733</td>\n",
       "      <td>-1.698728</td>\n",
       "      <td>-1.427203</td>\n",
       "      <td>0.141236</td>\n",
       "      <td>-0.609839</td>\n",
       "      <td>-0.478161</td>\n",
       "    </tr>\n",
       "    <tr>\n",
       "      <th>3</th>\n",
       "      <td>0</td>\n",
       "      <td>0</td>\n",
       "      <td>0</td>\n",
       "      <td>1</td>\n",
       "      <td>0</td>\n",
       "      <td>0</td>\n",
       "      <td>0</td>\n",
       "      <td>0</td>\n",
       "      <td>1</td>\n",
       "      <td>0</td>\n",
       "      <td>...</td>\n",
       "      <td>1</td>\n",
       "      <td>-0.608083</td>\n",
       "      <td>-1.781607</td>\n",
       "      <td>-1.066155</td>\n",
       "      <td>-1.017017</td>\n",
       "      <td>-1.103958</td>\n",
       "      <td>-0.562141</td>\n",
       "      <td>-1.379145</td>\n",
       "      <td>0.248152</td>\n",
       "      <td>-0.688655</td>\n",
       "    </tr>\n",
       "    <tr>\n",
       "      <th>4</th>\n",
       "      <td>0</td>\n",
       "      <td>0</td>\n",
       "      <td>0</td>\n",
       "      <td>1</td>\n",
       "      <td>0</td>\n",
       "      <td>0</td>\n",
       "      <td>0</td>\n",
       "      <td>0</td>\n",
       "      <td>1</td>\n",
       "      <td>0</td>\n",
       "      <td>...</td>\n",
       "      <td>1</td>\n",
       "      <td>-0.591025</td>\n",
       "      <td>-1.773745</td>\n",
       "      <td>-0.813999</td>\n",
       "      <td>-1.017017</td>\n",
       "      <td>-0.391775</td>\n",
       "      <td>-0.562934</td>\n",
       "      <td>1.233493</td>\n",
       "      <td>0.456330</td>\n",
       "      <td>1.904457</td>\n",
       "    </tr>\n",
       "    <tr>\n",
       "      <th>...</th>\n",
       "      <td>...</td>\n",
       "      <td>...</td>\n",
       "      <td>...</td>\n",
       "      <td>...</td>\n",
       "      <td>...</td>\n",
       "      <td>...</td>\n",
       "      <td>...</td>\n",
       "      <td>...</td>\n",
       "      <td>...</td>\n",
       "      <td>...</td>\n",
       "      <td>...</td>\n",
       "      <td>...</td>\n",
       "      <td>...</td>\n",
       "      <td>...</td>\n",
       "      <td>...</td>\n",
       "      <td>...</td>\n",
       "      <td>...</td>\n",
       "      <td>...</td>\n",
       "      <td>...</td>\n",
       "      <td>...</td>\n",
       "      <td>...</td>\n",
       "    </tr>\n",
       "    <tr>\n",
       "      <th>74321</th>\n",
       "      <td>0</td>\n",
       "      <td>0</td>\n",
       "      <td>1</td>\n",
       "      <td>0</td>\n",
       "      <td>0</td>\n",
       "      <td>0</td>\n",
       "      <td>0</td>\n",
       "      <td>0</td>\n",
       "      <td>0</td>\n",
       "      <td>1</td>\n",
       "      <td>...</td>\n",
       "      <td>1</td>\n",
       "      <td>-0.648912</td>\n",
       "      <td>0.078634</td>\n",
       "      <td>0.381618</td>\n",
       "      <td>1.071733</td>\n",
       "      <td>-0.321508</td>\n",
       "      <td>-0.579763</td>\n",
       "      <td>-0.331152</td>\n",
       "      <td>2.213948</td>\n",
       "      <td>-1.373882</td>\n",
       "    </tr>\n",
       "    <tr>\n",
       "      <th>74322</th>\n",
       "      <td>0</td>\n",
       "      <td>0</td>\n",
       "      <td>1</td>\n",
       "      <td>0</td>\n",
       "      <td>0</td>\n",
       "      <td>0</td>\n",
       "      <td>0</td>\n",
       "      <td>0</td>\n",
       "      <td>0</td>\n",
       "      <td>1</td>\n",
       "      <td>...</td>\n",
       "      <td>1</td>\n",
       "      <td>-0.648374</td>\n",
       "      <td>2.453601</td>\n",
       "      <td>0.885770</td>\n",
       "      <td>0.027358</td>\n",
       "      <td>1.217097</td>\n",
       "      <td>0.263977</td>\n",
       "      <td>1.386610</td>\n",
       "      <td>2.213948</td>\n",
       "      <td>-1.373882</td>\n",
       "    </tr>\n",
       "    <tr>\n",
       "      <th>74323</th>\n",
       "      <td>0</td>\n",
       "      <td>0</td>\n",
       "      <td>1</td>\n",
       "      <td>0</td>\n",
       "      <td>0</td>\n",
       "      <td>0</td>\n",
       "      <td>0</td>\n",
       "      <td>0</td>\n",
       "      <td>0</td>\n",
       "      <td>1</td>\n",
       "      <td>...</td>\n",
       "      <td>1</td>\n",
       "      <td>-0.647684</td>\n",
       "      <td>0.302082</td>\n",
       "      <td>1.068267</td>\n",
       "      <td>1.071733</td>\n",
       "      <td>0.324941</td>\n",
       "      <td>-0.617386</td>\n",
       "      <td>0.060837</td>\n",
       "      <td>-0.553333</td>\n",
       "      <td>0.968429</td>\n",
       "    </tr>\n",
       "    <tr>\n",
       "      <th>74324</th>\n",
       "      <td>0</td>\n",
       "      <td>0</td>\n",
       "      <td>1</td>\n",
       "      <td>0</td>\n",
       "      <td>0</td>\n",
       "      <td>0</td>\n",
       "      <td>0</td>\n",
       "      <td>0</td>\n",
       "      <td>0</td>\n",
       "      <td>1</td>\n",
       "      <td>...</td>\n",
       "      <td>0</td>\n",
       "      <td>-0.642796</td>\n",
       "      <td>1.537605</td>\n",
       "      <td>2.300318</td>\n",
       "      <td>2.116108</td>\n",
       "      <td>0.100996</td>\n",
       "      <td>-1.445177</td>\n",
       "      <td>1.547370</td>\n",
       "      <td>-0.948128</td>\n",
       "      <td>0.457868</td>\n",
       "    </tr>\n",
       "    <tr>\n",
       "      <th>74325</th>\n",
       "      <td>0</td>\n",
       "      <td>0</td>\n",
       "      <td>1</td>\n",
       "      <td>0</td>\n",
       "      <td>0</td>\n",
       "      <td>0</td>\n",
       "      <td>0</td>\n",
       "      <td>0</td>\n",
       "      <td>0</td>\n",
       "      <td>1</td>\n",
       "      <td>...</td>\n",
       "      <td>0</td>\n",
       "      <td>-0.634046</td>\n",
       "      <td>1.994015</td>\n",
       "      <td>0.652714</td>\n",
       "      <td>0.027358</td>\n",
       "      <td>0.887978</td>\n",
       "      <td>-0.590776</td>\n",
       "      <td>-0.407789</td>\n",
       "      <td>-0.781586</td>\n",
       "      <td>0.278723</td>\n",
       "    </tr>\n",
       "  </tbody>\n",
       "</table>\n",
       "<p>74326 rows × 23 columns</p>\n",
       "</div>"
      ],
      "text/plain": [
       "       trans_type_VYBER  trans_type_VYDAJ  operation_UNKNOW  operation_VKLAD  \\\n",
       "0                     0                 0                 0                0   \n",
       "1                     0                 0                 0                1   \n",
       "2                     0                 0                 0                1   \n",
       "3                     0                 0                 0                1   \n",
       "4                     0                 0                 0                1   \n",
       "...                 ...               ...               ...              ...   \n",
       "74321                 0                 0                 1                0   \n",
       "74322                 0                 0                 1                0   \n",
       "74323                 0                 0                 1                0   \n",
       "74324                 0                 0                 1                0   \n",
       "74325                 0                 0                 1                0   \n",
       "\n",
       "       operation_VYBER  k_symbol_SANKC. UROK  k_symbol_SIPO  k_symbol_SLUZBY  \\\n",
       "0                    0                     0              0                0   \n",
       "1                    0                     0              0                0   \n",
       "2                    0                     0              0                0   \n",
       "3                    0                     0              0                0   \n",
       "4                    0                     0              0                0   \n",
       "...                ...                   ...            ...              ...   \n",
       "74321                0                     0              0                0   \n",
       "74322                0                     0              0                0   \n",
       "74323                0                     0              0                0   \n",
       "74324                0                     0              0                0   \n",
       "74325                0                     0              0                0   \n",
       "\n",
       "       k_symbol_UNKNOW  k_symbol_UROK  ...  credit_card_none  t_amount  \\\n",
       "0                    1              0  ...                 1  3.148862   \n",
       "1                    1              0  ...                 1 -0.582496   \n",
       "2                    1              0  ...                 1 -0.573967   \n",
       "3                    1              0  ...                 1 -0.608083   \n",
       "4                    1              0  ...                 1 -0.591025   \n",
       "...                ...            ...  ...               ...       ...   \n",
       "74321                0              1  ...                 1 -0.648912   \n",
       "74322                0              1  ...                 1 -0.648374   \n",
       "74323                0              1  ...                 1 -0.647684   \n",
       "74324                0              1  ...                 0 -0.642796   \n",
       "74325                0              1  ...                 0 -0.634046   \n",
       "\n",
       "        balance  l_amount  duration  payments  loan_start  birth_number  \\\n",
       "0     -0.018483 -0.309686  0.027358 -0.471108   -1.426145      0.918984   \n",
       "1     -1.769813 -0.668419 -1.017017  0.019396   -1.444384      1.151571   \n",
       "2     -1.765882 -1.081243  1.071733 -1.698728   -1.427203      0.141236   \n",
       "3     -1.781607 -1.066155 -1.017017 -1.103958   -0.562141     -1.379145   \n",
       "4     -1.773745 -0.813999 -1.017017 -0.391775   -0.562934      1.233493   \n",
       "...         ...       ...       ...       ...         ...           ...   \n",
       "74321  0.078634  0.381618  1.071733 -0.321508   -0.579763     -0.331152   \n",
       "74322  2.453601  0.885770  0.027358  1.217097    0.263977      1.386610   \n",
       "74323  0.302082  1.068267  1.071733  0.324941   -0.617386      0.060837   \n",
       "74324  1.537605  2.300318  2.116108  0.100996   -1.445177      1.547370   \n",
       "74325  1.994015  0.652714  0.027358  0.887978   -0.590776     -0.407789   \n",
       "\n",
       "       avg_salary  unempl_rate  \n",
       "0       -0.973407     0.117494  \n",
       "1       -0.385304     0.045836  \n",
       "2       -0.609839    -0.478161  \n",
       "3        0.248152    -0.688655  \n",
       "4        0.456330     1.904457  \n",
       "...           ...          ...  \n",
       "74321    2.213948    -1.373882  \n",
       "74322    2.213948    -1.373882  \n",
       "74323   -0.553333     0.968429  \n",
       "74324   -0.948128     0.457868  \n",
       "74325   -0.781586     0.278723  \n",
       "\n",
       "[74326 rows x 23 columns]"
      ]
     },
     "execution_count": 50,
     "metadata": {},
     "output_type": "execute_result"
    }
   ],
   "source": [
    "X_full=pd.concat([X_cat_dummies, X_num_scaled_df], axis=1)\n",
    "X_full"
   ]
  },
  {
   "cell_type": "markdown",
   "metadata": {},
   "source": [
    "# Candidate 1 - Logistic Regression\n",
    "- Train test split and run the model:\n",
    "    - test size 30%\n",
    "    - import logistic regression\n",
    "    - classification score\n",
    "    - test size 30%\n",
    "    - import logistic regression\n",
    "    - classification score"
   ]
  },
  {
   "cell_type": "code",
   "execution_count": 51,
   "metadata": {},
   "outputs": [],
   "source": [
    "from sklearn.linear_model import LogisticRegression # model\n",
    "from sklearn.model_selection import train_test_split # train test\n",
    "from sklearn.metrics import accuracy_score # evaluation"
   ]
  },
  {
   "cell_type": "code",
   "execution_count": 52,
   "metadata": {},
   "outputs": [],
   "source": [
    "lr=LogisticRegression(max_iter=400) # option to tweak hyperparams"
   ]
  },
  {
   "cell_type": "code",
   "execution_count": 53,
   "metadata": {},
   "outputs": [],
   "source": [
    "# train test split\n",
    "X_train, X_test, y_train, y_test=train_test_split(X_full,y,test_size=0.3,random_state=40)"
   ]
  },
  {
   "cell_type": "code",
   "execution_count": 54,
   "metadata": {},
   "outputs": [
    {
     "data": {
      "text/plain": [
       "(22298, 23)"
      ]
     },
     "execution_count": 54,
     "metadata": {},
     "output_type": "execute_result"
    }
   ],
   "source": [
    "X_test.shape"
   ]
  },
  {
   "cell_type": "code",
   "execution_count": 55,
   "metadata": {},
   "outputs": [
    {
     "data": {
      "text/plain": [
       "(22298,)"
      ]
     },
     "execution_count": 55,
     "metadata": {},
     "output_type": "execute_result"
    }
   ],
   "source": [
    "y_test.shape"
   ]
  },
  {
   "cell_type": "code",
   "execution_count": 56,
   "metadata": {},
   "outputs": [
    {
     "data": {
      "text/plain": [
       "LogisticRegression(max_iter=400)"
      ]
     },
     "execution_count": 56,
     "metadata": {},
     "output_type": "execute_result"
    }
   ],
   "source": [
    "lr.fit(X_train,y_train)"
   ]
  },
  {
   "cell_type": "code",
   "execution_count": 57,
   "metadata": {},
   "outputs": [],
   "source": [
    "## Make prediction after training"
   ]
  },
  {
   "cell_type": "code",
   "execution_count": 58,
   "metadata": {},
   "outputs": [],
   "source": [
    "y_pred=lr.predict(X_test)"
   ]
  },
  {
   "cell_type": "code",
   "execution_count": 59,
   "metadata": {},
   "outputs": [
    {
     "data": {
      "text/plain": [
       "array([1, 1, 1, ..., 1, 1, 1], dtype=int64)"
      ]
     },
     "execution_count": 59,
     "metadata": {},
     "output_type": "execute_result"
    }
   ],
   "source": [
    "y_pred"
   ]
  },
  {
   "cell_type": "code",
   "execution_count": 60,
   "metadata": {},
   "outputs": [
    {
     "data": {
      "text/plain": [
       "0.8862229796394295"
      ]
     },
     "execution_count": 60,
     "metadata": {},
     "output_type": "execute_result"
    }
   ],
   "source": [
    "accuracy_score(y_test,y_pred)"
   ]
  },
  {
   "cell_type": "markdown",
   "metadata": {},
   "source": [
    "# export the model using pickle"
   ]
  },
  {
   "cell_type": "code",
   "execution_count": 61,
   "metadata": {},
   "outputs": [],
   "source": [
    "import pickle\n",
    "import os"
   ]
  },
  {
   "cell_type": "code",
   "execution_count": 62,
   "metadata": {},
   "outputs": [],
   "source": [
    "if(not os.path.exists('models')):\n",
    "    os.makedirs('models')\n",
    "    pickle.dump(lr,open('models/logistic_model.pkl','wb')) # wb = with binary"
   ]
  },
  {
   "cell_type": "code",
   "execution_count": 63,
   "metadata": {},
   "outputs": [],
   "source": [
    "# example new data + model\n",
    "models_path ='models/'\n",
    "model_name=models_path + 'logistic_model.pkl'\n",
    "model=pickle.load(open(model_name,'rb'))"
   ]
  },
  {
   "cell_type": "code",
   "execution_count": 64,
   "metadata": {},
   "outputs": [
    {
     "data": {
      "text/plain": [
       "LogisticRegression(max_iter=400)"
      ]
     },
     "execution_count": 64,
     "metadata": {},
     "output_type": "execute_result"
    }
   ],
   "source": [
    "model"
   ]
  },
  {
   "cell_type": "code",
   "execution_count": 65,
   "metadata": {},
   "outputs": [],
   "source": [
    "# model.fit(new_data)"
   ]
  },
  {
   "cell_type": "markdown",
   "metadata": {},
   "source": [
    "# Confusion Matrix"
   ]
  },
  {
   "cell_type": "code",
   "execution_count": 66,
   "metadata": {},
   "outputs": [],
   "source": [
    "from sklearn.metrics import confusion_matrix, plot_confusion_matrix"
   ]
  },
  {
   "cell_type": "code",
   "execution_count": 67,
   "metadata": {},
   "outputs": [
    {
     "data": {
      "text/plain": [
       "array([[  613,  2324],\n",
       "       [  213, 19148]], dtype=int64)"
      ]
     },
     "execution_count": 67,
     "metadata": {},
     "output_type": "execute_result"
    }
   ],
   "source": [
    "confusion_matrix(y_test,y_pred)"
   ]
  },
  {
   "cell_type": "code",
   "execution_count": 68,
   "metadata": {},
   "outputs": [
    {
     "data": {
      "image/png": "[encoded data removed]",
      "text/plain": [
       "<Figure size 432x288 with 2 Axes>"
      ]
     },
     "metadata": {
      "needs_background": "light"
     },
     "output_type": "display_data"
    }
   ],
   "source": [
    "plot_confusion_matrix(lr,X_test, y_test);"
   ]
  },
  {
   "cell_type": "markdown",
   "metadata": {},
   "source": [
    "- Amplification of machine unable to recognise minority class conditions - the base should be more balanced ( you see a big difference between 1 - 64562 and 0 - 9764), 1 and 0 should have similar values to be more precise;"
   ]
  },
  {
   "cell_type": "code",
   "execution_count": 69,
   "metadata": {
    "scrolled": true
   },
   "outputs": [
    {
     "data": {
      "text/plain": [
       "1    64562\n",
       "0     9764\n",
       "Name: status, dtype: int64"
      ]
     },
     "execution_count": 69,
     "metadata": {},
     "output_type": "execute_result"
    }
   ],
   "source": [
    "y.value_counts()"
   ]
  },
  {
   "cell_type": "code",
   "execution_count": 70,
   "metadata": {},
   "outputs": [
    {
     "data": {
      "text/plain": [
       "1    45201\n",
       "0     6827\n",
       "Name: status, dtype: int64"
      ]
     },
     "execution_count": 70,
     "metadata": {},
     "output_type": "execute_result"
    }
   ],
   "source": [
    "y_train.value_counts()"
   ]
  }
 ],
 "metadata": {
  "kernelspec": {
   "display_name": "Python 3",
   "language": "python",
   "name": "python3"
  },
  "language_info": {
   "codemirror_mode": {
    "name": "ipython",
    "version": 3
   },
   "file_extension": ".py",
   "mimetype": "text/x-python",
   "name": "python",
   "nbconvert_exporter": "python",
   "pygments_lexer": "ipython3",
   "version": "3.8.5"
  },
  "toc": {
   "base_numbering": 1,
   "nav_menu": {},
   "number_sections": true,
   "sideBar": true,
   "skip_h1_title": false,
   "title_cell": "Table of Contents",
   "title_sidebar": "Contents",
   "toc_cell": true,
   "toc_position": {},
   "toc_section_display": true,
   "toc_window_display": false
  }
 },
 "nbformat": 4,
 "nbformat_minor": 4
}
