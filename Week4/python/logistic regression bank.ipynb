{
 "cells": [
  {
   "cell_type": "markdown",
   "metadata": {
    "toc": true
   },
   "source": [
    "<h1>Table of Contents<span class=\"tocSkip\"></span></h1>\n",
    "<div class=\"toc\"><ul class=\"toc-item\"></ul></div>"
   ]
  },
  {
   "cell_type": "code",
   "execution_count": null,
   "metadata": {},
   "outputs": [],
   "source": [
    "%% writefile functions.py\n",
    "def clean_operation(x):\n",
    "    if 'VYBER' in x:\n",
    "        return 'VYBER'\n",
    "    elif 'PREVOD' in x:\n",
    "        return 'PREVOD'\n",
    "    elif 'VKLAD' in x:\n",
    "        return 'VKLAD'\n",
    "    else: return 'UNKNOW'\n",
    "    \n",
    "def clean_symbol(x):\n",
    "    if x in ['',' ']:\n",
    "        return 'UNKNOW'\n",
    "    else: return x\n",
    "    \n",
    "def clean_duration(x):\n",
    "    if x >= 60:\n",
    "        return '48'\n",
    "    else: return x\n",
    "    \n",
    "def clean_steps(data):\n",
    "    data['operation']=data['operation'].apply(clean_operation)\n",
    "    data['k_symbol']=data['k_symbol'].apply(clean_symbol)\n",
    "    data['duration']=data['duration'].apply(clean_duration)"
   ]
  },
  {
   "cell_type": "code",
   "execution_count": null,
   "metadata": {},
   "outputs": [],
   "source": [
    "from functions import clean_operation, clean_symbol, clean_duration, clean_steps"
   ]
  },
  {
   "cell_type": "code",
   "execution_count": null,
   "metadata": {},
   "outputs": [],
   "source": []
  }
 ],
 "metadata": {
  "kernelspec": {
   "display_name": "Python 3",
   "language": "python",
   "name": "python3"
  },
  "language_info": {
   "codemirror_mode": {
    "name": "ipython",
    "version": 3
   },
   "file_extension": ".py",
   "mimetype": "text/x-python",
   "name": "python",
   "nbconvert_exporter": "python",
   "pygments_lexer": "ipython3",
   "version": "3.8.5"
  },
  "toc": {
   "base_numbering": 1,
   "nav_menu": {},
   "number_sections": true,
   "sideBar": true,
   "skip_h1_title": false,
   "title_cell": "Table of Contents",
   "title_sidebar": "Contents",
   "toc_cell": true,
   "toc_position": {},
   "toc_section_display": true,
   "toc_window_display": false
  }
 },
 "nbformat": 4,
 "nbformat_minor": 4
}
