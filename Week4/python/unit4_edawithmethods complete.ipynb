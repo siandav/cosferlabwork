{
 "cells": [
  {
   "cell_type": "markdown",
   "metadata": {},
   "source": [
    "# EDA with useful methods on unit 4 data "
   ]
  },
  {
   "cell_type": "code",
   "execution_count": 1,
   "metadata": {},
   "outputs": [],
   "source": [
    "import pandas as pd \n",
    "import numpy as np \n",
    "import matplotlib.pyplot as plt \n",
    "import seaborn as sns"
   ]
  },
  {
   "cell_type": "markdown",
   "metadata": {},
   "source": [
    "## get data "
   ]
  },
  {
   "cell_type": "code",
   "execution_count": 2,
   "metadata": {},
   "outputs": [],
   "source": [
    "df=pd.read_csv('unit4.csv')"
   ]
  },
  {
   "cell_type": "code",
   "execution_count": 3,
   "metadata": {},
   "outputs": [
    {
     "data": {
      "text/html": [
       "<div>\n",
       "<style scoped>\n",
       "    .dataframe tbody tr th:only-of-type {\n",
       "        vertical-align: middle;\n",
       "    }\n",
       "\n",
       "    .dataframe tbody tr th {\n",
       "        vertical-align: top;\n",
       "    }\n",
       "\n",
       "    .dataframe thead th {\n",
       "        text-align: right;\n",
       "    }\n",
       "</style>\n",
       "<table border=\"1\" class=\"dataframe\">\n",
       "  <thead>\n",
       "    <tr style=\"text-align: right;\">\n",
       "      <th></th>\n",
       "      <th>STATE</th>\n",
       "      <th>PVASTATE</th>\n",
       "      <th>DOB</th>\n",
       "      <th>MDMAUD</th>\n",
       "      <th>RECP3</th>\n",
       "      <th>GENDER</th>\n",
       "      <th>DOMAIN</th>\n",
       "      <th>INCOME</th>\n",
       "      <th>HOMEOWNR</th>\n",
       "      <th>HV1</th>\n",
       "      <th>...</th>\n",
       "      <th>VETERANS</th>\n",
       "      <th>NUMPROM</th>\n",
       "      <th>CARDPROM</th>\n",
       "      <th>CARDPM12</th>\n",
       "      <th>NUMPRM12</th>\n",
       "      <th>MAXADATE</th>\n",
       "      <th>RFA_2</th>\n",
       "      <th>NGIFTALL</th>\n",
       "      <th>TIMELAG</th>\n",
       "      <th>AVGGIFT</th>\n",
       "    </tr>\n",
       "  </thead>\n",
       "  <tbody>\n",
       "    <tr>\n",
       "      <th>0</th>\n",
       "      <td>IL</td>\n",
       "      <td></td>\n",
       "      <td>3712</td>\n",
       "      <td>XXXX</td>\n",
       "      <td></td>\n",
       "      <td>F</td>\n",
       "      <td>T2</td>\n",
       "      <td>NaN</td>\n",
       "      <td></td>\n",
       "      <td>479</td>\n",
       "      <td>...</td>\n",
       "      <td></td>\n",
       "      <td>74</td>\n",
       "      <td>27</td>\n",
       "      <td>6</td>\n",
       "      <td>14</td>\n",
       "      <td>9702</td>\n",
       "      <td>L4E</td>\n",
       "      <td>31</td>\n",
       "      <td>4.0</td>\n",
       "      <td>7.741935</td>\n",
       "    </tr>\n",
       "  </tbody>\n",
       "</table>\n",
       "<p>1 rows × 28 columns</p>\n",
       "</div>"
      ],
      "text/plain": [
       "  STATE PVASTATE   DOB MDMAUD RECP3 GENDER DOMAIN  INCOME HOMEOWNR  HV1  ...  \\\n",
       "0    IL           3712   XXXX            F     T2     NaN           479  ...   \n",
       "\n",
       "   VETERANS  NUMPROM  CARDPROM  CARDPM12  NUMPRM12  MAXADATE  RFA_2  NGIFTALL  \\\n",
       "0                 74        27         6        14      9702    L4E        31   \n",
       "\n",
       "  TIMELAG   AVGGIFT  \n",
       "0     4.0  7.741935  \n",
       "\n",
       "[1 rows x 28 columns]"
      ]
     },
     "execution_count": 3,
     "metadata": {},
     "output_type": "execute_result"
    }
   ],
   "source": [
    "df.head(1)"
   ]
  },
  {
   "cell_type": "code",
   "execution_count": 4,
   "metadata": {},
   "outputs": [
    {
     "name": "stdout",
     "output_type": "stream",
     "text": [
      "<class 'pandas.core.frame.DataFrame'>\n",
      "RangeIndex: 90569 entries, 0 to 90568\n",
      "Data columns (total 28 columns):\n",
      " #   Column    Non-Null Count  Dtype  \n",
      "---  ------    --------------  -----  \n",
      " 0   STATE     90569 non-null  object \n",
      " 1   PVASTATE  90569 non-null  object \n",
      " 2   DOB       90569 non-null  int64  \n",
      " 3   MDMAUD    90569 non-null  object \n",
      " 4   RECP3     90569 non-null  object \n",
      " 5   GENDER    90569 non-null  object \n",
      " 6   DOMAIN    90569 non-null  object \n",
      " 7   INCOME    70386 non-null  float64\n",
      " 8   HOMEOWNR  90569 non-null  object \n",
      " 9   HV1       90569 non-null  int64  \n",
      " 10  HV2       90569 non-null  int64  \n",
      " 11  HV3       90569 non-null  int64  \n",
      " 12  HV4       90569 non-null  int64  \n",
      " 13  IC1       90569 non-null  int64  \n",
      " 14  IC2       90569 non-null  int64  \n",
      " 15  IC3       90569 non-null  int64  \n",
      " 16  IC4       90569 non-null  int64  \n",
      " 17  IC5       90569 non-null  int64  \n",
      " 18  VETERANS  90569 non-null  object \n",
      " 19  NUMPROM   90569 non-null  int64  \n",
      " 20  CARDPROM  90569 non-null  int64  \n",
      " 21  CARDPM12  90569 non-null  int64  \n",
      " 22  NUMPRM12  90569 non-null  int64  \n",
      " 23  MAXADATE  90569 non-null  int64  \n",
      " 24  RFA_2     90569 non-null  object \n",
      " 25  NGIFTALL  90569 non-null  int64  \n",
      " 26  TIMELAG   80916 non-null  float64\n",
      " 27  AVGGIFT   90569 non-null  float64\n",
      "dtypes: float64(3), int64(16), object(9)\n",
      "memory usage: 19.3+ MB\n"
     ]
    }
   ],
   "source": [
    "df.info()"
   ]
  },
  {
   "cell_type": "code",
   "execution_count": 5,
   "metadata": {},
   "outputs": [
    {
     "data": {
      "text/html": [
       "<div>\n",
       "<style scoped>\n",
       "    .dataframe tbody tr th:only-of-type {\n",
       "        vertical-align: middle;\n",
       "    }\n",
       "\n",
       "    .dataframe tbody tr th {\n",
       "        vertical-align: top;\n",
       "    }\n",
       "\n",
       "    .dataframe thead th {\n",
       "        text-align: right;\n",
       "    }\n",
       "</style>\n",
       "<table border=\"1\" class=\"dataframe\">\n",
       "  <thead>\n",
       "    <tr style=\"text-align: right;\">\n",
       "      <th></th>\n",
       "      <th>DOB</th>\n",
       "      <th>INCOME</th>\n",
       "      <th>HV1</th>\n",
       "      <th>HV2</th>\n",
       "      <th>HV3</th>\n",
       "      <th>HV4</th>\n",
       "      <th>IC1</th>\n",
       "      <th>IC2</th>\n",
       "      <th>IC3</th>\n",
       "      <th>IC4</th>\n",
       "      <th>IC5</th>\n",
       "      <th>NUMPROM</th>\n",
       "      <th>CARDPROM</th>\n",
       "      <th>CARDPM12</th>\n",
       "      <th>NUMPRM12</th>\n",
       "      <th>MAXADATE</th>\n",
       "      <th>NGIFTALL</th>\n",
       "      <th>TIMELAG</th>\n",
       "      <th>AVGGIFT</th>\n",
       "    </tr>\n",
       "  </thead>\n",
       "  <tbody>\n",
       "    <tr>\n",
       "      <th>count</th>\n",
       "      <td>90569.000000</td>\n",
       "      <td>70386.000000</td>\n",
       "      <td>90569.000000</td>\n",
       "      <td>90569.00000</td>\n",
       "      <td>90569.000000</td>\n",
       "      <td>90569.000000</td>\n",
       "      <td>90569.000000</td>\n",
       "      <td>90569.000000</td>\n",
       "      <td>90569.000000</td>\n",
       "      <td>90569.000000</td>\n",
       "      <td>90569.000000</td>\n",
       "      <td>90569.000000</td>\n",
       "      <td>90569.000000</td>\n",
       "      <td>90569.000000</td>\n",
       "      <td>90569.000000</td>\n",
       "      <td>90569.000000</td>\n",
       "      <td>90569.000000</td>\n",
       "      <td>80916.000000</td>\n",
       "      <td>90569.000000</td>\n",
       "    </tr>\n",
       "    <tr>\n",
       "      <th>mean</th>\n",
       "      <td>2724.442789</td>\n",
       "      <td>3.878257</td>\n",
       "      <td>1056.391304</td>\n",
       "      <td>1127.42116</td>\n",
       "      <td>4.213473</td>\n",
       "      <td>3.865462</td>\n",
       "      <td>339.373240</td>\n",
       "      <td>386.231083</td>\n",
       "      <td>386.694068</td>\n",
       "      <td>429.977917</td>\n",
       "      <td>15682.038600</td>\n",
       "      <td>46.797204</td>\n",
       "      <td>18.370701</td>\n",
       "      <td>5.343407</td>\n",
       "      <td>12.837351</td>\n",
       "      <td>9701.640606</td>\n",
       "      <td>9.501353</td>\n",
       "      <td>8.114378</td>\n",
       "      <td>13.428585</td>\n",
       "    </tr>\n",
       "    <tr>\n",
       "      <th>std</th>\n",
       "      <td>2136.453823</td>\n",
       "      <td>1.855265</td>\n",
       "      <td>936.383991</td>\n",
       "      <td>942.16266</td>\n",
       "      <td>2.302380</td>\n",
       "      <td>2.239738</td>\n",
       "      <td>162.390371</td>\n",
       "      <td>173.082626</td>\n",
       "      <td>160.945113</td>\n",
       "      <td>171.332133</td>\n",
       "      <td>8508.870754</td>\n",
       "      <td>22.944967</td>\n",
       "      <td>8.582096</td>\n",
       "      <td>1.207126</td>\n",
       "      <td>4.499933</td>\n",
       "      <td>5.679884</td>\n",
       "      <td>8.495065</td>\n",
       "      <td>8.310877</td>\n",
       "      <td>10.796349</td>\n",
       "    </tr>\n",
       "    <tr>\n",
       "      <th>min</th>\n",
       "      <td>0.000000</td>\n",
       "      <td>1.000000</td>\n",
       "      <td>0.000000</td>\n",
       "      <td>0.00000</td>\n",
       "      <td>0.000000</td>\n",
       "      <td>0.000000</td>\n",
       "      <td>0.000000</td>\n",
       "      <td>0.000000</td>\n",
       "      <td>0.000000</td>\n",
       "      <td>0.000000</td>\n",
       "      <td>0.000000</td>\n",
       "      <td>4.000000</td>\n",
       "      <td>1.000000</td>\n",
       "      <td>0.000000</td>\n",
       "      <td>1.000000</td>\n",
       "      <td>9611.000000</td>\n",
       "      <td>1.000000</td>\n",
       "      <td>0.000000</td>\n",
       "      <td>1.285714</td>\n",
       "    </tr>\n",
       "    <tr>\n",
       "      <th>25%</th>\n",
       "      <td>112.000000</td>\n",
       "      <td>2.000000</td>\n",
       "      <td>511.000000</td>\n",
       "      <td>553.00000</td>\n",
       "      <td>3.000000</td>\n",
       "      <td>2.000000</td>\n",
       "      <td>230.000000</td>\n",
       "      <td>273.000000</td>\n",
       "      <td>277.000000</td>\n",
       "      <td>314.000000</td>\n",
       "      <td>10770.000000</td>\n",
       "      <td>27.000000</td>\n",
       "      <td>11.000000</td>\n",
       "      <td>5.000000</td>\n",
       "      <td>11.000000</td>\n",
       "      <td>9702.000000</td>\n",
       "      <td>3.000000</td>\n",
       "      <td>4.000000</td>\n",
       "      <td>8.454545</td>\n",
       "    </tr>\n",
       "    <tr>\n",
       "      <th>50%</th>\n",
       "      <td>2610.000000</td>\n",
       "      <td>4.000000</td>\n",
       "      <td>735.000000</td>\n",
       "      <td>800.00000</td>\n",
       "      <td>4.000000</td>\n",
       "      <td>3.000000</td>\n",
       "      <td>309.000000</td>\n",
       "      <td>355.000000</td>\n",
       "      <td>353.000000</td>\n",
       "      <td>396.000000</td>\n",
       "      <td>13692.000000</td>\n",
       "      <td>46.000000</td>\n",
       "      <td>18.000000</td>\n",
       "      <td>6.000000</td>\n",
       "      <td>12.000000</td>\n",
       "      <td>9702.000000</td>\n",
       "      <td>7.000000</td>\n",
       "      <td>6.000000</td>\n",
       "      <td>11.666667</td>\n",
       "    </tr>\n",
       "    <tr>\n",
       "      <th>75%</th>\n",
       "      <td>4601.000000</td>\n",
       "      <td>5.000000</td>\n",
       "      <td>1206.000000</td>\n",
       "      <td>1320.00000</td>\n",
       "      <td>5.000000</td>\n",
       "      <td>5.000000</td>\n",
       "      <td>414.000000</td>\n",
       "      <td>464.000000</td>\n",
       "      <td>465.000000</td>\n",
       "      <td>513.000000</td>\n",
       "      <td>18128.000000</td>\n",
       "      <td>64.000000</td>\n",
       "      <td>25.000000</td>\n",
       "      <td>6.000000</td>\n",
       "      <td>13.000000</td>\n",
       "      <td>9702.000000</td>\n",
       "      <td>13.000000</td>\n",
       "      <td>11.000000</td>\n",
       "      <td>15.625000</td>\n",
       "    </tr>\n",
       "    <tr>\n",
       "      <th>max</th>\n",
       "      <td>9710.000000</td>\n",
       "      <td>7.000000</td>\n",
       "      <td>6000.000000</td>\n",
       "      <td>6000.00000</td>\n",
       "      <td>13.000000</td>\n",
       "      <td>13.000000</td>\n",
       "      <td>1500.000000</td>\n",
       "      <td>1500.000000</td>\n",
       "      <td>1500.000000</td>\n",
       "      <td>1500.000000</td>\n",
       "      <td>159306.000000</td>\n",
       "      <td>195.000000</td>\n",
       "      <td>61.000000</td>\n",
       "      <td>19.000000</td>\n",
       "      <td>78.000000</td>\n",
       "      <td>9702.000000</td>\n",
       "      <td>237.000000</td>\n",
       "      <td>1088.000000</td>\n",
       "      <td>1000.000000</td>\n",
       "    </tr>\n",
       "  </tbody>\n",
       "</table>\n",
       "</div>"
      ],
      "text/plain": [
       "                DOB        INCOME           HV1          HV2           HV3  \\\n",
       "count  90569.000000  70386.000000  90569.000000  90569.00000  90569.000000   \n",
       "mean    2724.442789      3.878257   1056.391304   1127.42116      4.213473   \n",
       "std     2136.453823      1.855265    936.383991    942.16266      2.302380   \n",
       "min        0.000000      1.000000      0.000000      0.00000      0.000000   \n",
       "25%      112.000000      2.000000    511.000000    553.00000      3.000000   \n",
       "50%     2610.000000      4.000000    735.000000    800.00000      4.000000   \n",
       "75%     4601.000000      5.000000   1206.000000   1320.00000      5.000000   \n",
       "max     9710.000000      7.000000   6000.000000   6000.00000     13.000000   \n",
       "\n",
       "                HV4           IC1           IC2           IC3           IC4  \\\n",
       "count  90569.000000  90569.000000  90569.000000  90569.000000  90569.000000   \n",
       "mean       3.865462    339.373240    386.231083    386.694068    429.977917   \n",
       "std        2.239738    162.390371    173.082626    160.945113    171.332133   \n",
       "min        0.000000      0.000000      0.000000      0.000000      0.000000   \n",
       "25%        2.000000    230.000000    273.000000    277.000000    314.000000   \n",
       "50%        3.000000    309.000000    355.000000    353.000000    396.000000   \n",
       "75%        5.000000    414.000000    464.000000    465.000000    513.000000   \n",
       "max       13.000000   1500.000000   1500.000000   1500.000000   1500.000000   \n",
       "\n",
       "                 IC5       NUMPROM      CARDPROM      CARDPM12      NUMPRM12  \\\n",
       "count   90569.000000  90569.000000  90569.000000  90569.000000  90569.000000   \n",
       "mean    15682.038600     46.797204     18.370701      5.343407     12.837351   \n",
       "std      8508.870754     22.944967      8.582096      1.207126      4.499933   \n",
       "min         0.000000      4.000000      1.000000      0.000000      1.000000   \n",
       "25%     10770.000000     27.000000     11.000000      5.000000     11.000000   \n",
       "50%     13692.000000     46.000000     18.000000      6.000000     12.000000   \n",
       "75%     18128.000000     64.000000     25.000000      6.000000     13.000000   \n",
       "max    159306.000000    195.000000     61.000000     19.000000     78.000000   \n",
       "\n",
       "           MAXADATE      NGIFTALL       TIMELAG       AVGGIFT  \n",
       "count  90569.000000  90569.000000  80916.000000  90569.000000  \n",
       "mean    9701.640606      9.501353      8.114378     13.428585  \n",
       "std        5.679884      8.495065      8.310877     10.796349  \n",
       "min     9611.000000      1.000000      0.000000      1.285714  \n",
       "25%     9702.000000      3.000000      4.000000      8.454545  \n",
       "50%     9702.000000      7.000000      6.000000     11.666667  \n",
       "75%     9702.000000     13.000000     11.000000     15.625000  \n",
       "max     9702.000000    237.000000   1088.000000   1000.000000  "
      ]
     },
     "execution_count": 5,
     "metadata": {},
     "output_type": "execute_result"
    }
   ],
   "source": [
    "df.describe()"
   ]
  },
  {
   "cell_type": "markdown",
   "metadata": {},
   "source": [
    "## nulls dataframe "
   ]
  },
  {
   "cell_type": "code",
   "execution_count": 6,
   "metadata": {},
   "outputs": [],
   "source": [
    "nullsdf=pd.DataFrame(df.isna().sum()/len(df))"
   ]
  },
  {
   "cell_type": "code",
   "execution_count": 7,
   "metadata": {},
   "outputs": [
    {
     "data": {
      "text/html": [
       "<div>\n",
       "<style scoped>\n",
       "    .dataframe tbody tr th:only-of-type {\n",
       "        vertical-align: middle;\n",
       "    }\n",
       "\n",
       "    .dataframe tbody tr th {\n",
       "        vertical-align: top;\n",
       "    }\n",
       "\n",
       "    .dataframe thead th {\n",
       "        text-align: right;\n",
       "    }\n",
       "</style>\n",
       "<table border=\"1\" class=\"dataframe\">\n",
       "  <thead>\n",
       "    <tr style=\"text-align: right;\">\n",
       "      <th></th>\n",
       "      <th>0</th>\n",
       "    </tr>\n",
       "  </thead>\n",
       "  <tbody>\n",
       "    <tr>\n",
       "      <th>STATE</th>\n",
       "      <td>0.000000</td>\n",
       "    </tr>\n",
       "    <tr>\n",
       "      <th>PVASTATE</th>\n",
       "      <td>0.000000</td>\n",
       "    </tr>\n",
       "    <tr>\n",
       "      <th>DOB</th>\n",
       "      <td>0.000000</td>\n",
       "    </tr>\n",
       "    <tr>\n",
       "      <th>MDMAUD</th>\n",
       "      <td>0.000000</td>\n",
       "    </tr>\n",
       "    <tr>\n",
       "      <th>RECP3</th>\n",
       "      <td>0.000000</td>\n",
       "    </tr>\n",
       "    <tr>\n",
       "      <th>GENDER</th>\n",
       "      <td>0.000000</td>\n",
       "    </tr>\n",
       "    <tr>\n",
       "      <th>DOMAIN</th>\n",
       "      <td>0.000000</td>\n",
       "    </tr>\n",
       "    <tr>\n",
       "      <th>INCOME</th>\n",
       "      <td>0.222847</td>\n",
       "    </tr>\n",
       "    <tr>\n",
       "      <th>HOMEOWNR</th>\n",
       "      <td>0.000000</td>\n",
       "    </tr>\n",
       "    <tr>\n",
       "      <th>HV1</th>\n",
       "      <td>0.000000</td>\n",
       "    </tr>\n",
       "    <tr>\n",
       "      <th>HV2</th>\n",
       "      <td>0.000000</td>\n",
       "    </tr>\n",
       "    <tr>\n",
       "      <th>HV3</th>\n",
       "      <td>0.000000</td>\n",
       "    </tr>\n",
       "    <tr>\n",
       "      <th>HV4</th>\n",
       "      <td>0.000000</td>\n",
       "    </tr>\n",
       "    <tr>\n",
       "      <th>IC1</th>\n",
       "      <td>0.000000</td>\n",
       "    </tr>\n",
       "    <tr>\n",
       "      <th>IC2</th>\n",
       "      <td>0.000000</td>\n",
       "    </tr>\n",
       "    <tr>\n",
       "      <th>IC3</th>\n",
       "      <td>0.000000</td>\n",
       "    </tr>\n",
       "    <tr>\n",
       "      <th>IC4</th>\n",
       "      <td>0.000000</td>\n",
       "    </tr>\n",
       "    <tr>\n",
       "      <th>IC5</th>\n",
       "      <td>0.000000</td>\n",
       "    </tr>\n",
       "    <tr>\n",
       "      <th>VETERANS</th>\n",
       "      <td>0.000000</td>\n",
       "    </tr>\n",
       "    <tr>\n",
       "      <th>NUMPROM</th>\n",
       "      <td>0.000000</td>\n",
       "    </tr>\n",
       "    <tr>\n",
       "      <th>CARDPROM</th>\n",
       "      <td>0.000000</td>\n",
       "    </tr>\n",
       "    <tr>\n",
       "      <th>CARDPM12</th>\n",
       "      <td>0.000000</td>\n",
       "    </tr>\n",
       "    <tr>\n",
       "      <th>NUMPRM12</th>\n",
       "      <td>0.000000</td>\n",
       "    </tr>\n",
       "    <tr>\n",
       "      <th>MAXADATE</th>\n",
       "      <td>0.000000</td>\n",
       "    </tr>\n",
       "    <tr>\n",
       "      <th>RFA_2</th>\n",
       "      <td>0.000000</td>\n",
       "    </tr>\n",
       "    <tr>\n",
       "      <th>NGIFTALL</th>\n",
       "      <td>0.000000</td>\n",
       "    </tr>\n",
       "    <tr>\n",
       "      <th>TIMELAG</th>\n",
       "      <td>0.106582</td>\n",
       "    </tr>\n",
       "    <tr>\n",
       "      <th>AVGGIFT</th>\n",
       "      <td>0.000000</td>\n",
       "    </tr>\n",
       "  </tbody>\n",
       "</table>\n",
       "</div>"
      ],
      "text/plain": [
       "                 0\n",
       "STATE     0.000000\n",
       "PVASTATE  0.000000\n",
       "DOB       0.000000\n",
       "MDMAUD    0.000000\n",
       "RECP3     0.000000\n",
       "GENDER    0.000000\n",
       "DOMAIN    0.000000\n",
       "INCOME    0.222847\n",
       "HOMEOWNR  0.000000\n",
       "HV1       0.000000\n",
       "HV2       0.000000\n",
       "HV3       0.000000\n",
       "HV4       0.000000\n",
       "IC1       0.000000\n",
       "IC2       0.000000\n",
       "IC3       0.000000\n",
       "IC4       0.000000\n",
       "IC5       0.000000\n",
       "VETERANS  0.000000\n",
       "NUMPROM   0.000000\n",
       "CARDPROM  0.000000\n",
       "CARDPM12  0.000000\n",
       "NUMPRM12  0.000000\n",
       "MAXADATE  0.000000\n",
       "RFA_2     0.000000\n",
       "NGIFTALL  0.000000\n",
       "TIMELAG   0.106582\n",
       "AVGGIFT   0.000000"
      ]
     },
     "execution_count": 7,
     "metadata": {},
     "output_type": "execute_result"
    }
   ],
   "source": [
    "nullsdf"
   ]
  },
  {
   "cell_type": "markdown",
   "metadata": {},
   "source": [
    "## Nulls handling "
   ]
  },
  {
   "cell_type": "code",
   "execution_count": 8,
   "metadata": {},
   "outputs": [],
   "source": [
    "# income and timelag features \n",
    "# EDA to understand those columns \n",
    "# relationship to label (avg_gift)\n",
    "# is the gap same in both cases "
   ]
  },
  {
   "cell_type": "code",
   "execution_count": 9,
   "metadata": {},
   "outputs": [
    {
     "data": {
      "text/html": [
       "<div>\n",
       "<style scoped>\n",
       "    .dataframe tbody tr th:only-of-type {\n",
       "        vertical-align: middle;\n",
       "    }\n",
       "\n",
       "    .dataframe tbody tr th {\n",
       "        vertical-align: top;\n",
       "    }\n",
       "\n",
       "    .dataframe thead th {\n",
       "        text-align: right;\n",
       "    }\n",
       "</style>\n",
       "<table border=\"1\" class=\"dataframe\">\n",
       "  <thead>\n",
       "    <tr style=\"text-align: right;\">\n",
       "      <th></th>\n",
       "      <th>STATE</th>\n",
       "      <th>PVASTATE</th>\n",
       "      <th>DOB</th>\n",
       "      <th>MDMAUD</th>\n",
       "      <th>RECP3</th>\n",
       "      <th>GENDER</th>\n",
       "      <th>DOMAIN</th>\n",
       "      <th>INCOME</th>\n",
       "      <th>HOMEOWNR</th>\n",
       "      <th>HV1</th>\n",
       "      <th>...</th>\n",
       "      <th>VETERANS</th>\n",
       "      <th>NUMPROM</th>\n",
       "      <th>CARDPROM</th>\n",
       "      <th>CARDPM12</th>\n",
       "      <th>NUMPRM12</th>\n",
       "      <th>MAXADATE</th>\n",
       "      <th>RFA_2</th>\n",
       "      <th>NGIFTALL</th>\n",
       "      <th>TIMELAG</th>\n",
       "      <th>AVGGIFT</th>\n",
       "    </tr>\n",
       "  </thead>\n",
       "  <tbody>\n",
       "    <tr>\n",
       "      <th>0</th>\n",
       "      <td>IL</td>\n",
       "      <td></td>\n",
       "      <td>3712</td>\n",
       "      <td>XXXX</td>\n",
       "      <td></td>\n",
       "      <td>F</td>\n",
       "      <td>T2</td>\n",
       "      <td>NaN</td>\n",
       "      <td></td>\n",
       "      <td>479</td>\n",
       "      <td>...</td>\n",
       "      <td></td>\n",
       "      <td>74</td>\n",
       "      <td>27</td>\n",
       "      <td>6</td>\n",
       "      <td>14</td>\n",
       "      <td>9702</td>\n",
       "      <td>L4E</td>\n",
       "      <td>31</td>\n",
       "      <td>4.0</td>\n",
       "      <td>7.741935</td>\n",
       "    </tr>\n",
       "    <tr>\n",
       "      <th>1</th>\n",
       "      <td>CA</td>\n",
       "      <td></td>\n",
       "      <td>5202</td>\n",
       "      <td>XXXX</td>\n",
       "      <td></td>\n",
       "      <td>M</td>\n",
       "      <td>S1</td>\n",
       "      <td>6.0</td>\n",
       "      <td>H</td>\n",
       "      <td>5468</td>\n",
       "      <td>...</td>\n",
       "      <td></td>\n",
       "      <td>32</td>\n",
       "      <td>12</td>\n",
       "      <td>6</td>\n",
       "      <td>13</td>\n",
       "      <td>9702</td>\n",
       "      <td>L2G</td>\n",
       "      <td>3</td>\n",
       "      <td>18.0</td>\n",
       "      <td>15.666667</td>\n",
       "    </tr>\n",
       "    <tr>\n",
       "      <th>2</th>\n",
       "      <td>NC</td>\n",
       "      <td></td>\n",
       "      <td>0</td>\n",
       "      <td>XXXX</td>\n",
       "      <td></td>\n",
       "      <td>M</td>\n",
       "      <td>R2</td>\n",
       "      <td>3.0</td>\n",
       "      <td>U</td>\n",
       "      <td>497</td>\n",
       "      <td>...</td>\n",
       "      <td></td>\n",
       "      <td>63</td>\n",
       "      <td>26</td>\n",
       "      <td>6</td>\n",
       "      <td>14</td>\n",
       "      <td>9702</td>\n",
       "      <td>L4E</td>\n",
       "      <td>27</td>\n",
       "      <td>12.0</td>\n",
       "      <td>7.481481</td>\n",
       "    </tr>\n",
       "    <tr>\n",
       "      <th>3</th>\n",
       "      <td>CA</td>\n",
       "      <td></td>\n",
       "      <td>2801</td>\n",
       "      <td>XXXX</td>\n",
       "      <td></td>\n",
       "      <td>F</td>\n",
       "      <td>R2</td>\n",
       "      <td>1.0</td>\n",
       "      <td>U</td>\n",
       "      <td>1000</td>\n",
       "      <td>...</td>\n",
       "      <td></td>\n",
       "      <td>66</td>\n",
       "      <td>27</td>\n",
       "      <td>6</td>\n",
       "      <td>14</td>\n",
       "      <td>9702</td>\n",
       "      <td>L4E</td>\n",
       "      <td>16</td>\n",
       "      <td>9.0</td>\n",
       "      <td>6.812500</td>\n",
       "    </tr>\n",
       "    <tr>\n",
       "      <th>4</th>\n",
       "      <td>FL</td>\n",
       "      <td></td>\n",
       "      <td>2001</td>\n",
       "      <td>XXXX</td>\n",
       "      <td>X</td>\n",
       "      <td>F</td>\n",
       "      <td>S2</td>\n",
       "      <td>3.0</td>\n",
       "      <td>H</td>\n",
       "      <td>576</td>\n",
       "      <td>...</td>\n",
       "      <td></td>\n",
       "      <td>113</td>\n",
       "      <td>43</td>\n",
       "      <td>10</td>\n",
       "      <td>25</td>\n",
       "      <td>9702</td>\n",
       "      <td>L2F</td>\n",
       "      <td>37</td>\n",
       "      <td>14.0</td>\n",
       "      <td>6.864865</td>\n",
       "    </tr>\n",
       "  </tbody>\n",
       "</table>\n",
       "<p>5 rows × 28 columns</p>\n",
       "</div>"
      ],
      "text/plain": [
       "  STATE PVASTATE   DOB MDMAUD RECP3 GENDER DOMAIN  INCOME HOMEOWNR   HV1  ...  \\\n",
       "0    IL           3712   XXXX            F     T2     NaN            479  ...   \n",
       "1    CA           5202   XXXX            M     S1     6.0        H  5468  ...   \n",
       "2    NC              0   XXXX            M     R2     3.0        U   497  ...   \n",
       "3    CA           2801   XXXX            F     R2     1.0        U  1000  ...   \n",
       "4    FL           2001   XXXX     X      F     S2     3.0        H   576  ...   \n",
       "\n",
       "   VETERANS  NUMPROM  CARDPROM  CARDPM12  NUMPRM12  MAXADATE  RFA_2  NGIFTALL  \\\n",
       "0                 74        27         6        14      9702    L4E        31   \n",
       "1                 32        12         6        13      9702    L2G         3   \n",
       "2                 63        26         6        14      9702    L4E        27   \n",
       "3                 66        27         6        14      9702    L4E        16   \n",
       "4                113        43        10        25      9702    L2F        37   \n",
       "\n",
       "  TIMELAG    AVGGIFT  \n",
       "0     4.0   7.741935  \n",
       "1    18.0  15.666667  \n",
       "2    12.0   7.481481  \n",
       "3     9.0   6.812500  \n",
       "4    14.0   6.864865  \n",
       "\n",
       "[5 rows x 28 columns]"
      ]
     },
     "execution_count": 9,
     "metadata": {},
     "output_type": "execute_result"
    }
   ],
   "source": [
    "df.head()"
   ]
  },
  {
   "cell_type": "markdown",
   "metadata": {},
   "source": [
    "- REMEMBER that isna.sum() only displays nulls for numeric values. \n",
    "- to find whitespaces in categories, you can set a function that replaces '' or ' ' with 'unknown'\n",
    "- explore the data in tableau or python, visually, (eg in python using value counts or count plot)"
   ]
  },
  {
   "cell_type": "code",
   "execution_count": 10,
   "metadata": {},
   "outputs": [
    {
     "data": {
      "text/plain": [
       "XXXX    90290\n",
       "C1CM       59\n",
       "L1CM       44\n",
       "I1CM       34\n",
       "D2CM       27\n",
       "C2CM       23\n",
       "D1CM       19\n",
       "L2CM       14\n",
       "C1LM        8\n",
       "L1LM        8\n",
       "I2CM        7\n",
       "D5CM        5\n",
       "D5MM        5\n",
       "D2MM        4\n",
       "D5TM        3\n",
       "I1LM        3\n",
       "C2MM        3\n",
       "C5CM        3\n",
       "C2LM        2\n",
       "I2MM        1\n",
       "C5MM        1\n",
       "I5MM        1\n",
       "L2TM        1\n",
       "C1MM        1\n",
       "C5TM        1\n",
       "I5CM        1\n",
       "L1MM        1\n",
       "Name: MDMAUD, dtype: int64"
      ]
     },
     "execution_count": 10,
     "metadata": {},
     "output_type": "execute_result"
    }
   ],
   "source": [
    "df['MDMAUD'].value_counts()"
   ]
  },
  {
   "cell_type": "code",
   "execution_count": 11,
   "metadata": {},
   "outputs": [
    {
     "data": {
      "text/plain": [
       "     80723\n",
       "Y     9846\n",
       "Name: VETERANS, dtype: int64"
      ]
     },
     "execution_count": 11,
     "metadata": {},
     "output_type": "execute_result"
    }
   ],
   "source": [
    "df['VETERANS'].value_counts()"
   ]
  },
  {
   "cell_type": "code",
   "execution_count": 12,
   "metadata": {},
   "outputs": [
    {
     "data": {
      "text/plain": [
       "<AxesSubplot:xlabel='VETERANS', ylabel='count'>"
      ]
     },
     "execution_count": 12,
     "metadata": {},
     "output_type": "execute_result"
    },
    {
     "data": {
      "image/png": "[encoded data removed]",
      "text/plain": [
       "<Figure size 432x288 with 1 Axes>"
      ]
     },
     "metadata": {
      "needs_background": "light"
     },
     "output_type": "display_data"
    }
   ],
   "source": [
    "sns.countplot(x='VETERANS',data=df)"
   ]
  },
  {
   "cell_type": "markdown",
   "metadata": {},
   "source": [
    "- REGEX /s - any white space \n",
    "- ^$ start and end of string \n",
    "- apply this to find any blanks and replace with NaN "
   ]
  },
  {
   "cell_type": "code",
   "execution_count": 13,
   "metadata": {},
   "outputs": [],
   "source": [
    "df1= df.replace(r'^\\s$',np.NaN,regex=True)"
   ]
  },
  {
   "cell_type": "code",
   "execution_count": 14,
   "metadata": {},
   "outputs": [
    {
     "name": "stdout",
     "output_type": "stream",
     "text": [
      "<class 'pandas.core.frame.DataFrame'>\n",
      "RangeIndex: 90569 entries, 0 to 90568\n",
      "Data columns (total 28 columns):\n",
      " #   Column    Non-Null Count  Dtype  \n",
      "---  ------    --------------  -----  \n",
      " 0   STATE     90569 non-null  object \n",
      " 1   PVASTATE  1385 non-null   object \n",
      " 2   DOB       90569 non-null  int64  \n",
      " 3   MDMAUD    90569 non-null  object \n",
      " 4   RECP3     1833 non-null   object \n",
      " 5   GENDER    87774 non-null  object \n",
      " 6   DOMAIN    88393 non-null  object \n",
      " 7   INCOME    70386 non-null  float64\n",
      " 8   HOMEOWNR  69518 non-null  object \n",
      " 9   HV1       90569 non-null  int64  \n",
      " 10  HV2       90569 non-null  int64  \n",
      " 11  HV3       90569 non-null  int64  \n",
      " 12  HV4       90569 non-null  int64  \n",
      " 13  IC1       90569 non-null  int64  \n",
      " 14  IC2       90569 non-null  int64  \n",
      " 15  IC3       90569 non-null  int64  \n",
      " 16  IC4       90569 non-null  int64  \n",
      " 17  IC5       90569 non-null  int64  \n",
      " 18  VETERANS  9846 non-null   object \n",
      " 19  NUMPROM   90569 non-null  int64  \n",
      " 20  CARDPROM  90569 non-null  int64  \n",
      " 21  CARDPM12  90569 non-null  int64  \n",
      " 22  NUMPRM12  90569 non-null  int64  \n",
      " 23  MAXADATE  90569 non-null  int64  \n",
      " 24  RFA_2     90569 non-null  object \n",
      " 25  NGIFTALL  90569 non-null  int64  \n",
      " 26  TIMELAG   80916 non-null  float64\n",
      " 27  AVGGIFT   90569 non-null  float64\n",
      "dtypes: float64(3), int64(16), object(9)\n",
      "memory usage: 19.3+ MB\n"
     ]
    }
   ],
   "source": [
    "df1.info()"
   ]
  },
  {
   "cell_type": "code",
   "execution_count": 15,
   "metadata": {},
   "outputs": [
    {
     "data": {
      "text/plain": [
       "Index(['STATE', 'PVASTATE', 'DOB', 'MDMAUD', 'RECP3', 'GENDER', 'DOMAIN',\n",
       "       'INCOME', 'HOMEOWNR', 'HV1', 'HV2', 'HV3', 'HV4', 'IC1', 'IC2', 'IC3',\n",
       "       'IC4', 'IC5', 'VETERANS', 'NUMPROM', 'CARDPROM', 'CARDPM12', 'NUMPRM12',\n",
       "       'MAXADATE', 'RFA_2', 'NGIFTALL', 'TIMELAG', 'AVGGIFT'],\n",
       "      dtype='object')"
      ]
     },
     "execution_count": 15,
     "metadata": {},
     "output_type": "execute_result"
    }
   ],
   "source": [
    "df.columns"
   ]
  },
  {
   "cell_type": "markdown",
   "metadata": {},
   "source": [
    "## Imputing the income value (if its useful)"
   ]
  },
  {
   "cell_type": "code",
   "execution_count": 16,
   "metadata": {},
   "outputs": [
    {
     "data": {
      "image/png": "[encoded data removed]",
      "text/plain": [
       "<Figure size 432x432 with 3 Axes>"
      ]
     },
     "metadata": {
      "needs_background": "light"
     },
     "output_type": "display_data"
    }
   ],
   "source": [
    "sns.jointplot(x=df['INCOME'],y=df['AVGGIFT']);\n",
    "# as the chart shows, no clear evidence of a relationship between independent and dependent var"
   ]
  },
  {
   "cell_type": "code",
   "execution_count": 17,
   "metadata": {},
   "outputs": [
    {
     "data": {
      "text/plain": [
       "5.0    14639\n",
       "2.0    12482\n",
       "4.0    12092\n",
       "1.0     8646\n",
       "3.0     8135\n",
       "6.0     7347\n",
       "7.0     7045\n",
       "Name: INCOME, dtype: int64"
      ]
     },
     "execution_count": 17,
     "metadata": {},
     "output_type": "execute_result"
    }
   ],
   "source": [
    "df['INCOME'].value_counts()"
   ]
  },
  {
   "cell_type": "code",
   "execution_count": 18,
   "metadata": {},
   "outputs": [
    {
     "data": {
      "text/plain": [
       "3.8782570397522234"
      ]
     },
     "execution_count": 18,
     "metadata": {},
     "output_type": "execute_result"
    }
   ],
   "source": [
    "np.mean(df['INCOME'])"
   ]
  },
  {
   "cell_type": "markdown",
   "metadata": {},
   "source": [
    "- impute options : median / mean fill - bias, fill with most common value (MODE)\n",
    "- interpolate with pandas \n",
    "- predict the value using a model (each model is wrong but some are useful) - interpolation\n",
    "    "
   ]
  },
  {
   "cell_type": "code",
   "execution_count": 19,
   "metadata": {},
   "outputs": [],
   "source": [
    "# visualise \n",
    "# try something \n",
    "# visualise \n",
    "# try something else\n",
    "# visualise \n",
    "# pick the best option / least worst option"
   ]
  },
  {
   "cell_type": "code",
   "execution_count": 20,
   "metadata": {},
   "outputs": [],
   "source": [
    "new_income_1=df['INCOME'][0:40].interpolate(method='linear')"
   ]
  },
  {
   "cell_type": "code",
   "execution_count": 21,
   "metadata": {},
   "outputs": [
    {
     "data": {
      "text/plain": [
       "0          NaN\n",
       "1     6.000000\n",
       "2     3.000000\n",
       "3     1.000000\n",
       "4     3.000000\n",
       "5     3.500000\n",
       "6     4.000000\n",
       "7     2.000000\n",
       "8     3.000000\n",
       "9     2.500000\n",
       "10    2.000000\n",
       "11    1.000000\n",
       "12    4.000000\n",
       "13    4.000000\n",
       "14    4.000000\n",
       "15    1.000000\n",
       "16    1.000000\n",
       "17    7.000000\n",
       "18    4.000000\n",
       "19    3.000000\n",
       "20    2.000000\n",
       "21    3.666667\n",
       "22    5.333333\n",
       "23    7.000000\n",
       "24    7.000000\n",
       "25    7.000000\n",
       "26    7.000000\n",
       "27    7.000000\n",
       "28    4.000000\n",
       "29    1.000000\n",
       "30    4.000000\n",
       "31    4.000000\n",
       "32    4.000000\n",
       "33    4.000000\n",
       "34    4.000000\n",
       "35    5.000000\n",
       "36    6.000000\n",
       "37    3.000000\n",
       "38    3.000000\n",
       "39    3.000000\n",
       "Name: INCOME, dtype: float64"
      ]
     },
     "execution_count": 21,
     "metadata": {},
     "output_type": "execute_result"
    }
   ],
   "source": [
    "new_income_1"
   ]
  },
  {
   "cell_type": "code",
   "execution_count": 22,
   "metadata": {},
   "outputs": [],
   "source": [
    "points_2=df['INCOME'].fillna(np.mean(df['INCOME']))"
   ]
  },
  {
   "cell_type": "code",
   "execution_count": 23,
   "metadata": {},
   "outputs": [
    {
     "data": {
      "image/png": "[encoded data removed]",
      "text/plain": [
       "<Figure size 360x360 with 1 Axes>"
      ]
     },
     "metadata": {
      "needs_background": "light"
     },
     "output_type": "display_data"
    }
   ],
   "source": [
    "sns.displot(points_2);"
   ]
  },
  {
   "cell_type": "markdown",
   "metadata": {},
   "source": [
    "## Reduce the number of unique strings "
   ]
  },
  {
   "cell_type": "code",
   "execution_count": 24,
   "metadata": {},
   "outputs": [
    {
     "data": {
      "text/plain": [
       "CA    16284\n",
       "FL     7959\n",
       "TX     7166\n",
       "IL     6124\n",
       "MI     5375\n",
       "NC     3956\n",
       "WA     3383\n",
       "GA     3261\n",
       "IN     2855\n",
       "WI     2656\n",
       "MO     2583\n",
       "TN     2396\n",
       "AZ     2278\n",
       "MN     2081\n",
       "OR     2045\n",
       "CO     1929\n",
       "SC     1660\n",
       "AL     1627\n",
       "OK     1553\n",
       "KY     1542\n",
       "LA     1533\n",
       "KS     1233\n",
       "IA     1214\n",
       "AR      969\n",
       "MS      948\n",
       "NV      923\n",
       "NM      824\n",
       "NE      715\n",
       "UT      546\n",
       "ID      504\n",
       "MT      498\n",
       "HI      423\n",
       "SD      278\n",
       "AK      275\n",
       "WY      267\n",
       "ND      241\n",
       "AP       78\n",
       "NY       70\n",
       "VA       54\n",
       "OH       52\n",
       "PA       36\n",
       "MD       30\n",
       "MA       25\n",
       "NJ       24\n",
       "CT       20\n",
       "AA       15\n",
       "AE       14\n",
       "ME       11\n",
       "NH        8\n",
       "RI        6\n",
       "VT        6\n",
       "VI        5\n",
       "DE        3\n",
       "GU        3\n",
       "WV        3\n",
       "DC        1\n",
       "AS        1\n",
       "Name: STATE, dtype: int64"
      ]
     },
     "execution_count": 24,
     "metadata": {},
     "output_type": "execute_result"
    }
   ],
   "source": [
    "df['STATE'].value_counts()"
   ]
  },
  {
   "cell_type": "code",
   "execution_count": 25,
   "metadata": {},
   "outputs": [],
   "source": [
    "values=pd.DataFrame(df['STATE'].value_counts())"
   ]
  },
  {
   "cell_type": "code",
   "execution_count": 26,
   "metadata": {},
   "outputs": [],
   "source": [
    "values=values.reset_index()"
   ]
  },
  {
   "cell_type": "code",
   "execution_count": 27,
   "metadata": {},
   "outputs": [],
   "source": [
    "values.columns=['nameofstate','count']"
   ]
  },
  {
   "cell_type": "code",
   "execution_count": 28,
   "metadata": {},
   "outputs": [],
   "source": [
    "group_states=values[values['count']<1000]"
   ]
  },
  {
   "cell_type": "code",
   "execution_count": 29,
   "metadata": {},
   "outputs": [
    {
     "data": {
      "text/html": [
       "<div>\n",
       "<style scoped>\n",
       "    .dataframe tbody tr th:only-of-type {\n",
       "        vertical-align: middle;\n",
       "    }\n",
       "\n",
       "    .dataframe tbody tr th {\n",
       "        vertical-align: top;\n",
       "    }\n",
       "\n",
       "    .dataframe thead th {\n",
       "        text-align: right;\n",
       "    }\n",
       "</style>\n",
       "<table border=\"1\" class=\"dataframe\">\n",
       "  <thead>\n",
       "    <tr style=\"text-align: right;\">\n",
       "      <th></th>\n",
       "      <th>nameofstate</th>\n",
       "      <th>count</th>\n",
       "    </tr>\n",
       "  </thead>\n",
       "  <tbody>\n",
       "    <tr>\n",
       "      <th>23</th>\n",
       "      <td>AR</td>\n",
       "      <td>969</td>\n",
       "    </tr>\n",
       "    <tr>\n",
       "      <th>24</th>\n",
       "      <td>MS</td>\n",
       "      <td>948</td>\n",
       "    </tr>\n",
       "    <tr>\n",
       "      <th>25</th>\n",
       "      <td>NV</td>\n",
       "      <td>923</td>\n",
       "    </tr>\n",
       "    <tr>\n",
       "      <th>26</th>\n",
       "      <td>NM</td>\n",
       "      <td>824</td>\n",
       "    </tr>\n",
       "    <tr>\n",
       "      <th>27</th>\n",
       "      <td>NE</td>\n",
       "      <td>715</td>\n",
       "    </tr>\n",
       "  </tbody>\n",
       "</table>\n",
       "</div>"
      ],
      "text/plain": [
       "   nameofstate  count\n",
       "23          AR    969\n",
       "24          MS    948\n",
       "25          NV    923\n",
       "26          NM    824\n",
       "27          NE    715"
      ]
     },
     "execution_count": 29,
     "metadata": {},
     "output_type": "execute_result"
    }
   ],
   "source": [
    "group_states.head()"
   ]
  },
  {
   "cell_type": "code",
   "execution_count": 30,
   "metadata": {},
   "outputs": [],
   "source": [
    "group_states_l=list(group_states['nameofstate'])"
   ]
  },
  {
   "cell_type": "code",
   "execution_count": 31,
   "metadata": {},
   "outputs": [],
   "source": [
    "def groupthestate(x):\n",
    "    if x in group_states_l:\n",
    "        return 'other'\n",
    "    else:\n",
    "        return x "
   ]
  },
  {
   "cell_type": "code",
   "execution_count": 32,
   "metadata": {},
   "outputs": [],
   "source": [
    "df['STATE']=list(map(groupthestate,df['STATE']))"
   ]
  },
  {
   "cell_type": "code",
   "execution_count": 33,
   "metadata": {},
   "outputs": [
    {
     "data": {
      "text/plain": [
       "CA       16284\n",
       "FL        7959\n",
       "other     7876\n",
       "TX        7166\n",
       "IL        6124\n",
       "MI        5375\n",
       "NC        3956\n",
       "WA        3383\n",
       "GA        3261\n",
       "IN        2855\n",
       "WI        2656\n",
       "MO        2583\n",
       "TN        2396\n",
       "AZ        2278\n",
       "MN        2081\n",
       "OR        2045\n",
       "CO        1929\n",
       "SC        1660\n",
       "AL        1627\n",
       "OK        1553\n",
       "KY        1542\n",
       "LA        1533\n",
       "KS        1233\n",
       "IA        1214\n",
       "Name: STATE, dtype: int64"
      ]
     },
     "execution_count": 33,
     "metadata": {},
     "output_type": "execute_result"
    }
   ],
   "source": [
    "df['STATE'].value_counts()"
   ]
  },
  {
   "cell_type": "markdown",
   "metadata": {},
   "source": [
    "## Reduce the number of unique values - continuous (numbers)"
   ]
  },
  {
   "cell_type": "code",
   "execution_count": 34,
   "metadata": {},
   "outputs": [],
   "source": [
    "# we can also bucket numerical values using pd.qcut (quantiles-equal size groups) or pd.cut (custom)\n",
    "#method : \n",
    "df['IC4_CUT']=pd.qcut(df['IC4'], 4, labels=[\"one\", \"two\", \"three\", \"four\"])"
   ]
  },
  {
   "cell_type": "code",
   "execution_count": 35,
   "metadata": {},
   "outputs": [
    {
     "data": {
      "image/png": "[encoded data removed]",
      "text/plain": [
       "<Figure size 360x360 with 1 Axes>"
      ]
     },
     "metadata": {
      "needs_background": "light"
     },
     "output_type": "display_data"
    }
   ],
   "source": [
    "sns.displot(df['IC4']);"
   ]
  },
  {
   "cell_type": "code",
   "execution_count": 36,
   "metadata": {},
   "outputs": [
    {
     "data": {
      "image/png": "[encoded data removed]",
      "text/plain": [
       "<Figure size 360x360 with 1 Axes>"
      ]
     },
     "metadata": {
      "needs_background": "light"
     },
     "output_type": "display_data"
    }
   ],
   "source": [
    "sns.displot(df['IC4_CUT']);"
   ]
  },
  {
   "cell_type": "code",
   "execution_count": 37,
   "metadata": {},
   "outputs": [
    {
     "data": {
      "text/html": [
       "<div>\n",
       "<style scoped>\n",
       "    .dataframe tbody tr th:only-of-type {\n",
       "        vertical-align: middle;\n",
       "    }\n",
       "\n",
       "    .dataframe tbody tr th {\n",
       "        vertical-align: top;\n",
       "    }\n",
       "\n",
       "    .dataframe thead th {\n",
       "        text-align: right;\n",
       "    }\n",
       "</style>\n",
       "<table border=\"1\" class=\"dataframe\">\n",
       "  <thead>\n",
       "    <tr style=\"text-align: right;\">\n",
       "      <th></th>\n",
       "      <th>IC4</th>\n",
       "      <th>IC4_CUT</th>\n",
       "    </tr>\n",
       "  </thead>\n",
       "  <tbody>\n",
       "    <tr>\n",
       "      <th>0</th>\n",
       "      <td>378</td>\n",
       "      <td>two</td>\n",
       "    </tr>\n",
       "    <tr>\n",
       "      <th>1</th>\n",
       "      <td>1037</td>\n",
       "      <td>four</td>\n",
       "    </tr>\n",
       "    <tr>\n",
       "      <th>2</th>\n",
       "      <td>340</td>\n",
       "      <td>two</td>\n",
       "    </tr>\n",
       "    <tr>\n",
       "      <th>3</th>\n",
       "      <td>423</td>\n",
       "      <td>three</td>\n",
       "    </tr>\n",
       "    <tr>\n",
       "      <th>4</th>\n",
       "      <td>321</td>\n",
       "      <td>two</td>\n",
       "    </tr>\n",
       "    <tr>\n",
       "      <th>...</th>\n",
       "      <td>...</td>\n",
       "      <td>...</td>\n",
       "    </tr>\n",
       "    <tr>\n",
       "      <th>90564</th>\n",
       "      <td>334</td>\n",
       "      <td>two</td>\n",
       "    </tr>\n",
       "    <tr>\n",
       "      <th>90565</th>\n",
       "      <td>535</td>\n",
       "      <td>four</td>\n",
       "    </tr>\n",
       "    <tr>\n",
       "      <th>90566</th>\n",
       "      <td>849</td>\n",
       "      <td>four</td>\n",
       "    </tr>\n",
       "    <tr>\n",
       "      <th>90567</th>\n",
       "      <td>345</td>\n",
       "      <td>two</td>\n",
       "    </tr>\n",
       "    <tr>\n",
       "      <th>90568</th>\n",
       "      <td>519</td>\n",
       "      <td>four</td>\n",
       "    </tr>\n",
       "  </tbody>\n",
       "</table>\n",
       "<p>90569 rows × 2 columns</p>\n",
       "</div>"
      ],
      "text/plain": [
       "        IC4 IC4_CUT\n",
       "0       378     two\n",
       "1      1037    four\n",
       "2       340     two\n",
       "3       423   three\n",
       "4       321     two\n",
       "...     ...     ...\n",
       "90564   334     two\n",
       "90565   535    four\n",
       "90566   849    four\n",
       "90567   345     two\n",
       "90568   519    four\n",
       "\n",
       "[90569 rows x 2 columns]"
      ]
     },
     "execution_count": 37,
     "metadata": {},
     "output_type": "execute_result"
    }
   ],
   "source": [
    "df[['IC4','IC4_CUT']]"
   ]
  },
  {
   "cell_type": "markdown",
   "metadata": {},
   "source": [
    "##### thats all for today - we didnt get to VIF variation inflation factor, which checks categories for multicollinearity - but look at the useful code channel on slack for an article on this - the normal threshold is >10 "
   ]
  },
  {
   "cell_type": "markdown",
   "metadata": {},
   "source": [
    "## VIF - varianceinflation factor - multicollinearity for features"
   ]
  },
  {
   "cell_type": "code",
   "execution_count": 38,
   "metadata": {},
   "outputs": [],
   "source": [
    "from statsmodels.stats.outliers_influence import variance_inflation_factor\n",
    "from statsmodels.tools.tools import add_constant"
   ]
  },
  {
   "cell_type": "code",
   "execution_count": 39,
   "metadata": {},
   "outputs": [],
   "source": [
    "df=df.dropna() # quick method to remove nulls"
   ]
  },
  {
   "cell_type": "code",
   "execution_count": 40,
   "metadata": {},
   "outputs": [
    {
     "name": "stdout",
     "output_type": "stream",
     "text": [
      "<class 'pandas.core.frame.DataFrame'>\n",
      "Int64Index: 63150 entries, 1 to 90568\n",
      "Data columns (total 29 columns):\n",
      " #   Column    Non-Null Count  Dtype   \n",
      "---  ------    --------------  -----   \n",
      " 0   STATE     63150 non-null  object  \n",
      " 1   PVASTATE  63150 non-null  object  \n",
      " 2   DOB       63150 non-null  int64   \n",
      " 3   MDMAUD    63150 non-null  object  \n",
      " 4   RECP3     63150 non-null  object  \n",
      " 5   GENDER    63150 non-null  object  \n",
      " 6   DOMAIN    63150 non-null  object  \n",
      " 7   INCOME    63150 non-null  float64 \n",
      " 8   HOMEOWNR  63150 non-null  object  \n",
      " 9   HV1       63150 non-null  int64   \n",
      " 10  HV2       63150 non-null  int64   \n",
      " 11  HV3       63150 non-null  int64   \n",
      " 12  HV4       63150 non-null  int64   \n",
      " 13  IC1       63150 non-null  int64   \n",
      " 14  IC2       63150 non-null  int64   \n",
      " 15  IC3       63150 non-null  int64   \n",
      " 16  IC4       63150 non-null  int64   \n",
      " 17  IC5       63150 non-null  int64   \n",
      " 18  VETERANS  63150 non-null  object  \n",
      " 19  NUMPROM   63150 non-null  int64   \n",
      " 20  CARDPROM  63150 non-null  int64   \n",
      " 21  CARDPM12  63150 non-null  int64   \n",
      " 22  NUMPRM12  63150 non-null  int64   \n",
      " 23  MAXADATE  63150 non-null  int64   \n",
      " 24  RFA_2     63150 non-null  object  \n",
      " 25  NGIFTALL  63150 non-null  int64   \n",
      " 26  TIMELAG   63150 non-null  float64 \n",
      " 27  AVGGIFT   63150 non-null  float64 \n",
      " 28  IC4_CUT   63150 non-null  category\n",
      "dtypes: category(1), float64(3), int64(16), object(9)\n",
      "memory usage: 14.0+ MB\n"
     ]
    }
   ],
   "source": [
    "df.info()"
   ]
  },
  {
   "cell_type": "code",
   "execution_count": 41,
   "metadata": {},
   "outputs": [],
   "source": [
    "df_cat = df.select_dtypes(include=object)\n",
    "df_num = df.select_dtypes(include=np.number)"
   ]
  },
  {
   "cell_type": "code",
   "execution_count": 42,
   "metadata": {},
   "outputs": [],
   "source": [
    "df_cat=pd.get_dummies(df_cat,drop_first=True)"
   ]
  },
  {
   "cell_type": "code",
   "execution_count": 43,
   "metadata": {},
   "outputs": [
    {
     "data": {
      "text/html": [
       "<div>\n",
       "<style scoped>\n",
       "    .dataframe tbody tr th:only-of-type {\n",
       "        vertical-align: middle;\n",
       "    }\n",
       "\n",
       "    .dataframe tbody tr th {\n",
       "        vertical-align: top;\n",
       "    }\n",
       "\n",
       "    .dataframe thead th {\n",
       "        text-align: right;\n",
       "    }\n",
       "</style>\n",
       "<table border=\"1\" class=\"dataframe\">\n",
       "  <thead>\n",
       "    <tr style=\"text-align: right;\">\n",
       "      <th></th>\n",
       "      <th>STATE_AZ</th>\n",
       "      <th>STATE_CA</th>\n",
       "      <th>STATE_CO</th>\n",
       "      <th>STATE_FL</th>\n",
       "      <th>STATE_GA</th>\n",
       "      <th>STATE_IA</th>\n",
       "      <th>STATE_IL</th>\n",
       "      <th>STATE_IN</th>\n",
       "      <th>STATE_KS</th>\n",
       "      <th>STATE_KY</th>\n",
       "      <th>...</th>\n",
       "      <th>RFA_2_L2F</th>\n",
       "      <th>RFA_2_L2G</th>\n",
       "      <th>RFA_2_L3D</th>\n",
       "      <th>RFA_2_L3E</th>\n",
       "      <th>RFA_2_L3F</th>\n",
       "      <th>RFA_2_L3G</th>\n",
       "      <th>RFA_2_L4D</th>\n",
       "      <th>RFA_2_L4E</th>\n",
       "      <th>RFA_2_L4F</th>\n",
       "      <th>RFA_2_L4G</th>\n",
       "    </tr>\n",
       "  </thead>\n",
       "  <tbody>\n",
       "    <tr>\n",
       "      <th>1</th>\n",
       "      <td>0</td>\n",
       "      <td>1</td>\n",
       "      <td>0</td>\n",
       "      <td>0</td>\n",
       "      <td>0</td>\n",
       "      <td>0</td>\n",
       "      <td>0</td>\n",
       "      <td>0</td>\n",
       "      <td>0</td>\n",
       "      <td>0</td>\n",
       "      <td>...</td>\n",
       "      <td>0</td>\n",
       "      <td>1</td>\n",
       "      <td>0</td>\n",
       "      <td>0</td>\n",
       "      <td>0</td>\n",
       "      <td>0</td>\n",
       "      <td>0</td>\n",
       "      <td>0</td>\n",
       "      <td>0</td>\n",
       "      <td>0</td>\n",
       "    </tr>\n",
       "  </tbody>\n",
       "</table>\n",
       "<p>1 rows × 88 columns</p>\n",
       "</div>"
      ],
      "text/plain": [
       "   STATE_AZ  STATE_CA  STATE_CO  STATE_FL  STATE_GA  STATE_IA  STATE_IL  \\\n",
       "1         0         1         0         0         0         0         0   \n",
       "\n",
       "   STATE_IN  STATE_KS  STATE_KY  ...  RFA_2_L2F  RFA_2_L2G  RFA_2_L3D  \\\n",
       "1         0         0         0  ...          0          1          0   \n",
       "\n",
       "   RFA_2_L3E  RFA_2_L3F  RFA_2_L3G  RFA_2_L4D  RFA_2_L4E  RFA_2_L4F  RFA_2_L4G  \n",
       "1          0          0          0          0          0          0          0  \n",
       "\n",
       "[1 rows x 88 columns]"
      ]
     },
     "execution_count": 43,
     "metadata": {},
     "output_type": "execute_result"
    }
   ],
   "source": [
    "df_cat.head(1)"
   ]
  },
  {
   "cell_type": "code",
   "execution_count": 44,
   "metadata": {},
   "outputs": [
    {
     "data": {
      "text/html": [
       "<div>\n",
       "<style scoped>\n",
       "    .dataframe tbody tr th:only-of-type {\n",
       "        vertical-align: middle;\n",
       "    }\n",
       "\n",
       "    .dataframe tbody tr th {\n",
       "        vertical-align: top;\n",
       "    }\n",
       "\n",
       "    .dataframe thead th {\n",
       "        text-align: right;\n",
       "    }\n",
       "</style>\n",
       "<table border=\"1\" class=\"dataframe\">\n",
       "  <thead>\n",
       "    <tr style=\"text-align: right;\">\n",
       "      <th></th>\n",
       "      <th>DOB</th>\n",
       "      <th>INCOME</th>\n",
       "      <th>HV1</th>\n",
       "      <th>HV2</th>\n",
       "      <th>HV3</th>\n",
       "      <th>HV4</th>\n",
       "      <th>IC1</th>\n",
       "      <th>IC2</th>\n",
       "      <th>IC3</th>\n",
       "      <th>IC4</th>\n",
       "      <th>IC5</th>\n",
       "      <th>NUMPROM</th>\n",
       "      <th>CARDPROM</th>\n",
       "      <th>CARDPM12</th>\n",
       "      <th>NUMPRM12</th>\n",
       "      <th>MAXADATE</th>\n",
       "      <th>NGIFTALL</th>\n",
       "      <th>TIMELAG</th>\n",
       "      <th>AVGGIFT</th>\n",
       "    </tr>\n",
       "  </thead>\n",
       "  <tbody>\n",
       "    <tr>\n",
       "      <th>1</th>\n",
       "      <td>5202</td>\n",
       "      <td>6.0</td>\n",
       "      <td>5468</td>\n",
       "      <td>5218</td>\n",
       "      <td>12</td>\n",
       "      <td>10</td>\n",
       "      <td>1088</td>\n",
       "      <td>1096</td>\n",
       "      <td>1026</td>\n",
       "      <td>1037</td>\n",
       "      <td>36175</td>\n",
       "      <td>32</td>\n",
       "      <td>12</td>\n",
       "      <td>6</td>\n",
       "      <td>13</td>\n",
       "      <td>9702</td>\n",
       "      <td>3</td>\n",
       "      <td>18.0</td>\n",
       "      <td>15.666667</td>\n",
       "    </tr>\n",
       "  </tbody>\n",
       "</table>\n",
       "</div>"
      ],
      "text/plain": [
       "    DOB  INCOME   HV1   HV2  HV3  HV4   IC1   IC2   IC3   IC4    IC5  NUMPROM  \\\n",
       "1  5202     6.0  5468  5218   12   10  1088  1096  1026  1037  36175       32   \n",
       "\n",
       "   CARDPROM  CARDPM12  NUMPRM12  MAXADATE  NGIFTALL  TIMELAG    AVGGIFT  \n",
       "1        12         6        13      9702         3     18.0  15.666667  "
      ]
     },
     "execution_count": 44,
     "metadata": {},
     "output_type": "execute_result"
    }
   ],
   "source": [
    "df_num.head(1)"
   ]
  },
  {
   "cell_type": "code",
   "execution_count": 45,
   "metadata": {},
   "outputs": [],
   "source": [
    "df_full=pd.concat([df_cat,df_num],axis=1)"
   ]
  },
  {
   "cell_type": "code",
   "execution_count": 46,
   "metadata": {},
   "outputs": [
    {
     "data": {
      "text/html": [
       "<div>\n",
       "<style scoped>\n",
       "    .dataframe tbody tr th:only-of-type {\n",
       "        vertical-align: middle;\n",
       "    }\n",
       "\n",
       "    .dataframe tbody tr th {\n",
       "        vertical-align: top;\n",
       "    }\n",
       "\n",
       "    .dataframe thead th {\n",
       "        text-align: right;\n",
       "    }\n",
       "</style>\n",
       "<table border=\"1\" class=\"dataframe\">\n",
       "  <thead>\n",
       "    <tr style=\"text-align: right;\">\n",
       "      <th></th>\n",
       "      <th>STATE_AZ</th>\n",
       "      <th>STATE_CA</th>\n",
       "      <th>STATE_CO</th>\n",
       "      <th>STATE_FL</th>\n",
       "      <th>STATE_GA</th>\n",
       "      <th>STATE_IA</th>\n",
       "      <th>STATE_IL</th>\n",
       "      <th>STATE_IN</th>\n",
       "      <th>STATE_KS</th>\n",
       "      <th>STATE_KY</th>\n",
       "      <th>...</th>\n",
       "      <th>IC4</th>\n",
       "      <th>IC5</th>\n",
       "      <th>NUMPROM</th>\n",
       "      <th>CARDPROM</th>\n",
       "      <th>CARDPM12</th>\n",
       "      <th>NUMPRM12</th>\n",
       "      <th>MAXADATE</th>\n",
       "      <th>NGIFTALL</th>\n",
       "      <th>TIMELAG</th>\n",
       "      <th>AVGGIFT</th>\n",
       "    </tr>\n",
       "  </thead>\n",
       "  <tbody>\n",
       "    <tr>\n",
       "      <th>1</th>\n",
       "      <td>0</td>\n",
       "      <td>1</td>\n",
       "      <td>0</td>\n",
       "      <td>0</td>\n",
       "      <td>0</td>\n",
       "      <td>0</td>\n",
       "      <td>0</td>\n",
       "      <td>0</td>\n",
       "      <td>0</td>\n",
       "      <td>0</td>\n",
       "      <td>...</td>\n",
       "      <td>1037</td>\n",
       "      <td>36175</td>\n",
       "      <td>32</td>\n",
       "      <td>12</td>\n",
       "      <td>6</td>\n",
       "      <td>13</td>\n",
       "      <td>9702</td>\n",
       "      <td>3</td>\n",
       "      <td>18.0</td>\n",
       "      <td>15.666667</td>\n",
       "    </tr>\n",
       "    <tr>\n",
       "      <th>2</th>\n",
       "      <td>0</td>\n",
       "      <td>0</td>\n",
       "      <td>0</td>\n",
       "      <td>0</td>\n",
       "      <td>0</td>\n",
       "      <td>0</td>\n",
       "      <td>0</td>\n",
       "      <td>0</td>\n",
       "      <td>0</td>\n",
       "      <td>0</td>\n",
       "      <td>...</td>\n",
       "      <td>340</td>\n",
       "      <td>11576</td>\n",
       "      <td>63</td>\n",
       "      <td>26</td>\n",
       "      <td>6</td>\n",
       "      <td>14</td>\n",
       "      <td>9702</td>\n",
       "      <td>27</td>\n",
       "      <td>12.0</td>\n",
       "      <td>7.481481</td>\n",
       "    </tr>\n",
       "    <tr>\n",
       "      <th>3</th>\n",
       "      <td>0</td>\n",
       "      <td>1</td>\n",
       "      <td>0</td>\n",
       "      <td>0</td>\n",
       "      <td>0</td>\n",
       "      <td>0</td>\n",
       "      <td>0</td>\n",
       "      <td>0</td>\n",
       "      <td>0</td>\n",
       "      <td>0</td>\n",
       "      <td>...</td>\n",
       "      <td>423</td>\n",
       "      <td>15130</td>\n",
       "      <td>66</td>\n",
       "      <td>27</td>\n",
       "      <td>6</td>\n",
       "      <td>14</td>\n",
       "      <td>9702</td>\n",
       "      <td>16</td>\n",
       "      <td>9.0</td>\n",
       "      <td>6.812500</td>\n",
       "    </tr>\n",
       "    <tr>\n",
       "      <th>4</th>\n",
       "      <td>0</td>\n",
       "      <td>0</td>\n",
       "      <td>0</td>\n",
       "      <td>1</td>\n",
       "      <td>0</td>\n",
       "      <td>0</td>\n",
       "      <td>0</td>\n",
       "      <td>0</td>\n",
       "      <td>0</td>\n",
       "      <td>0</td>\n",
       "      <td>...</td>\n",
       "      <td>321</td>\n",
       "      <td>9836</td>\n",
       "      <td>113</td>\n",
       "      <td>43</td>\n",
       "      <td>10</td>\n",
       "      <td>25</td>\n",
       "      <td>9702</td>\n",
       "      <td>37</td>\n",
       "      <td>14.0</td>\n",
       "      <td>6.864865</td>\n",
       "    </tr>\n",
       "    <tr>\n",
       "      <th>6</th>\n",
       "      <td>0</td>\n",
       "      <td>0</td>\n",
       "      <td>0</td>\n",
       "      <td>0</td>\n",
       "      <td>0</td>\n",
       "      <td>0</td>\n",
       "      <td>0</td>\n",
       "      <td>1</td>\n",
       "      <td>0</td>\n",
       "      <td>0</td>\n",
       "      <td>...</td>\n",
       "      <td>311</td>\n",
       "      <td>10717</td>\n",
       "      <td>63</td>\n",
       "      <td>26</td>\n",
       "      <td>4</td>\n",
       "      <td>9</td>\n",
       "      <td>9702</td>\n",
       "      <td>14</td>\n",
       "      <td>4.0</td>\n",
       "      <td>7.642857</td>\n",
       "    </tr>\n",
       "  </tbody>\n",
       "</table>\n",
       "<p>5 rows × 107 columns</p>\n",
       "</div>"
      ],
      "text/plain": [
       "   STATE_AZ  STATE_CA  STATE_CO  STATE_FL  STATE_GA  STATE_IA  STATE_IL  \\\n",
       "1         0         1         0         0         0         0         0   \n",
       "2         0         0         0         0         0         0         0   \n",
       "3         0         1         0         0         0         0         0   \n",
       "4         0         0         0         1         0         0         0   \n",
       "6         0         0         0         0         0         0         0   \n",
       "\n",
       "   STATE_IN  STATE_KS  STATE_KY  ...   IC4    IC5  NUMPROM  CARDPROM  \\\n",
       "1         0         0         0  ...  1037  36175       32        12   \n",
       "2         0         0         0  ...   340  11576       63        26   \n",
       "3         0         0         0  ...   423  15130       66        27   \n",
       "4         0         0         0  ...   321   9836      113        43   \n",
       "6         1         0         0  ...   311  10717       63        26   \n",
       "\n",
       "   CARDPM12  NUMPRM12  MAXADATE  NGIFTALL  TIMELAG    AVGGIFT  \n",
       "1         6        13      9702         3     18.0  15.666667  \n",
       "2         6        14      9702        27     12.0   7.481481  \n",
       "3         6        14      9702        16      9.0   6.812500  \n",
       "4        10        25      9702        37     14.0   6.864865  \n",
       "6         4         9      9702        14      4.0   7.642857  \n",
       "\n",
       "[5 rows x 107 columns]"
      ]
     },
     "execution_count": 46,
     "metadata": {},
     "output_type": "execute_result"
    }
   ],
   "source": [
    "df_full.head(5)"
   ]
  },
  {
   "cell_type": "code",
   "execution_count": 47,
   "metadata": {},
   "outputs": [],
   "source": [
    "vif={}\n",
    "df_full = add_constant(df_full) # just add a column with a constant"
   ]
  },
  {
   "cell_type": "code",
   "execution_count": 48,
   "metadata": {},
   "outputs": [
    {
     "data": {
      "text/html": [
       "<div>\n",
       "<style scoped>\n",
       "    .dataframe tbody tr th:only-of-type {\n",
       "        vertical-align: middle;\n",
       "    }\n",
       "\n",
       "    .dataframe tbody tr th {\n",
       "        vertical-align: top;\n",
       "    }\n",
       "\n",
       "    .dataframe thead th {\n",
       "        text-align: right;\n",
       "    }\n",
       "</style>\n",
       "<table border=\"1\" class=\"dataframe\">\n",
       "  <thead>\n",
       "    <tr style=\"text-align: right;\">\n",
       "      <th></th>\n",
       "      <th>const</th>\n",
       "      <th>STATE_AZ</th>\n",
       "      <th>STATE_CA</th>\n",
       "      <th>STATE_CO</th>\n",
       "      <th>STATE_FL</th>\n",
       "      <th>STATE_GA</th>\n",
       "      <th>STATE_IA</th>\n",
       "      <th>STATE_IL</th>\n",
       "      <th>STATE_IN</th>\n",
       "      <th>STATE_KS</th>\n",
       "      <th>...</th>\n",
       "      <th>IC4</th>\n",
       "      <th>IC5</th>\n",
       "      <th>NUMPROM</th>\n",
       "      <th>CARDPROM</th>\n",
       "      <th>CARDPM12</th>\n",
       "      <th>NUMPRM12</th>\n",
       "      <th>MAXADATE</th>\n",
       "      <th>NGIFTALL</th>\n",
       "      <th>TIMELAG</th>\n",
       "      <th>AVGGIFT</th>\n",
       "    </tr>\n",
       "  </thead>\n",
       "  <tbody>\n",
       "    <tr>\n",
       "      <th>1</th>\n",
       "      <td>1.0</td>\n",
       "      <td>0</td>\n",
       "      <td>1</td>\n",
       "      <td>0</td>\n",
       "      <td>0</td>\n",
       "      <td>0</td>\n",
       "      <td>0</td>\n",
       "      <td>0</td>\n",
       "      <td>0</td>\n",
       "      <td>0</td>\n",
       "      <td>...</td>\n",
       "      <td>1037</td>\n",
       "      <td>36175</td>\n",
       "      <td>32</td>\n",
       "      <td>12</td>\n",
       "      <td>6</td>\n",
       "      <td>13</td>\n",
       "      <td>9702</td>\n",
       "      <td>3</td>\n",
       "      <td>18.0</td>\n",
       "      <td>15.666667</td>\n",
       "    </tr>\n",
       "  </tbody>\n",
       "</table>\n",
       "<p>1 rows × 108 columns</p>\n",
       "</div>"
      ],
      "text/plain": [
       "   const  STATE_AZ  STATE_CA  STATE_CO  STATE_FL  STATE_GA  STATE_IA  \\\n",
       "1    1.0         0         1         0         0         0         0   \n",
       "\n",
       "   STATE_IL  STATE_IN  STATE_KS  ...   IC4    IC5  NUMPROM  CARDPROM  \\\n",
       "1         0         0         0  ...  1037  36175       32        12   \n",
       "\n",
       "   CARDPM12  NUMPRM12  MAXADATE  NGIFTALL  TIMELAG    AVGGIFT  \n",
       "1         6        13      9702         3     18.0  15.666667  \n",
       "\n",
       "[1 rows x 108 columns]"
      ]
     },
     "execution_count": 48,
     "metadata": {},
     "output_type": "execute_result"
    }
   ],
   "source": [
    "df_full.head(1)"
   ]
  },
  {
   "cell_type": "code",
   "execution_count": 49,
   "metadata": {},
   "outputs": [],
   "source": [
    "for i in np.arange(df_full.shape[1]): # df.shape[1] gives the length of the columns, 0 gives the length of rows.\n",
    "    column_name = df_full.columns[i]\n",
    "    value=variance_inflation_factor(np.array(df_full),i)\n",
    "    vif[column_name]=value"
   ]
  },
  {
   "cell_type": "code",
   "execution_count": 50,
   "metadata": {},
   "outputs": [],
   "source": [
    "# VIF - dictionary\n",
    "sorted_vif = dict(sorted(vif.items(), key=lambda item:item[1]))"
   ]
  },
  {
   "cell_type": "code",
   "execution_count": 51,
   "metadata": {
    "collapsed": true
   },
   "outputs": [
    {
     "data": {
      "text/plain": [
       "{'PVASTATE_E': 1.0047602848553225,\n",
       " 'MAXADATE': 1.019690942629758,\n",
       " 'MDMAUD_C2LM': 1.0240407612619844,\n",
       " 'MDMAUD_C5MM': 1.024358241896627,\n",
       " 'MDMAUD_C1MM': 1.0246347778282878,\n",
       " 'MDMAUD_I5MM': 1.0266346046864452,\n",
       " 'MDMAUD_C5CM': 1.026882311706676,\n",
       " 'VETERANS_Y': 1.0283507119651285,\n",
       " 'MDMAUD_C5TM': 1.03840560001667,\n",
       " 'MDMAUD_I2MM': 1.039647099009281,\n",
       " 'MDMAUD_I1LM': 1.0491103726408173,\n",
       " 'TIMELAG': 1.0498526374481187,\n",
       " 'MDMAUD_I5CM': 1.061875477563666,\n",
       " 'MDMAUD_D2MM': 1.0726821514927156,\n",
       " 'MDMAUD_C2MM': 1.0760950896247061,\n",
       " 'MDMAUD_D5TM': 1.0790294317355256,\n",
       " 'MDMAUD_D5CM': 1.0831908678299644,\n",
       " 'MDMAUD_D5MM': 1.1191452631209782,\n",
       " 'MDMAUD_I2CM': 1.1209640179724052,\n",
       " 'MDMAUD_L1MM': 1.1298870717031835,\n",
       " 'MDMAUD_L1LM': 1.1420982015187169,\n",
       " 'MDMAUD_C1LM': 1.164254835418514,\n",
       " 'DOB': 1.1708818094945839,\n",
       " 'RECP3_X': 1.21038475071244,\n",
       " 'RFA_2_L4G': 1.2329445231436431,\n",
       " 'PVASTATE_P': 1.304004549429707,\n",
       " 'MDMAUD_D1CM': 1.329405604936052,\n",
       " 'MDMAUD_L2CM': 1.3715998469165847,\n",
       " 'MDMAUD_D2CM': 1.375688147406773,\n",
       " 'RFA_2_L3G': 1.3965144778043121,\n",
       " 'MDMAUD_C2CM': 1.3979084659672814,\n",
       " 'INCOME': 1.4687646103430971,\n",
       " 'RFA_2_L4F': 1.4712183967681978,\n",
       " 'RFA_2_L3D': 1.4832882213172134,\n",
       " 'MDMAUD_I1CM': 1.58771488196696,\n",
       " 'DOMAIN_R1': 1.6136006189681138,\n",
       " 'STATE_KS': 1.758987500198878,\n",
       " 'DOMAIN_U4': 1.7913679978597263,\n",
       " 'STATE_IA': 1.830512651272104,\n",
       " 'RFA_2_L3F': 1.8363045327387069,\n",
       " 'DOMAIN_S3': 1.8544964484006887,\n",
       " 'MDMAUD_L1CM': 1.867281271500031,\n",
       " 'STATE_OK': 1.8848301870051023,\n",
       " 'RFA_2_L4E': 1.911069303286528,\n",
       " 'RFA_2_L2E': 1.9782341020736791,\n",
       " 'STATE_LA': 2.002699339885888,\n",
       " 'STATE_KY': 2.033231159675366,\n",
       " 'STATE_SC': 2.0395743369118295,\n",
       " 'DOMAIN_T3': 2.093241406075034,\n",
       " 'GENDER_C': 2.09585938887734,\n",
       " 'RFA_2_L4D': 2.1072850032169463,\n",
       " 'DOMAIN_U3': 2.1477638560620314,\n",
       " 'STATE_OR': 2.154505629685148,\n",
       " 'RFA_2_L2G': 2.2415365567951784,\n",
       " 'STATE_CO': 2.2622282906126134,\n",
       " 'AVGGIFT': 2.301936071056915,\n",
       " 'DOMAIN_U2': 2.3806823377515087,\n",
       " 'STATE_MN': 2.405306000490377,\n",
       " 'STATE_AZ': 2.453567740951685,\n",
       " 'STATE_TN': 2.556985926005996,\n",
       " 'STATE_MO': 2.7125813672180836,\n",
       " 'STATE_IN': 2.7146400883504245,\n",
       " 'RFA_2_L3E': 2.7593421931486897,\n",
       " 'CARDPM12': 2.78263136849706,\n",
       " 'STATE_GA': 2.82420985177935,\n",
       " 'STATE_WI': 2.860646668114774,\n",
       " 'DOMAIN_U1': 2.958968459899866,\n",
       " 'STATE_WA': 2.992212961893294,\n",
       " 'DOMAIN_R3': 3.2567173411739456,\n",
       " 'DOMAIN_T1': 3.2926090190171906,\n",
       " 'RFA_2_L2F': 3.3764436854057216,\n",
       " 'DOMAIN_C3': 3.4385284605294197,\n",
       " 'RFA_2_L1G': 3.5160821126169393,\n",
       " 'STATE_NC': 3.5167655699196425,\n",
       " 'DOMAIN_C1': 3.7569208959735856,\n",
       " 'NGIFTALL': 4.041679959623411,\n",
       " 'STATE_MI': 4.500585927500227,\n",
       " 'DOMAIN_C2': 4.543819490680807,\n",
       " 'DOMAIN_S2': 4.663105379250468,\n",
       " 'RFA_2_L1F': 4.839100587065342,\n",
       " 'STATE_IL': 4.853198971970089,\n",
       " 'NUMPRM12': 4.99660522903707,\n",
       " 'MDMAUD_XXXX': 5.088270492064952,\n",
       " 'STATE_other': 5.304682471103917,\n",
       " 'STATE_TX': 5.332975860103617,\n",
       " 'STATE_FL': 5.777843373602647,\n",
       " 'DOMAIN_S1': 5.783903433353265,\n",
       " 'IC5': 5.889855112758153,\n",
       " 'DOMAIN_T2': 6.063615503046514,\n",
       " 'DOMAIN_R2': 6.588369196213645,\n",
       " 'STATE_CA': 10.569756246228133,\n",
       " 'HV4': 10.68758555718243,\n",
       " 'HV3': 11.328553461631657,\n",
       " 'HOMEOWNR_U': 16.810271952111837,\n",
       " 'HOMEOWNR_H': 16.818208231269935,\n",
       " 'CARDPROM': 18.750601607972282,\n",
       " 'NUMPROM': 24.667639935344077,\n",
       " 'IC2': 44.844558655533596,\n",
       " 'IC1': 51.73270810908394,\n",
       " 'IC4': 76.45588248072418,\n",
       " 'HV1': 91.3470144170479,\n",
       " 'IC3': 92.0923868464853,\n",
       " 'HV2': 98.76592651363026,\n",
       " 'GENDER_J': 287.6445586211519,\n",
       " 'GENDER_U': 1589.0465848121887,\n",
       " 'GENDER_M': 16914.504591742938,\n",
       " 'GENDER_F': 17139.609073525684,\n",
       " 'const': 23707413.09865422}"
      ]
     },
     "execution_count": 51,
     "metadata": {},
     "output_type": "execute_result"
    }
   ],
   "source": [
    "sorted_vif"
   ]
  },
  {
   "cell_type": "markdown",
   "metadata": {},
   "source": [
    "## feature extraction"
   ]
  },
  {
   "cell_type": "code",
   "execution_count": 52,
   "metadata": {
    "collapsed": true
   },
   "outputs": [
    {
     "data": {
      "text/plain": [
       "['STATE',\n",
       " 'PVASTATE',\n",
       " 'DOB',\n",
       " 'MDMAUD',\n",
       " 'RECP3',\n",
       " 'GENDER',\n",
       " 'DOMAIN',\n",
       " 'INCOME',\n",
       " 'HOMEOWNR',\n",
       " 'HV1',\n",
       " 'HV2',\n",
       " 'HV3',\n",
       " 'HV4',\n",
       " 'IC1',\n",
       " 'IC2',\n",
       " 'IC3',\n",
       " 'IC4',\n",
       " 'IC5',\n",
       " 'VETERANS',\n",
       " 'NUMPROM',\n",
       " 'CARDPROM',\n",
       " 'CARDPM12',\n",
       " 'NUMPRM12',\n",
       " 'MAXADATE',\n",
       " 'RFA_2',\n",
       " 'NGIFTALL',\n",
       " 'TIMELAG',\n",
       " 'AVGGIFT',\n",
       " 'IC4_CUT']"
      ]
     },
     "execution_count": 52,
     "metadata": {},
     "output_type": "execute_result"
    }
   ],
   "source": [
    "list(df.columns)"
   ]
  },
  {
   "cell_type": "code",
   "execution_count": 53,
   "metadata": {
    "collapsed": true
   },
   "outputs": [
    {
     "data": {
      "text/plain": [
       "array([5202,    0, 2801, 2001, 6001, 2301, 2603, 2709, 5401, 5201, 3601,\n",
       "       4307, 1401, 4809, 2601, 2904, 1002, 1311, 6801, 5310, 4611,  908,\n",
       "       3001, 1411, 5210, 3703, 5801, 5001, 6201, 5701, 1805, 1801, 4403,\n",
       "       2512, 3605, 5101, 4401, 6501, 3501, 3812, 2101, 1101, 4707,  809,\n",
       "       1408, 2909, 3901, 2006, 1206, 4612, 3701, 3201, 2108, 2901, 7201,\n",
       "       2201, 3607, 2701, 2503, 1201, 5901, 2501, 1507, 2207, 6410, 1502,\n",
       "        512, 2408, 3004, 5605, 1701, 4801, 4201, 5710, 1902, 6101, 3708,\n",
       "       3101, 3006, 1003, 5601, 5301, 5312, 5812, 2401, 6401, 4001, 4901,\n",
       "       3401, 1305, 1911, 1604, 3309, 4501, 3711, 2303, 2710, 2308, 1509,\n",
       "       1912, 4903, 3102, 6310, 3105, 4709, 6107, 5208, 3312, 1510, 1001,\n",
       "       4211, 1309, 4610,  401, 2910, 4602, 4301, 1105, 4212, 2310, 3912,\n",
       "       3410, 2411, 4312, 3905,  506, 3301, 1610, 4101, 1904, 1504, 2809,\n",
       "       1503, 4406, 1108, 4601, 1601, 2506, 3005,  812, 1506, 4605, 5502,\n",
       "       5905, 4812, 2607, 1106, 2009,  101, 4909,  801, 1006, 5705, 1501,\n",
       "       4003, 2104, 3801, 1412, 1212, 2807, 3502, 4701, 2612, 5108,  704,\n",
       "       4706, 1004, 2109, 5010, 1901, 1607, 6106,  602, 5106, 3904,  901,\n",
       "       5410, 7001, 6601, 7609, 3207, 1208,  708, 2010, 1807, 4311, 1908,\n",
       "       2511, 1705, 2309, 1107, 2504, 5212, 2406, 1301, 2905, 1605, 6301,\n",
       "       3412, 4206, 1511, 3012, 2209, 4006, 4302, 5412, 2902, 5408, 1608,\n",
       "       6804, 6403,  808, 6806, 2305, 1007,  701, 4412, 3107, 2202, 5512,\n",
       "       2609, 1603, 4712, 4112, 3809, 3611,  601, 1512, 4209, 6111, 3304,\n",
       "       1910, 1909, 3903, 4009,  909, 1809, 1611,  912, 5305, 1103, 2208,\n",
       "       3411, 2410, 3011, 6505, 3807, 3504, 4603, 2907, 4710, 1505, 6701,\n",
       "       2606, 5509, 2811, 2707,  406, 1804, 2912, 7401, 3507, 2112,  612,\n",
       "       1712, 6710,  811, 5506, 1307,  201, 1906, 3108, 4802, 5501, 5803,\n",
       "       1409,  802, 3704, 2407, 5909, 1403, 6004, 1706, 1612,  711, 1402,\n",
       "        407, 3205, 2211, 5012, 2102, 1112, 4308,  312, 1710, 6005, 6707,\n",
       "       3303, 2307, 5103, 3403, 2103, 4508, 1202, 2812, 4105, 3407,  907,\n",
       "       4510, 1306, 2702, 5608, 3911, 4409, 3705, 2304, 1005, 6211, 4703,\n",
       "       7004,  707, 3712, 3608, 4609, 3803, 5510, 5805, 2402, 5609, 1606,\n",
       "       1209, 3302, 6405, 3902, 5005, 4005, 1707, 1008, 5602, 5402, 2505,\n",
       "       2604, 2608, 6208, 6103, 2911, 1702, 1703, 4702, 5704, 2205, 5404,\n",
       "       5711, 2110, 2312, 6904, 1806, 5311, 6602, 6503, 5504, 4506, 2903,\n",
       "       4007, 6712, 1109, 6009, 5712, 3509, 2302,  307, 1407, 1808, 5811,\n",
       "       4502, 2605, 6306, 2105, 2602, 1810, 5309, 3907, 5611, 6109, 1410,\n",
       "       4110, 1207, 5610, 6609,    1, 2804, 5004,  705, 2510, 2412, 3208,\n",
       "       6010, 5907, 2004, 5908, 2003, 6007, 5303, 3602, 4708, 4910, 2311,\n",
       "       1508, 4012,  109,  106, 6901, 3109, 5508, 1802, 1104,  301, 2204,\n",
       "       4511, 2806, 1203, 5007, 5804, 5807, 6206, 2306, 5204, 2203, 5708,\n",
       "       5211, 4109, 2906, 3910, 1812, 3702,  311, 1704, 5111, 3110, 5002,\n",
       "       5003, 1205, 4604, 5102, 2808, 6409, 2409, 1102, 5403, 5306, 4805,\n",
       "       2802, 5505, 6203, 2509, 5006, 3111, 5903, 3511,  609, 3811, 2803,\n",
       "        607, 4002, 4711, 1803, 2711, 4011, 1811, 1009,  505, 3209, 3709,\n",
       "       3405, 1110, 3112,  604, 3802, 2908, 3106, 5511, 5207, 1204, 4810,\n",
       "       2712, 6311, 1011, 4208, 3104, 1210, 1903, 3308,  208, 3710, 5707,\n",
       "        507, 1308,  501, 5009, 3003, 4205, 2404, 2610, 2106, 4309, 5706,\n",
       "       1404, 2107, 1211, 6708,  608, 5112, 5411, 6507, 3008, 5109, 5703,\n",
       "       4408, 2011, 1406, 4704, 3706, 4608, 6011, 1711, 6008, 5307, 2703,\n",
       "        111, 3604, 2206, 4912, 4811, 2403, 3103, 4107, 7906, 3202, 2210,\n",
       "       3306,  502, 6012,  807, 1602, 6304, 3810, 4103, 5107, 2706, 2002,\n",
       "       4404, 3007, 1905, 5406,  510, 5902, 4607, 3408, 2005, 3505, 3409,\n",
       "       3707, 1310, 2405,  509,  803, 3808, 4902, 4407, 5110, 2507, 3906,\n",
       "        411, 1907, 3612, 4010, 2611, 6305, 4509, 4304, 2708, 5802, 5105,\n",
       "       1609, 7301, 1304, 6411, 2111, 3211, 4306, 2007, 6112, 2805, 5507,\n",
       "       5810,  804, 3908, 4207, 2810, 3609, 4911, 4106, 3210, 3305, 3512,\n",
       "        904, 2012,  212, 3009, 3508, 1111, 3510, 3002,  306,  902, 6212,\n",
       "        305, 3909, 5904, 4305,  405, 1709, 4402, 6607, 1012, 4808,  310,\n",
       "       3805, 4204, 5203,  206, 5604,  703, 5709, 7008, 4908, 3404, 3311,\n",
       "       5603,  408, 3506, 5612, 4411, 6105, 3212,  710, 5607, 4606, 3610,\n",
       "       1708, 4906, 5308, 6209, 2508, 2008, 3503, 4203, 5809, 1303, 7501,\n",
       "       3406, 3010, 4310, 7101, 1405, 6309,  709, 5104,  906, 5806,  403,\n",
       "        409, 5011,  606, 4907,  905, 4804, 6511,  611, 4410, 2704, 6207,\n",
       "       4210, 5205, 5906,  404, 3206, 4004, 7601, 6905, 1302, 4505, 7302,\n",
       "       3603, 7503,  108, 5503, 7511, 8408, 4512, 2705, 5409,  511, 4904,\n",
       "       6202, 3806, 6302,  806,  209,  508, 4104, 6006, 6506,  702, 6402,\n",
       "       5912,  107, 6807, 6308, 6110, 3804,  302,  805, 5209, 4102, 7801,\n",
       "       2502, 5702, 3307, 6407, 4803, 1312,  810, 8004, 4008, 4503, 6504,\n",
       "        910, 3204, 6604, 4303, 4705, 7402,  203, 6611, 5910, 5304, 2212,\n",
       "       3402, 1010,  207, 4507,  504, 6408, 6910, 7701,  202,  503, 5606,\n",
       "       7111, 8703,  911, 5008,  706, 7002, 6205, 4202, 6307, 5407, 6909,\n",
       "       9508, 6508, 4108, 6303, 3203, 6312, 7203, 6406,  712, 5206, 4905,\n",
       "       4405, 3310, 7106, 6102, 4111, 5808, 6703, 5302,  603, 4807,  309,\n",
       "        210, 4504, 3606,  112,  610,  410, 6104, 7507, 6803, 6705, 7602,\n",
       "       6210, 7012,  605, 6704, 7104, 7006, 4806, 6810, 7108, 5405, 7403,\n",
       "       6612,  304, 6002, 5911, 6605, 6510,  205, 6902, 6608, 6808, 6903,\n",
       "       6711, 6805,  903, 6906,  402, 6811,  412,  104,  110,   10, 6108,\n",
       "       9612, 6412, 6809, 6204, 7005, 9706, 6003, 6606,  204, 8105, 8610,\n",
       "       9009, 6404, 7308,  105, 7208, 7504, 7204,    8,  102, 7309, 6603,\n",
       "        103,    6, 9704, 6502, 7102, 6812, 7003, 7603, 7304, 7405,  303,\n",
       "       6512, 6709, 9708, 7209, 7909, 6702, 7810, 6908, 9206, 6802, 7205,\n",
       "       7710, 7311,  308, 9611, 6911, 8708, 6907,  211, 9710, 7404,    5,\n",
       "       7412, 6610, 7007,   11, 6509, 8106, 9309, 9507, 7107,   12, 8403,\n",
       "       7109, 7010, 7211, 7608, 7206, 7312, 9701, 9509, 7307, 7606, 7009,\n",
       "       8112, 7202,    7, 9012, 7105, 8912,    2, 7705,    9, 9502, 6706,\n",
       "       9501, 8611, 8405, 6912, 7807, 9601, 7410, 8505, 8203, 9610, 7502,\n",
       "       7103, 8011], dtype=int64)"
      ]
     },
     "execution_count": 53,
     "metadata": {},
     "output_type": "execute_result"
    }
   ],
   "source": [
    "df['DOB'].unique()"
   ]
  },
  {
   "cell_type": "markdown",
   "metadata": {},
   "source": [
    "### getting the age"
   ]
  },
  {
   "cell_type": "code",
   "execution_count": 63,
   "metadata": {},
   "outputs": [],
   "source": [
    "def get_age(x):\n",
    "    if len(str(x)) not in (3,4):\n",
    "        return 1\n",
    "    else:\n",
    "        if x%100 < 13:\n",
    "            return 1997 - int('19'+str(x)[:2])\n",
    "        "
   ]
  },
  {
   "cell_type": "code",
   "execution_count": 66,
   "metadata": {},
   "outputs": [],
   "source": [
    "df['age']=list(map(get_age,df['DOB']))"
   ]
  },
  {
   "cell_type": "code",
   "execution_count": 67,
   "metadata": {},
   "outputs": [
    {
     "data": {
      "text/plain": [
       "1        45\n",
       "2         1\n",
       "3        69\n",
       "4        77\n",
       "6        37\n",
       "         ..\n",
       "90559    85\n",
       "90560    69\n",
       "90562    52\n",
       "90564    49\n",
       "90568    79\n",
       "Name: age, Length: 63150, dtype: int64"
      ]
     },
     "execution_count": 67,
     "metadata": {},
     "output_type": "execute_result"
    }
   ],
   "source": [
    "df['age']"
   ]
  },
  {
   "cell_type": "code",
   "execution_count": 68,
   "metadata": {},
   "outputs": [
    {
     "data": {
      "image/png": "[encoded data removed]",
      "text/plain": [
       "<Figure size 360x360 with 1 Axes>"
      ]
     },
     "metadata": {
      "needs_background": "light"
     },
     "output_type": "display_data"
    }
   ],
   "source": [
    "sns.displot(df['age']);"
   ]
  },
  {
   "cell_type": "code",
   "execution_count": 69,
   "metadata": {},
   "outputs": [
    {
     "data": {
      "image/png": "[encoded data removed]",
      "text/plain": [
       "<Figure size 432x432 with 3 Axes>"
      ]
     },
     "metadata": {
      "needs_background": "light"
     },
     "output_type": "display_data"
    }
   ],
   "source": [
    "sns.jointplot(x=df['age'], y=df['AVGGIFT']);"
   ]
  }
 ],
 "metadata": {
  "kernelspec": {
   "display_name": "Python 3",
   "language": "python",
   "name": "python3"
  },
  "language_info": {
   "codemirror_mode": {
    "name": "ipython",
    "version": 3
   },
   "file_extension": ".py",
   "mimetype": "text/x-python",
   "name": "python",
   "nbconvert_exporter": "python",
   "pygments_lexer": "ipython3",
   "version": "3.8.5"
  },
  "toc": {
   "base_numbering": 1,
   "nav_menu": {},
   "number_sections": true,
   "sideBar": true,
   "skip_h1_title": false,
   "title_cell": "Table of Contents",
   "title_sidebar": "Contents",
   "toc_cell": false,
   "toc_position": {},
   "toc_section_display": true,
   "toc_window_display": false
  },
  "varInspector": {
   "cols": {
    "lenName": 16,
    "lenType": 16,
    "lenVar": 40
   },
   "kernels_config": {
    "python": {
     "delete_cmd_postfix": "",
     "delete_cmd_prefix": "del ",
     "library": "var_list.py",
     "varRefreshCmd": "print(var_dic_list())"
    },
    "r": {
     "delete_cmd_postfix": ") ",
     "delete_cmd_prefix": "rm(",
     "library": "var_list.r",
     "varRefreshCmd": "cat(var_dic_list()) "
    }
   },
   "oldHeight": 380.819,
   "position": {
    "height": "40px",
    "left": "984px",
    "right": "20px",
    "top": "1px",
    "width": "346px"
   },
   "types_to_exclude": [
    "module",
    "function",
    "builtin_function_or_method",
    "instance",
    "_Feature"
   ],
   "varInspector_section_display": "none",
   "window_display": true
  }
 },
 "nbformat": 4,
 "nbformat_minor": 5
}
